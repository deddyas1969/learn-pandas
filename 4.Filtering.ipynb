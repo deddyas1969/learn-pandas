{
 "cells": [
  {
   "cell_type": "code",
   "execution_count": 1,
   "id": "46c758d9-140f-47dd-8698-6470a328409e",
   "metadata": {},
   "outputs": [],
   "source": [
    "people = {\n",
    "    'first':['dudung','eman','Bobi'],\n",
    "    'last':['suherman', 'suherman','Subobi'],\n",
    "    'email':['dudung@gmail.com','emangnye@gmail.com','bobie2yahoo.com']\n",
    "}"
   ]
  },
  {
   "cell_type": "code",
   "execution_count": 2,
   "id": "c4ccd7e0-ba99-4b58-9878-aac5fe72d065",
   "metadata": {},
   "outputs": [],
   "source": [
    "import pandas as pd"
   ]
  },
  {
   "cell_type": "code",
   "execution_count": 3,
   "id": "892f1ef0-a5c5-4503-a3c4-db8aff932617",
   "metadata": {},
   "outputs": [],
   "source": [
    "df = pd.DataFrame(people)"
   ]
  },
  {
   "cell_type": "code",
   "execution_count": 4,
   "id": "73d0566e-83a1-4420-9d8c-4d6ecf7f1a21",
   "metadata": {},
   "outputs": [
    {
     "data": {
      "text/html": [
       "<div>\n",
       "<style scoped>\n",
       "    .dataframe tbody tr th:only-of-type {\n",
       "        vertical-align: middle;\n",
       "    }\n",
       "\n",
       "    .dataframe tbody tr th {\n",
       "        vertical-align: top;\n",
       "    }\n",
       "\n",
       "    .dataframe thead th {\n",
       "        text-align: right;\n",
       "    }\n",
       "</style>\n",
       "<table border=\"1\" class=\"dataframe\">\n",
       "  <thead>\n",
       "    <tr style=\"text-align: right;\">\n",
       "      <th></th>\n",
       "      <th>first</th>\n",
       "      <th>last</th>\n",
       "      <th>email</th>\n",
       "    </tr>\n",
       "  </thead>\n",
       "  <tbody>\n",
       "    <tr>\n",
       "      <th>0</th>\n",
       "      <td>dudung</td>\n",
       "      <td>suherman</td>\n",
       "      <td>dudung@gmail.com</td>\n",
       "    </tr>\n",
       "    <tr>\n",
       "      <th>1</th>\n",
       "      <td>eman</td>\n",
       "      <td>suherman</td>\n",
       "      <td>emangnye@gmail.com</td>\n",
       "    </tr>\n",
       "    <tr>\n",
       "      <th>2</th>\n",
       "      <td>Bobi</td>\n",
       "      <td>Subobi</td>\n",
       "      <td>bobie2yahoo.com</td>\n",
       "    </tr>\n",
       "  </tbody>\n",
       "</table>\n",
       "</div>"
      ],
      "text/plain": [
       "    first      last               email\n",
       "0  dudung  suherman    dudung@gmail.com\n",
       "1    eman  suherman  emangnye@gmail.com\n",
       "2    Bobi    Subobi     bobie2yahoo.com"
      ]
     },
     "execution_count": 4,
     "metadata": {},
     "output_type": "execute_result"
    }
   ],
   "source": [
    "df"
   ]
  },
  {
   "cell_type": "markdown",
   "id": "bf1e5bc8-b2a0-4c67-a9ae-0183f2e22e85",
   "metadata": {},
   "source": [
    "#### melihat status baris yang memiliki last name suherman"
   ]
  },
  {
   "cell_type": "code",
   "execution_count": 5,
   "id": "ae805950-cb5a-4e28-bd8c-2a3001b572e2",
   "metadata": {},
   "outputs": [
    {
     "data": {
      "text/plain": [
       "0     True\n",
       "1     True\n",
       "2    False\n",
       "Name: last, dtype: bool"
      ]
     },
     "execution_count": 5,
     "metadata": {},
     "output_type": "execute_result"
    }
   ],
   "source": [
    "df['last'] == 'suherman'"
   ]
  },
  {
   "cell_type": "markdown",
   "id": "8b162642-4632-4a23-990b-873662f53724",
   "metadata": {},
   "source": [
    "#### mem filter /menampilkan baris yang memiliki nama Suherman"
   ]
  },
  {
   "cell_type": "code",
   "execution_count": 6,
   "id": "196f26f0-9811-4b91-bdd5-741c36807894",
   "metadata": {},
   "outputs": [],
   "source": [
    "filt = (df['last'] == 'suherman')"
   ]
  },
  {
   "cell_type": "code",
   "execution_count": 7,
   "id": "6b2d2e26-6a3d-4675-bc6d-b9304bbc312b",
   "metadata": {},
   "outputs": [
    {
     "data": {
      "text/html": [
       "<div>\n",
       "<style scoped>\n",
       "    .dataframe tbody tr th:only-of-type {\n",
       "        vertical-align: middle;\n",
       "    }\n",
       "\n",
       "    .dataframe tbody tr th {\n",
       "        vertical-align: top;\n",
       "    }\n",
       "\n",
       "    .dataframe thead th {\n",
       "        text-align: right;\n",
       "    }\n",
       "</style>\n",
       "<table border=\"1\" class=\"dataframe\">\n",
       "  <thead>\n",
       "    <tr style=\"text-align: right;\">\n",
       "      <th></th>\n",
       "      <th>first</th>\n",
       "      <th>last</th>\n",
       "      <th>email</th>\n",
       "    </tr>\n",
       "  </thead>\n",
       "  <tbody>\n",
       "    <tr>\n",
       "      <th>0</th>\n",
       "      <td>dudung</td>\n",
       "      <td>suherman</td>\n",
       "      <td>dudung@gmail.com</td>\n",
       "    </tr>\n",
       "    <tr>\n",
       "      <th>1</th>\n",
       "      <td>eman</td>\n",
       "      <td>suherman</td>\n",
       "      <td>emangnye@gmail.com</td>\n",
       "    </tr>\n",
       "  </tbody>\n",
       "</table>\n",
       "</div>"
      ],
      "text/plain": [
       "    first      last               email\n",
       "0  dudung  suherman    dudung@gmail.com\n",
       "1    eman  suherman  emangnye@gmail.com"
      ]
     },
     "execution_count": 7,
     "metadata": {},
     "output_type": "execute_result"
    }
   ],
   "source": [
    "df[filt]"
   ]
  },
  {
   "cell_type": "markdown",
   "id": "09532411-4999-4d70-ae94-81702bd3fe39",
   "metadata": {},
   "source": [
    "#### Bisa juga dengan method sbb"
   ]
  },
  {
   "cell_type": "code",
   "execution_count": 8,
   "id": "23b64f89-5062-4915-9785-32f29525c05a",
   "metadata": {},
   "outputs": [
    {
     "data": {
      "text/html": [
       "<div>\n",
       "<style scoped>\n",
       "    .dataframe tbody tr th:only-of-type {\n",
       "        vertical-align: middle;\n",
       "    }\n",
       "\n",
       "    .dataframe tbody tr th {\n",
       "        vertical-align: top;\n",
       "    }\n",
       "\n",
       "    .dataframe thead th {\n",
       "        text-align: right;\n",
       "    }\n",
       "</style>\n",
       "<table border=\"1\" class=\"dataframe\">\n",
       "  <thead>\n",
       "    <tr style=\"text-align: right;\">\n",
       "      <th></th>\n",
       "      <th>first</th>\n",
       "      <th>last</th>\n",
       "      <th>email</th>\n",
       "    </tr>\n",
       "  </thead>\n",
       "  <tbody>\n",
       "    <tr>\n",
       "      <th>0</th>\n",
       "      <td>dudung</td>\n",
       "      <td>suherman</td>\n",
       "      <td>dudung@gmail.com</td>\n",
       "    </tr>\n",
       "    <tr>\n",
       "      <th>1</th>\n",
       "      <td>eman</td>\n",
       "      <td>suherman</td>\n",
       "      <td>emangnye@gmail.com</td>\n",
       "    </tr>\n",
       "  </tbody>\n",
       "</table>\n",
       "</div>"
      ],
      "text/plain": [
       "    first      last               email\n",
       "0  dudung  suherman    dudung@gmail.com\n",
       "1    eman  suherman  emangnye@gmail.com"
      ]
     },
     "execution_count": 8,
     "metadata": {},
     "output_type": "execute_result"
    }
   ],
   "source": [
    "df.loc[filt]"
   ]
  },
  {
   "cell_type": "markdown",
   "id": "3a838a1f-eb89-424e-ba8d-911d4f046a4c",
   "metadata": {},
   "source": [
    "#### tadi khan variable filt dengan rumus\n",
    "#### filt = (df['last'] == 'suherman')"
   ]
  },
  {
   "cell_type": "code",
   "execution_count": 9,
   "id": "57e67741-82bc-4171-b208-b9fe9daf71ac",
   "metadata": {},
   "outputs": [
    {
     "data": {
      "text/html": [
       "<div>\n",
       "<style scoped>\n",
       "    .dataframe tbody tr th:only-of-type {\n",
       "        vertical-align: middle;\n",
       "    }\n",
       "\n",
       "    .dataframe tbody tr th {\n",
       "        vertical-align: top;\n",
       "    }\n",
       "\n",
       "    .dataframe thead th {\n",
       "        text-align: right;\n",
       "    }\n",
       "</style>\n",
       "<table border=\"1\" class=\"dataframe\">\n",
       "  <thead>\n",
       "    <tr style=\"text-align: right;\">\n",
       "      <th></th>\n",
       "      <th>first</th>\n",
       "      <th>last</th>\n",
       "      <th>email</th>\n",
       "    </tr>\n",
       "  </thead>\n",
       "  <tbody>\n",
       "    <tr>\n",
       "      <th>0</th>\n",
       "      <td>dudung</td>\n",
       "      <td>suherman</td>\n",
       "      <td>dudung@gmail.com</td>\n",
       "    </tr>\n",
       "    <tr>\n",
       "      <th>1</th>\n",
       "      <td>eman</td>\n",
       "      <td>suherman</td>\n",
       "      <td>emangnye@gmail.com</td>\n",
       "    </tr>\n",
       "  </tbody>\n",
       "</table>\n",
       "</div>"
      ],
      "text/plain": [
       "    first      last               email\n",
       "0  dudung  suherman    dudung@gmail.com\n",
       "1    eman  suherman  emangnye@gmail.com"
      ]
     },
     "execution_count": 9,
     "metadata": {},
     "output_type": "execute_result"
    }
   ],
   "source": [
    "df[filt]"
   ]
  },
  {
   "cell_type": "markdown",
   "id": "09b228b4-77d6-4555-8ad3-6d81366e21dd",
   "metadata": {},
   "source": [
    "#### sekarang kita menambahkan fungsi dan \"&\" , atau \"|\""
   ]
  },
  {
   "cell_type": "markdown",
   "id": "54ac8199-11a1-4558-aeeb-f849b7987fa3",
   "metadata": {},
   "source": [
    "#### kita ingin mencari first name dudung dan last name suherman "
   ]
  },
  {
   "cell_type": "code",
   "execution_count": 12,
   "id": "8d231b01-72a1-4353-80df-3e9909b4ff8d",
   "metadata": {},
   "outputs": [],
   "source": [
    "filt = (df['last'] == 'suherman') & (df['first'] == 'dudung')"
   ]
  },
  {
   "cell_type": "code",
   "execution_count": 13,
   "id": "46ed75a6-e69a-4850-93b0-24cc7ff99924",
   "metadata": {},
   "outputs": [
    {
     "data": {
      "text/html": [
       "<div>\n",
       "<style scoped>\n",
       "    .dataframe tbody tr th:only-of-type {\n",
       "        vertical-align: middle;\n",
       "    }\n",
       "\n",
       "    .dataframe tbody tr th {\n",
       "        vertical-align: top;\n",
       "    }\n",
       "\n",
       "    .dataframe thead th {\n",
       "        text-align: right;\n",
       "    }\n",
       "</style>\n",
       "<table border=\"1\" class=\"dataframe\">\n",
       "  <thead>\n",
       "    <tr style=\"text-align: right;\">\n",
       "      <th></th>\n",
       "      <th>first</th>\n",
       "      <th>last</th>\n",
       "      <th>email</th>\n",
       "    </tr>\n",
       "  </thead>\n",
       "  <tbody>\n",
       "    <tr>\n",
       "      <th>0</th>\n",
       "      <td>dudung</td>\n",
       "      <td>suherman</td>\n",
       "      <td>dudung@gmail.com</td>\n",
       "    </tr>\n",
       "  </tbody>\n",
       "</table>\n",
       "</div>"
      ],
      "text/plain": [
       "    first      last             email\n",
       "0  dudung  suherman  dudung@gmail.com"
      ]
     },
     "execution_count": 13,
     "metadata": {},
     "output_type": "execute_result"
    }
   ],
   "source": [
    "df[filt]"
   ]
  },
  {
   "cell_type": "markdown",
   "id": "91b6e65f-474f-4d32-b75b-29ac0f8f91ce",
   "metadata": {},
   "source": [
    "#### sekarang kita mencari orang yang memiliki nama depan dudung atau eman"
   ]
  },
  {
   "cell_type": "code",
   "execution_count": 14,
   "id": "e2c6ea60-5a84-4e5c-bb84-e85c3a93a633",
   "metadata": {},
   "outputs": [],
   "source": [
    "filt = (df['first'] == 'eman') | (df['first'] == 'dudung')"
   ]
  },
  {
   "cell_type": "code",
   "execution_count": 15,
   "id": "de5f5dd4-e943-477e-83d6-6f90425091b0",
   "metadata": {},
   "outputs": [
    {
     "data": {
      "text/html": [
       "<div>\n",
       "<style scoped>\n",
       "    .dataframe tbody tr th:only-of-type {\n",
       "        vertical-align: middle;\n",
       "    }\n",
       "\n",
       "    .dataframe tbody tr th {\n",
       "        vertical-align: top;\n",
       "    }\n",
       "\n",
       "    .dataframe thead th {\n",
       "        text-align: right;\n",
       "    }\n",
       "</style>\n",
       "<table border=\"1\" class=\"dataframe\">\n",
       "  <thead>\n",
       "    <tr style=\"text-align: right;\">\n",
       "      <th></th>\n",
       "      <th>first</th>\n",
       "      <th>last</th>\n",
       "      <th>email</th>\n",
       "    </tr>\n",
       "  </thead>\n",
       "  <tbody>\n",
       "    <tr>\n",
       "      <th>0</th>\n",
       "      <td>dudung</td>\n",
       "      <td>suherman</td>\n",
       "      <td>dudung@gmail.com</td>\n",
       "    </tr>\n",
       "    <tr>\n",
       "      <th>1</th>\n",
       "      <td>eman</td>\n",
       "      <td>suherman</td>\n",
       "      <td>emangnye@gmail.com</td>\n",
       "    </tr>\n",
       "  </tbody>\n",
       "</table>\n",
       "</div>"
      ],
      "text/plain": [
       "    first      last               email\n",
       "0  dudung  suherman    dudung@gmail.com\n",
       "1    eman  suherman  emangnye@gmail.com"
      ]
     },
     "execution_count": 15,
     "metadata": {},
     "output_type": "execute_result"
    }
   ],
   "source": [
    "df[filt]"
   ]
  },
  {
   "cell_type": "markdown",
   "id": "82df092e-1d21-426c-82f1-5b805a66a1a7",
   "metadata": {},
   "source": [
    "#### menampilkan hanya email saja "
   ]
  },
  {
   "cell_type": "code",
   "execution_count": 16,
   "id": "1565f099-3582-4a96-b2ac-fd1ee0ac26b0",
   "metadata": {},
   "outputs": [
    {
     "data": {
      "text/plain": [
       "0      dudung@gmail.com\n",
       "1    emangnye@gmail.com\n",
       "Name: email, dtype: object"
      ]
     },
     "execution_count": 16,
     "metadata": {},
     "output_type": "execute_result"
    }
   ],
   "source": [
    "df.loc[filt,'email']"
   ]
  },
  {
   "cell_type": "markdown",
   "id": "b288de4f-8c8c-4c66-9bc9-c9eafdbe3bd9",
   "metadata": {},
   "source": [
    "#### Kita ke data besar untuk menerapkan Filter ini"
   ]
  },
  {
   "cell_type": "code",
   "execution_count": null,
   "id": "794510b4-bcb4-45fe-ba44-ed743ee8bd21",
   "metadata": {},
   "outputs": [],
   "source": []
  }
 ],
 "metadata": {
  "kernelspec": {
   "display_name": "Python 3 (ipykernel)",
   "language": "python",
   "name": "python3"
  },
  "language_info": {
   "codemirror_mode": {
    "name": "ipython",
    "version": 3
   },
   "file_extension": ".py",
   "mimetype": "text/x-python",
   "name": "python",
   "nbconvert_exporter": "python",
   "pygments_lexer": "ipython3",
   "version": "3.12.4"
  }
 },
 "nbformat": 4,
 "nbformat_minor": 5
}
