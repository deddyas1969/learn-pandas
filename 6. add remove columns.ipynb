{
 "cells": [
  {
   "cell_type": "code",
   "execution_count": 1,
   "id": "8890d505-e2ff-45b4-b2b0-8f17b036194d",
   "metadata": {},
   "outputs": [],
   "source": [
    "people = {\n",
    "    'first':['dudung','eman','Bobi'],\n",
    "    'last':['suherman', 'suherman','Subobi'],\n",
    "    'email':['dudung@gmail.com','emangnye@gmail.com','bobie2yahoo.com']\n",
    "}"
   ]
  },
  {
   "cell_type": "code",
   "execution_count": 2,
   "id": "9d6dad3c-24ae-418f-bde8-f9222183f190",
   "metadata": {},
   "outputs": [],
   "source": [
    "import pandas as pd"
   ]
  },
  {
   "cell_type": "code",
   "execution_count": 3,
   "id": "12b8426f-c2d5-460d-a72e-c4cf3661b6e1",
   "metadata": {},
   "outputs": [],
   "source": [
    "df = pd.DataFrame(people)"
   ]
  },
  {
   "cell_type": "code",
   "execution_count": 4,
   "id": "03f796a5-9fc3-40b1-93d7-ccbabeb889e3",
   "metadata": {},
   "outputs": [
    {
     "data": {
      "text/html": [
       "<div>\n",
       "<style scoped>\n",
       "    .dataframe tbody tr th:only-of-type {\n",
       "        vertical-align: middle;\n",
       "    }\n",
       "\n",
       "    .dataframe tbody tr th {\n",
       "        vertical-align: top;\n",
       "    }\n",
       "\n",
       "    .dataframe thead th {\n",
       "        text-align: right;\n",
       "    }\n",
       "</style>\n",
       "<table border=\"1\" class=\"dataframe\">\n",
       "  <thead>\n",
       "    <tr style=\"text-align: right;\">\n",
       "      <th></th>\n",
       "      <th>first</th>\n",
       "      <th>last</th>\n",
       "      <th>email</th>\n",
       "    </tr>\n",
       "  </thead>\n",
       "  <tbody>\n",
       "    <tr>\n",
       "      <th>0</th>\n",
       "      <td>dudung</td>\n",
       "      <td>suherman</td>\n",
       "      <td>dudung@gmail.com</td>\n",
       "    </tr>\n",
       "    <tr>\n",
       "      <th>1</th>\n",
       "      <td>eman</td>\n",
       "      <td>suherman</td>\n",
       "      <td>emangnye@gmail.com</td>\n",
       "    </tr>\n",
       "    <tr>\n",
       "      <th>2</th>\n",
       "      <td>Bobi</td>\n",
       "      <td>Subobi</td>\n",
       "      <td>bobie2yahoo.com</td>\n",
       "    </tr>\n",
       "  </tbody>\n",
       "</table>\n",
       "</div>"
      ],
      "text/plain": [
       "    first      last               email\n",
       "0  dudung  suherman    dudung@gmail.com\n",
       "1    eman  suherman  emangnye@gmail.com\n",
       "2    Bobi    Subobi     bobie2yahoo.com"
      ]
     },
     "execution_count": 4,
     "metadata": {},
     "output_type": "execute_result"
    }
   ],
   "source": [
    "df"
   ]
  },
  {
   "cell_type": "markdown",
   "id": "6cee5d6d-34d6-4ce8-89af-1e600d4b87d6",
   "metadata": {},
   "source": [
    "#### Menambah kolom baru di data frame"
   ]
  },
  {
   "cell_type": "markdown",
   "id": "2ae045e5-3bec-4005-88a5-bbfbbce376c9",
   "metadata": {},
   "source": [
    "#### Tapi sebelumnya kita test dulu hasilnya"
   ]
  },
  {
   "cell_type": "code",
   "execution_count": 5,
   "id": "3c0840b7-26a0-4cf7-a8fa-00efed064f07",
   "metadata": {},
   "outputs": [
    {
     "data": {
      "text/plain": [
       "0    dudung suherman\n",
       "1      eman suherman\n",
       "2        Bobi Subobi\n",
       "dtype: object"
      ]
     },
     "execution_count": 5,
     "metadata": {},
     "output_type": "execute_result"
    }
   ],
   "source": [
    "df['first'] + ' ' + df['last']"
   ]
  },
  {
   "cell_type": "markdown",
   "id": "688916dc-ca79-41a7-9d82-ca25361cf0ff",
   "metadata": {},
   "source": [
    "#### baru kita patenkan"
   ]
  },
  {
   "cell_type": "code",
   "execution_count": 6,
   "id": "59744a5b-75fe-4be6-b7c0-2cd0550fc8ca",
   "metadata": {},
   "outputs": [],
   "source": [
    "df['full_name'] = df['first'] + ' ' + df['last']"
   ]
  },
  {
   "cell_type": "code",
   "execution_count": 7,
   "id": "440621a3-ddd5-49ca-a570-3d03c0d2a990",
   "metadata": {},
   "outputs": [
    {
     "data": {
      "text/html": [
       "<div>\n",
       "<style scoped>\n",
       "    .dataframe tbody tr th:only-of-type {\n",
       "        vertical-align: middle;\n",
       "    }\n",
       "\n",
       "    .dataframe tbody tr th {\n",
       "        vertical-align: top;\n",
       "    }\n",
       "\n",
       "    .dataframe thead th {\n",
       "        text-align: right;\n",
       "    }\n",
       "</style>\n",
       "<table border=\"1\" class=\"dataframe\">\n",
       "  <thead>\n",
       "    <tr style=\"text-align: right;\">\n",
       "      <th></th>\n",
       "      <th>first</th>\n",
       "      <th>last</th>\n",
       "      <th>email</th>\n",
       "      <th>full_name</th>\n",
       "    </tr>\n",
       "  </thead>\n",
       "  <tbody>\n",
       "    <tr>\n",
       "      <th>0</th>\n",
       "      <td>dudung</td>\n",
       "      <td>suherman</td>\n",
       "      <td>dudung@gmail.com</td>\n",
       "      <td>dudung suherman</td>\n",
       "    </tr>\n",
       "    <tr>\n",
       "      <th>1</th>\n",
       "      <td>eman</td>\n",
       "      <td>suherman</td>\n",
       "      <td>emangnye@gmail.com</td>\n",
       "      <td>eman suherman</td>\n",
       "    </tr>\n",
       "    <tr>\n",
       "      <th>2</th>\n",
       "      <td>Bobi</td>\n",
       "      <td>Subobi</td>\n",
       "      <td>bobie2yahoo.com</td>\n",
       "      <td>Bobi Subobi</td>\n",
       "    </tr>\n",
       "  </tbody>\n",
       "</table>\n",
       "</div>"
      ],
      "text/plain": [
       "    first      last               email        full_name\n",
       "0  dudung  suherman    dudung@gmail.com  dudung suherman\n",
       "1    eman  suherman  emangnye@gmail.com    eman suherman\n",
       "2    Bobi    Subobi     bobie2yahoo.com      Bobi Subobi"
      ]
     },
     "execution_count": 7,
     "metadata": {},
     "output_type": "execute_result"
    }
   ],
   "source": [
    "df"
   ]
  },
  {
   "cell_type": "markdown",
   "id": "bf68cec2-81d4-4b0c-8362-e86f622b8ef1",
   "metadata": {},
   "source": [
    "#### Membuang kolom"
   ]
  },
  {
   "cell_type": "code",
   "execution_count": 8,
   "id": "8a32c2f8-647a-4fe5-8fce-3ca110e9daa6",
   "metadata": {},
   "outputs": [
    {
     "data": {
      "text/html": [
       "<div>\n",
       "<style scoped>\n",
       "    .dataframe tbody tr th:only-of-type {\n",
       "        vertical-align: middle;\n",
       "    }\n",
       "\n",
       "    .dataframe tbody tr th {\n",
       "        vertical-align: top;\n",
       "    }\n",
       "\n",
       "    .dataframe thead th {\n",
       "        text-align: right;\n",
       "    }\n",
       "</style>\n",
       "<table border=\"1\" class=\"dataframe\">\n",
       "  <thead>\n",
       "    <tr style=\"text-align: right;\">\n",
       "      <th></th>\n",
       "      <th>email</th>\n",
       "      <th>full_name</th>\n",
       "    </tr>\n",
       "  </thead>\n",
       "  <tbody>\n",
       "    <tr>\n",
       "      <th>0</th>\n",
       "      <td>dudung@gmail.com</td>\n",
       "      <td>dudung suherman</td>\n",
       "    </tr>\n",
       "    <tr>\n",
       "      <th>1</th>\n",
       "      <td>emangnye@gmail.com</td>\n",
       "      <td>eman suherman</td>\n",
       "    </tr>\n",
       "    <tr>\n",
       "      <th>2</th>\n",
       "      <td>bobie2yahoo.com</td>\n",
       "      <td>Bobi Subobi</td>\n",
       "    </tr>\n",
       "  </tbody>\n",
       "</table>\n",
       "</div>"
      ],
      "text/plain": [
       "                email        full_name\n",
       "0    dudung@gmail.com  dudung suherman\n",
       "1  emangnye@gmail.com    eman suherman\n",
       "2     bobie2yahoo.com      Bobi Subobi"
      ]
     },
     "execution_count": 8,
     "metadata": {},
     "output_type": "execute_result"
    }
   ],
   "source": [
    "df.drop(columns=['first','last'])"
   ]
  },
  {
   "cell_type": "markdown",
   "id": "0c445f00-f907-45f5-a858-115372e70bb2",
   "metadata": {},
   "source": [
    "#### Supaya pembuangan kolom ini, tetap sifatnya, kita tambahkan inplace=True"
   ]
  },
  {
   "cell_type": "code",
   "execution_count": 9,
   "id": "e559fe05-03dd-4049-9daf-278b8449f1d1",
   "metadata": {},
   "outputs": [],
   "source": [
    "df.drop(columns=['first','last'], inplace=True)"
   ]
  },
  {
   "cell_type": "code",
   "execution_count": 10,
   "id": "d39120bd-7297-48c7-baa7-f3337a8e4afe",
   "metadata": {},
   "outputs": [
    {
     "data": {
      "text/html": [
       "<div>\n",
       "<style scoped>\n",
       "    .dataframe tbody tr th:only-of-type {\n",
       "        vertical-align: middle;\n",
       "    }\n",
       "\n",
       "    .dataframe tbody tr th {\n",
       "        vertical-align: top;\n",
       "    }\n",
       "\n",
       "    .dataframe thead th {\n",
       "        text-align: right;\n",
       "    }\n",
       "</style>\n",
       "<table border=\"1\" class=\"dataframe\">\n",
       "  <thead>\n",
       "    <tr style=\"text-align: right;\">\n",
       "      <th></th>\n",
       "      <th>email</th>\n",
       "      <th>full_name</th>\n",
       "    </tr>\n",
       "  </thead>\n",
       "  <tbody>\n",
       "    <tr>\n",
       "      <th>0</th>\n",
       "      <td>dudung@gmail.com</td>\n",
       "      <td>dudung suherman</td>\n",
       "    </tr>\n",
       "    <tr>\n",
       "      <th>1</th>\n",
       "      <td>emangnye@gmail.com</td>\n",
       "      <td>eman suherman</td>\n",
       "    </tr>\n",
       "    <tr>\n",
       "      <th>2</th>\n",
       "      <td>bobie2yahoo.com</td>\n",
       "      <td>Bobi Subobi</td>\n",
       "    </tr>\n",
       "  </tbody>\n",
       "</table>\n",
       "</div>"
      ],
      "text/plain": [
       "                email        full_name\n",
       "0    dudung@gmail.com  dudung suherman\n",
       "1  emangnye@gmail.com    eman suherman\n",
       "2     bobie2yahoo.com      Bobi Subobi"
      ]
     },
     "execution_count": 10,
     "metadata": {},
     "output_type": "execute_result"
    }
   ],
   "source": [
    "df"
   ]
  },
  {
   "cell_type": "markdown",
   "id": "66a982c4-18ea-4dc3-8c6e-8f3a164319f3",
   "metadata": {},
   "source": [
    "#### Memecah isi kolom"
   ]
  },
  {
   "cell_type": "code",
   "execution_count": 11,
   "id": "50597e3b-b752-4218-9e4a-e6d3c037a6c0",
   "metadata": {},
   "outputs": [
    {
     "data": {
      "text/plain": [
       "0    [dudung, suherman]\n",
       "1      [eman, suherman]\n",
       "2        [Bobi, Subobi]\n",
       "Name: full_name, dtype: object"
      ]
     },
     "execution_count": 11,
     "metadata": {},
     "output_type": "execute_result"
    }
   ],
   "source": [
    "df['full_name'].str.split(' ')"
   ]
  },
  {
   "cell_type": "markdown",
   "id": "fc39628d-6853-42f1-8d7d-1eadc417cdd3",
   "metadata": {},
   "source": [
    "#### Kita lihat, kolom yang dipecah tidak benar2 pecah"
   ]
  },
  {
   "cell_type": "code",
   "execution_count": 12,
   "id": "e46773d6-489d-4d87-a50d-30a1095461a0",
   "metadata": {},
   "outputs": [
    {
     "data": {
      "text/html": [
       "<div>\n",
       "<style scoped>\n",
       "    .dataframe tbody tr th:only-of-type {\n",
       "        vertical-align: middle;\n",
       "    }\n",
       "\n",
       "    .dataframe tbody tr th {\n",
       "        vertical-align: top;\n",
       "    }\n",
       "\n",
       "    .dataframe thead th {\n",
       "        text-align: right;\n",
       "    }\n",
       "</style>\n",
       "<table border=\"1\" class=\"dataframe\">\n",
       "  <thead>\n",
       "    <tr style=\"text-align: right;\">\n",
       "      <th></th>\n",
       "      <th>email</th>\n",
       "      <th>full_name</th>\n",
       "    </tr>\n",
       "  </thead>\n",
       "  <tbody>\n",
       "    <tr>\n",
       "      <th>0</th>\n",
       "      <td>dudung@gmail.com</td>\n",
       "      <td>dudung suherman</td>\n",
       "    </tr>\n",
       "    <tr>\n",
       "      <th>1</th>\n",
       "      <td>emangnye@gmail.com</td>\n",
       "      <td>eman suherman</td>\n",
       "    </tr>\n",
       "    <tr>\n",
       "      <th>2</th>\n",
       "      <td>bobie2yahoo.com</td>\n",
       "      <td>Bobi Subobi</td>\n",
       "    </tr>\n",
       "  </tbody>\n",
       "</table>\n",
       "</div>"
      ],
      "text/plain": [
       "                email        full_name\n",
       "0    dudung@gmail.com  dudung suherman\n",
       "1  emangnye@gmail.com    eman suherman\n",
       "2     bobie2yahoo.com      Bobi Subobi"
      ]
     },
     "execution_count": 12,
     "metadata": {},
     "output_type": "execute_result"
    }
   ],
   "source": [
    "df"
   ]
  },
  {
   "cell_type": "markdown",
   "id": "0c3978cd-c828-43a6-a4a2-a305f6e2ae19",
   "metadata": {},
   "source": [
    "#### untuk itu kita patenkan ya, dengan cara dijadikan variable dan tambah expand=True"
   ]
  },
  {
   "cell_type": "code",
   "execution_count": 13,
   "id": "d0f2f491-930b-4d92-bbf1-344339e3bfe7",
   "metadata": {},
   "outputs": [
    {
     "data": {
      "text/html": [
       "<div>\n",
       "<style scoped>\n",
       "    .dataframe tbody tr th:only-of-type {\n",
       "        vertical-align: middle;\n",
       "    }\n",
       "\n",
       "    .dataframe tbody tr th {\n",
       "        vertical-align: top;\n",
       "    }\n",
       "\n",
       "    .dataframe thead th {\n",
       "        text-align: right;\n",
       "    }\n",
       "</style>\n",
       "<table border=\"1\" class=\"dataframe\">\n",
       "  <thead>\n",
       "    <tr style=\"text-align: right;\">\n",
       "      <th></th>\n",
       "      <th>0</th>\n",
       "      <th>1</th>\n",
       "    </tr>\n",
       "  </thead>\n",
       "  <tbody>\n",
       "    <tr>\n",
       "      <th>0</th>\n",
       "      <td>dudung</td>\n",
       "      <td>suherman</td>\n",
       "    </tr>\n",
       "    <tr>\n",
       "      <th>1</th>\n",
       "      <td>eman</td>\n",
       "      <td>suherman</td>\n",
       "    </tr>\n",
       "    <tr>\n",
       "      <th>2</th>\n",
       "      <td>Bobi</td>\n",
       "      <td>Subobi</td>\n",
       "    </tr>\n",
       "  </tbody>\n",
       "</table>\n",
       "</div>"
      ],
      "text/plain": [
       "        0         1\n",
       "0  dudung  suherman\n",
       "1    eman  suherman\n",
       "2    Bobi    Subobi"
      ]
     },
     "execution_count": 13,
     "metadata": {},
     "output_type": "execute_result"
    }
   ],
   "source": [
    "df['full_name'].str.split(' ', expand=True)"
   ]
  },
  {
   "cell_type": "code",
   "execution_count": 14,
   "id": "7953a633-e535-4388-abc0-37069ca833d7",
   "metadata": {},
   "outputs": [
    {
     "data": {
      "text/html": [
       "<div>\n",
       "<style scoped>\n",
       "    .dataframe tbody tr th:only-of-type {\n",
       "        vertical-align: middle;\n",
       "    }\n",
       "\n",
       "    .dataframe tbody tr th {\n",
       "        vertical-align: top;\n",
       "    }\n",
       "\n",
       "    .dataframe thead th {\n",
       "        text-align: right;\n",
       "    }\n",
       "</style>\n",
       "<table border=\"1\" class=\"dataframe\">\n",
       "  <thead>\n",
       "    <tr style=\"text-align: right;\">\n",
       "      <th></th>\n",
       "      <th>email</th>\n",
       "      <th>full_name</th>\n",
       "    </tr>\n",
       "  </thead>\n",
       "  <tbody>\n",
       "    <tr>\n",
       "      <th>0</th>\n",
       "      <td>dudung@gmail.com</td>\n",
       "      <td>dudung suherman</td>\n",
       "    </tr>\n",
       "    <tr>\n",
       "      <th>1</th>\n",
       "      <td>emangnye@gmail.com</td>\n",
       "      <td>eman suherman</td>\n",
       "    </tr>\n",
       "    <tr>\n",
       "      <th>2</th>\n",
       "      <td>bobie2yahoo.com</td>\n",
       "      <td>Bobi Subobi</td>\n",
       "    </tr>\n",
       "  </tbody>\n",
       "</table>\n",
       "</div>"
      ],
      "text/plain": [
       "                email        full_name\n",
       "0    dudung@gmail.com  dudung suherman\n",
       "1  emangnye@gmail.com    eman suherman\n",
       "2     bobie2yahoo.com      Bobi Subobi"
      ]
     },
     "execution_count": 14,
     "metadata": {},
     "output_type": "execute_result"
    }
   ],
   "source": [
    "df"
   ]
  },
  {
   "cell_type": "code",
   "execution_count": 15,
   "id": "b080f43a-793c-4a52-92c9-8bfdcf715552",
   "metadata": {},
   "outputs": [],
   "source": [
    "df[['first','last']] = df['full_name'].str.split(' ', expand=True)"
   ]
  },
  {
   "cell_type": "code",
   "execution_count": 16,
   "id": "81c71962-1bc2-4511-8ddd-10f966422493",
   "metadata": {},
   "outputs": [
    {
     "data": {
      "text/html": [
       "<div>\n",
       "<style scoped>\n",
       "    .dataframe tbody tr th:only-of-type {\n",
       "        vertical-align: middle;\n",
       "    }\n",
       "\n",
       "    .dataframe tbody tr th {\n",
       "        vertical-align: top;\n",
       "    }\n",
       "\n",
       "    .dataframe thead th {\n",
       "        text-align: right;\n",
       "    }\n",
       "</style>\n",
       "<table border=\"1\" class=\"dataframe\">\n",
       "  <thead>\n",
       "    <tr style=\"text-align: right;\">\n",
       "      <th></th>\n",
       "      <th>email</th>\n",
       "      <th>full_name</th>\n",
       "      <th>first</th>\n",
       "      <th>last</th>\n",
       "    </tr>\n",
       "  </thead>\n",
       "  <tbody>\n",
       "    <tr>\n",
       "      <th>0</th>\n",
       "      <td>dudung@gmail.com</td>\n",
       "      <td>dudung suherman</td>\n",
       "      <td>dudung</td>\n",
       "      <td>suherman</td>\n",
       "    </tr>\n",
       "    <tr>\n",
       "      <th>1</th>\n",
       "      <td>emangnye@gmail.com</td>\n",
       "      <td>eman suherman</td>\n",
       "      <td>eman</td>\n",
       "      <td>suherman</td>\n",
       "    </tr>\n",
       "    <tr>\n",
       "      <th>2</th>\n",
       "      <td>bobie2yahoo.com</td>\n",
       "      <td>Bobi Subobi</td>\n",
       "      <td>Bobi</td>\n",
       "      <td>Subobi</td>\n",
       "    </tr>\n",
       "  </tbody>\n",
       "</table>\n",
       "</div>"
      ],
      "text/plain": [
       "                email        full_name   first      last\n",
       "0    dudung@gmail.com  dudung suherman  dudung  suherman\n",
       "1  emangnye@gmail.com    eman suherman    eman  suherman\n",
       "2     bobie2yahoo.com      Bobi Subobi    Bobi    Subobi"
      ]
     },
     "execution_count": 16,
     "metadata": {},
     "output_type": "execute_result"
    }
   ],
   "source": [
    "df"
   ]
  },
  {
   "cell_type": "markdown",
   "id": "0cb93e9d-49b0-4601-9dc7-8b59f4bc609f",
   "metadata": {},
   "source": [
    "#### Menambah baris"
   ]
  },
  {
   "cell_type": "code",
   "execution_count": 17,
   "id": "114616b0-6c46-4609-940d-e680e7a61ae8",
   "metadata": {},
   "outputs": [],
   "source": [
    "tambahan=pd.Series({'email':'tonysitoni@yahoo.com','full_name':'Tony Sitoni','first':'Tony','last':'Sitoni'})"
   ]
  },
  {
   "cell_type": "code",
   "execution_count": 18,
   "id": "65fac7ed-3bcd-4bad-83c8-496002c07929",
   "metadata": {},
   "outputs": [
    {
     "data": {
      "text/plain": [
       "email        tonysitoni@yahoo.com\n",
       "full_name             Tony Sitoni\n",
       "first                        Tony\n",
       "last                       Sitoni\n",
       "dtype: object"
      ]
     },
     "execution_count": 18,
     "metadata": {},
     "output_type": "execute_result"
    }
   ],
   "source": [
    "tambahan"
   ]
  },
  {
   "cell_type": "markdown",
   "id": "62d3b83d-99f6-43a0-9a05-32233402e7d7",
   "metadata": {},
   "source": [
    "#### menambah baris dengan method append, suka tidak berhasil, karena versi pandas nya sudah diatas versi 2.0"
   ]
  },
  {
   "cell_type": "markdown",
   "id": "09e0a165-38ce-42cd-ba74-c2e2daedcd5e",
   "metadata": {},
   "source": [
    "#### sebagai pengganti append adalah _append"
   ]
  },
  {
   "attachments": {
    "14617763-0fe5-41b3-ad98-61d5d3357925.png": {
     "image/png": "[encoded data removed]"
    }
   },
   "cell_type": "markdown",
   "id": "c2da520c-5bd1-44ca-ad8f-ae88356a2395",
   "metadata": {},
   "source": [
    "![error di append.png](attachment:14617763-0fe5-41b3-ad98-61d5d3357925.png)"
   ]
  },
  {
   "cell_type": "code",
   "execution_count": 19,
   "id": "291cad59-a03e-4304-b1d4-1e4eebcdb696",
   "metadata": {},
   "outputs": [
    {
     "data": {
      "text/plain": [
       "['tonysitoni@yahoo.com', 'Tony Sitoni', 'Tony', 'Sitoni']"
      ]
     },
     "execution_count": 19,
     "metadata": {},
     "output_type": "execute_result"
    }
   ],
   "source": [
    "list(tambahan)"
   ]
  },
  {
   "cell_type": "code",
   "execution_count": 20,
   "id": "28d9d1a1-7a34-4602-8bb8-9022e2fb85a1",
   "metadata": {},
   "outputs": [
    {
     "data": {
      "text/html": [
       "<div>\n",
       "<style scoped>\n",
       "    .dataframe tbody tr th:only-of-type {\n",
       "        vertical-align: middle;\n",
       "    }\n",
       "\n",
       "    .dataframe tbody tr th {\n",
       "        vertical-align: top;\n",
       "    }\n",
       "\n",
       "    .dataframe thead th {\n",
       "        text-align: right;\n",
       "    }\n",
       "</style>\n",
       "<table border=\"1\" class=\"dataframe\">\n",
       "  <thead>\n",
       "    <tr style=\"text-align: right;\">\n",
       "      <th></th>\n",
       "      <th>email</th>\n",
       "      <th>full_name</th>\n",
       "      <th>first</th>\n",
       "      <th>last</th>\n",
       "    </tr>\n",
       "  </thead>\n",
       "  <tbody>\n",
       "    <tr>\n",
       "      <th>0</th>\n",
       "      <td>dudung@gmail.com</td>\n",
       "      <td>dudung suherman</td>\n",
       "      <td>dudung</td>\n",
       "      <td>suherman</td>\n",
       "    </tr>\n",
       "    <tr>\n",
       "      <th>1</th>\n",
       "      <td>emangnye@gmail.com</td>\n",
       "      <td>eman suherman</td>\n",
       "      <td>eman</td>\n",
       "      <td>suherman</td>\n",
       "    </tr>\n",
       "    <tr>\n",
       "      <th>2</th>\n",
       "      <td>bobie2yahoo.com</td>\n",
       "      <td>Bobi Subobi</td>\n",
       "      <td>Bobi</td>\n",
       "      <td>Subobi</td>\n",
       "    </tr>\n",
       "    <tr>\n",
       "      <th>3</th>\n",
       "      <td>tonysitoni@yahoo.com</td>\n",
       "      <td>Tony Sitoni</td>\n",
       "      <td>Tony</td>\n",
       "      <td>Sitoni</td>\n",
       "    </tr>\n",
       "  </tbody>\n",
       "</table>\n",
       "</div>"
      ],
      "text/plain": [
       "                  email        full_name   first      last\n",
       "0      dudung@gmail.com  dudung suherman  dudung  suherman\n",
       "1    emangnye@gmail.com    eman suherman    eman  suherman\n",
       "2       bobie2yahoo.com      Bobi Subobi    Bobi    Subobi\n",
       "3  tonysitoni@yahoo.com      Tony Sitoni    Tony    Sitoni"
      ]
     },
     "execution_count": 20,
     "metadata": {},
     "output_type": "execute_result"
    }
   ],
   "source": [
    "df._append(tambahan,ignore_index=True)"
   ]
  },
  {
   "cell_type": "code",
   "execution_count": null,
   "id": "9cf96092-8bc2-4022-a0bf-b7d52c0fd801",
   "metadata": {},
   "outputs": [],
   "source": []
  },
  {
   "cell_type": "markdown",
   "id": "887f0a12-95ac-42e0-bba2-a9c7b7785799",
   "metadata": {},
   "source": [
    "#### Pakai fungsi iloc bisa sih"
   ]
  },
  {
   "cell_type": "code",
   "execution_count": 21,
   "id": "74e8ebfe-1c2a-4ee7-bf65-67859b9ca2b9",
   "metadata": {},
   "outputs": [],
   "source": [
    "df.loc[3] = [\"monyong@gmail.com\",\"Monyong Sumonyong\",\"Monyong\",\"Sumonyong\"]"
   ]
  },
  {
   "cell_type": "code",
   "execution_count": 32,
   "id": "f94c602d-dcfa-4593-a304-d27a2d23cd66",
   "metadata": {},
   "outputs": [
    {
     "data": {
      "text/html": [
       "<div>\n",
       "<style scoped>\n",
       "    .dataframe tbody tr th:only-of-type {\n",
       "        vertical-align: middle;\n",
       "    }\n",
       "\n",
       "    .dataframe tbody tr th {\n",
       "        vertical-align: top;\n",
       "    }\n",
       "\n",
       "    .dataframe thead th {\n",
       "        text-align: right;\n",
       "    }\n",
       "</style>\n",
       "<table border=\"1\" class=\"dataframe\">\n",
       "  <thead>\n",
       "    <tr style=\"text-align: right;\">\n",
       "      <th></th>\n",
       "      <th>email</th>\n",
       "      <th>full_name</th>\n",
       "      <th>first</th>\n",
       "      <th>last</th>\n",
       "    </tr>\n",
       "  </thead>\n",
       "  <tbody>\n",
       "    <tr>\n",
       "      <th>0</th>\n",
       "      <td>dudung@gmail.com</td>\n",
       "      <td>dudung suherman</td>\n",
       "      <td>dudung</td>\n",
       "      <td>suherman</td>\n",
       "    </tr>\n",
       "    <tr>\n",
       "      <th>1</th>\n",
       "      <td>emangnye@gmail.com</td>\n",
       "      <td>eman suherman</td>\n",
       "      <td>eman</td>\n",
       "      <td>suherman</td>\n",
       "    </tr>\n",
       "    <tr>\n",
       "      <th>2</th>\n",
       "      <td>bobie2yahoo.com</td>\n",
       "      <td>Bobi Subobi</td>\n",
       "      <td>Bobi</td>\n",
       "      <td>Subobi</td>\n",
       "    </tr>\n",
       "    <tr>\n",
       "      <th>3</th>\n",
       "      <td>monyong@gmail.com</td>\n",
       "      <td>Monyong Sumonyong</td>\n",
       "      <td>Monyong</td>\n",
       "      <td>Sumonyong</td>\n",
       "    </tr>\n",
       "  </tbody>\n",
       "</table>\n",
       "</div>"
      ],
      "text/plain": [
       "                email          full_name    first       last\n",
       "0    dudung@gmail.com    dudung suherman   dudung   suherman\n",
       "1  emangnye@gmail.com      eman suherman     eman   suherman\n",
       "2     bobie2yahoo.com        Bobi Subobi     Bobi     Subobi\n",
       "3   monyong@gmail.com  Monyong Sumonyong  Monyong  Sumonyong"
      ]
     },
     "execution_count": 32,
     "metadata": {},
     "output_type": "execute_result"
    }
   ],
   "source": [
    "df"
   ]
  },
  {
   "cell_type": "markdown",
   "id": "55a91171-7b9a-468a-a3ad-3555cd8a7424",
   "metadata": {},
   "source": [
    "#### cara lain dengan method loc"
   ]
  },
  {
   "cell_type": "code",
   "execution_count": 33,
   "id": "926e9b79-ffdb-454e-8e74-c1f93c918099",
   "metadata": {},
   "outputs": [
    {
     "data": {
      "text/html": [
       "<div>\n",
       "<style scoped>\n",
       "    .dataframe tbody tr th:only-of-type {\n",
       "        vertical-align: middle;\n",
       "    }\n",
       "\n",
       "    .dataframe tbody tr th {\n",
       "        vertical-align: top;\n",
       "    }\n",
       "\n",
       "    .dataframe thead th {\n",
       "        text-align: right;\n",
       "    }\n",
       "</style>\n",
       "<table border=\"1\" class=\"dataframe\">\n",
       "  <thead>\n",
       "    <tr style=\"text-align: right;\">\n",
       "      <th></th>\n",
       "      <th>email</th>\n",
       "      <th>full_name</th>\n",
       "      <th>first</th>\n",
       "      <th>last</th>\n",
       "    </tr>\n",
       "  </thead>\n",
       "  <tbody>\n",
       "    <tr>\n",
       "      <th>0</th>\n",
       "      <td>dudung@gmail.com</td>\n",
       "      <td>dudung suherman</td>\n",
       "      <td>dudung</td>\n",
       "      <td>suherman</td>\n",
       "    </tr>\n",
       "    <tr>\n",
       "      <th>1</th>\n",
       "      <td>emangnye@gmail.com</td>\n",
       "      <td>eman suherman</td>\n",
       "      <td>eman</td>\n",
       "      <td>suherman</td>\n",
       "    </tr>\n",
       "    <tr>\n",
       "      <th>2</th>\n",
       "      <td>bobie2yahoo.com</td>\n",
       "      <td>Bobi Subobi</td>\n",
       "      <td>Bobi</td>\n",
       "      <td>Subobi</td>\n",
       "    </tr>\n",
       "    <tr>\n",
       "      <th>3</th>\n",
       "      <td>monyong@gmail.com</td>\n",
       "      <td>Monyong Sumonyong</td>\n",
       "      <td>Monyong</td>\n",
       "      <td>Sumonyong</td>\n",
       "    </tr>\n",
       "    <tr>\n",
       "      <th>4</th>\n",
       "      <td>siapaya@yahoo.com</td>\n",
       "      <td>siapa ya</td>\n",
       "      <td>Siapa</td>\n",
       "      <td>ya</td>\n",
       "    </tr>\n",
       "  </tbody>\n",
       "</table>\n",
       "</div>"
      ],
      "text/plain": [
       "                email          full_name    first       last\n",
       "0    dudung@gmail.com    dudung suherman   dudung   suherman\n",
       "1  emangnye@gmail.com      eman suherman     eman   suherman\n",
       "2     bobie2yahoo.com        Bobi Subobi     Bobi     Subobi\n",
       "3   monyong@gmail.com  Monyong Sumonyong  Monyong  Sumonyong\n",
       "4   siapaya@yahoo.com           siapa ya    Siapa         ya"
      ]
     },
     "execution_count": 33,
     "metadata": {},
     "output_type": "execute_result"
    }
   ],
   "source": [
    "row_new={\"email\":\"siapaya@yahoo.com\",\"full_name\":\"siapa ya\",\"first\":\"Siapa\",\"last\":\"ya\"}\n",
    "df.loc[len(df)]=row_new\n",
    "df"
   ]
  },
  {
   "cell_type": "markdown",
   "id": "8ed374fc-db8e-4156-83cb-2cd2e53103f4",
   "metadata": {},
   "source": [
    "#### Untuk menambah pengetahuan ttg add rows and columns klik link berikut"
   ]
  },
  {
   "cell_type": "markdown",
   "id": "0b31a81b-5619-4735-8be9-6f9071ddd4a4",
   "metadata": {},
   "source": [
    "https://www.youtube.com/watch?v=zdiT9sPHQks"
   ]
  },
  {
   "cell_type": "markdown",
   "id": "436b4104-31bf-400b-9e09-5b3b20f4d275",
   "metadata": {},
   "source": [
    "#### kita akan membuat dataframe baru "
   ]
  },
  {
   "cell_type": "code",
   "execution_count": 23,
   "id": "c088b33d-788a-4b03-83bb-68a27dd372a6",
   "metadata": {},
   "outputs": [],
   "source": [
    "people = {\n",
    "    'first':['Tony','Steve'],\n",
    "    'last':['Stark', 'Rogers'],\n",
    "    'email':['ironman@gmail.com','emangnye@gmail.com']\n",
    "}\n",
    "df2 = pd.DataFrame(people)"
   ]
  },
  {
   "cell_type": "code",
   "execution_count": 24,
   "id": "b72929f9-446e-4532-97a2-c05d42850037",
   "metadata": {},
   "outputs": [
    {
     "data": {
      "text/html": [
       "<div>\n",
       "<style scoped>\n",
       "    .dataframe tbody tr th:only-of-type {\n",
       "        vertical-align: middle;\n",
       "    }\n",
       "\n",
       "    .dataframe tbody tr th {\n",
       "        vertical-align: top;\n",
       "    }\n",
       "\n",
       "    .dataframe thead th {\n",
       "        text-align: right;\n",
       "    }\n",
       "</style>\n",
       "<table border=\"1\" class=\"dataframe\">\n",
       "  <thead>\n",
       "    <tr style=\"text-align: right;\">\n",
       "      <th></th>\n",
       "      <th>first</th>\n",
       "      <th>last</th>\n",
       "      <th>email</th>\n",
       "    </tr>\n",
       "  </thead>\n",
       "  <tbody>\n",
       "    <tr>\n",
       "      <th>0</th>\n",
       "      <td>Tony</td>\n",
       "      <td>Stark</td>\n",
       "      <td>ironman@gmail.com</td>\n",
       "    </tr>\n",
       "    <tr>\n",
       "      <th>1</th>\n",
       "      <td>Steve</td>\n",
       "      <td>Rogers</td>\n",
       "      <td>emangnye@gmail.com</td>\n",
       "    </tr>\n",
       "  </tbody>\n",
       "</table>\n",
       "</div>"
      ],
      "text/plain": [
       "   first    last               email\n",
       "0   Tony   Stark   ironman@gmail.com\n",
       "1  Steve  Rogers  emangnye@gmail.com"
      ]
     },
     "execution_count": 24,
     "metadata": {},
     "output_type": "execute_result"
    }
   ],
   "source": [
    "df2"
   ]
  },
  {
   "cell_type": "markdown",
   "id": "3e45f264-2133-4ae2-a77e-743fd2ddb883",
   "metadata": {},
   "source": [
    "#### kita akan menambah kan df2 ke dalam df"
   ]
  },
  {
   "cell_type": "code",
   "execution_count": 25,
   "id": "1c55dbd6-66c0-4cbe-8373-86fbb26c188f",
   "metadata": {},
   "outputs": [
    {
     "data": {
      "text/html": [
       "<div>\n",
       "<style scoped>\n",
       "    .dataframe tbody tr th:only-of-type {\n",
       "        vertical-align: middle;\n",
       "    }\n",
       "\n",
       "    .dataframe tbody tr th {\n",
       "        vertical-align: top;\n",
       "    }\n",
       "\n",
       "    .dataframe thead th {\n",
       "        text-align: right;\n",
       "    }\n",
       "</style>\n",
       "<table border=\"1\" class=\"dataframe\">\n",
       "  <thead>\n",
       "    <tr style=\"text-align: right;\">\n",
       "      <th></th>\n",
       "      <th>email</th>\n",
       "      <th>full_name</th>\n",
       "      <th>first</th>\n",
       "      <th>last</th>\n",
       "    </tr>\n",
       "  </thead>\n",
       "  <tbody>\n",
       "    <tr>\n",
       "      <th>0</th>\n",
       "      <td>dudung@gmail.com</td>\n",
       "      <td>dudung suherman</td>\n",
       "      <td>dudung</td>\n",
       "      <td>suherman</td>\n",
       "    </tr>\n",
       "    <tr>\n",
       "      <th>1</th>\n",
       "      <td>emangnye@gmail.com</td>\n",
       "      <td>eman suherman</td>\n",
       "      <td>eman</td>\n",
       "      <td>suherman</td>\n",
       "    </tr>\n",
       "    <tr>\n",
       "      <th>2</th>\n",
       "      <td>bobie2yahoo.com</td>\n",
       "      <td>Bobi Subobi</td>\n",
       "      <td>Bobi</td>\n",
       "      <td>Subobi</td>\n",
       "    </tr>\n",
       "    <tr>\n",
       "      <th>3</th>\n",
       "      <td>monyong@gmail.com</td>\n",
       "      <td>Monyong Sumonyong</td>\n",
       "      <td>Monyong</td>\n",
       "      <td>Sumonyong</td>\n",
       "    </tr>\n",
       "  </tbody>\n",
       "</table>\n",
       "</div>"
      ],
      "text/plain": [
       "                email          full_name    first       last\n",
       "0    dudung@gmail.com    dudung suherman   dudung   suherman\n",
       "1  emangnye@gmail.com      eman suherman     eman   suherman\n",
       "2     bobie2yahoo.com        Bobi Subobi     Bobi     Subobi\n",
       "3   monyong@gmail.com  Monyong Sumonyong  Monyong  Sumonyong"
      ]
     },
     "execution_count": 25,
     "metadata": {},
     "output_type": "execute_result"
    }
   ],
   "source": [
    "df"
   ]
  },
  {
   "cell_type": "code",
   "execution_count": 28,
   "id": "122b2aea-e02c-495d-a76b-70082b5abb4d",
   "metadata": {},
   "outputs": [
    {
     "data": {
      "text/html": [
       "<div>\n",
       "<style scoped>\n",
       "    .dataframe tbody tr th:only-of-type {\n",
       "        vertical-align: middle;\n",
       "    }\n",
       "\n",
       "    .dataframe tbody tr th {\n",
       "        vertical-align: top;\n",
       "    }\n",
       "\n",
       "    .dataframe thead th {\n",
       "        text-align: right;\n",
       "    }\n",
       "</style>\n",
       "<table border=\"1\" class=\"dataframe\">\n",
       "  <thead>\n",
       "    <tr style=\"text-align: right;\">\n",
       "      <th></th>\n",
       "      <th>email</th>\n",
       "      <th>full_name</th>\n",
       "      <th>first</th>\n",
       "      <th>last</th>\n",
       "    </tr>\n",
       "  </thead>\n",
       "  <tbody>\n",
       "    <tr>\n",
       "      <th>0</th>\n",
       "      <td>dudung@gmail.com</td>\n",
       "      <td>dudung suherman</td>\n",
       "      <td>dudung</td>\n",
       "      <td>suherman</td>\n",
       "    </tr>\n",
       "    <tr>\n",
       "      <th>1</th>\n",
       "      <td>emangnye@gmail.com</td>\n",
       "      <td>eman suherman</td>\n",
       "      <td>eman</td>\n",
       "      <td>suherman</td>\n",
       "    </tr>\n",
       "    <tr>\n",
       "      <th>2</th>\n",
       "      <td>bobie2yahoo.com</td>\n",
       "      <td>Bobi Subobi</td>\n",
       "      <td>Bobi</td>\n",
       "      <td>Subobi</td>\n",
       "    </tr>\n",
       "    <tr>\n",
       "      <th>3</th>\n",
       "      <td>monyong@gmail.com</td>\n",
       "      <td>Monyong Sumonyong</td>\n",
       "      <td>Monyong</td>\n",
       "      <td>Sumonyong</td>\n",
       "    </tr>\n",
       "    <tr>\n",
       "      <th>4</th>\n",
       "      <td>ironman@gmail.com</td>\n",
       "      <td>NaN</td>\n",
       "      <td>Tony</td>\n",
       "      <td>Stark</td>\n",
       "    </tr>\n",
       "    <tr>\n",
       "      <th>5</th>\n",
       "      <td>emangnye@gmail.com</td>\n",
       "      <td>NaN</td>\n",
       "      <td>Steve</td>\n",
       "      <td>Rogers</td>\n",
       "    </tr>\n",
       "  </tbody>\n",
       "</table>\n",
       "</div>"
      ],
      "text/plain": [
       "                email          full_name    first       last\n",
       "0    dudung@gmail.com    dudung suherman   dudung   suherman\n",
       "1  emangnye@gmail.com      eman suherman     eman   suherman\n",
       "2     bobie2yahoo.com        Bobi Subobi     Bobi     Subobi\n",
       "3   monyong@gmail.com  Monyong Sumonyong  Monyong  Sumonyong\n",
       "4   ironman@gmail.com                NaN     Tony      Stark\n",
       "5  emangnye@gmail.com                NaN    Steve     Rogers"
      ]
     },
     "execution_count": 28,
     "metadata": {},
     "output_type": "execute_result"
    }
   ],
   "source": [
    "df._append(df2, ignore_index=True, sort=False)"
   ]
  },
  {
   "cell_type": "markdown",
   "id": "65322d69-0811-4971-bd27-3130e693993c",
   "metadata": {},
   "source": [
    "#### Kita patenkan"
   ]
  },
  {
   "cell_type": "code",
   "execution_count": 29,
   "id": "6e8e0cb9-78a0-421c-918a-f7386a465e14",
   "metadata": {},
   "outputs": [],
   "source": [
    "df = df._append(df2, ignore_index=True, sort=False)"
   ]
  },
  {
   "cell_type": "code",
   "execution_count": 30,
   "id": "a049d8d6-4a74-45f2-aa7e-32b6485ef017",
   "metadata": {},
   "outputs": [
    {
     "data": {
      "text/html": [
       "<div>\n",
       "<style scoped>\n",
       "    .dataframe tbody tr th:only-of-type {\n",
       "        vertical-align: middle;\n",
       "    }\n",
       "\n",
       "    .dataframe tbody tr th {\n",
       "        vertical-align: top;\n",
       "    }\n",
       "\n",
       "    .dataframe thead th {\n",
       "        text-align: right;\n",
       "    }\n",
       "</style>\n",
       "<table border=\"1\" class=\"dataframe\">\n",
       "  <thead>\n",
       "    <tr style=\"text-align: right;\">\n",
       "      <th></th>\n",
       "      <th>email</th>\n",
       "      <th>full_name</th>\n",
       "      <th>first</th>\n",
       "      <th>last</th>\n",
       "    </tr>\n",
       "  </thead>\n",
       "  <tbody>\n",
       "    <tr>\n",
       "      <th>0</th>\n",
       "      <td>dudung@gmail.com</td>\n",
       "      <td>dudung suherman</td>\n",
       "      <td>dudung</td>\n",
       "      <td>suherman</td>\n",
       "    </tr>\n",
       "    <tr>\n",
       "      <th>1</th>\n",
       "      <td>emangnye@gmail.com</td>\n",
       "      <td>eman suherman</td>\n",
       "      <td>eman</td>\n",
       "      <td>suherman</td>\n",
       "    </tr>\n",
       "    <tr>\n",
       "      <th>2</th>\n",
       "      <td>bobie2yahoo.com</td>\n",
       "      <td>Bobi Subobi</td>\n",
       "      <td>Bobi</td>\n",
       "      <td>Subobi</td>\n",
       "    </tr>\n",
       "    <tr>\n",
       "      <th>3</th>\n",
       "      <td>monyong@gmail.com</td>\n",
       "      <td>Monyong Sumonyong</td>\n",
       "      <td>Monyong</td>\n",
       "      <td>Sumonyong</td>\n",
       "    </tr>\n",
       "    <tr>\n",
       "      <th>4</th>\n",
       "      <td>ironman@gmail.com</td>\n",
       "      <td>NaN</td>\n",
       "      <td>Tony</td>\n",
       "      <td>Stark</td>\n",
       "    </tr>\n",
       "    <tr>\n",
       "      <th>5</th>\n",
       "      <td>emangnye@gmail.com</td>\n",
       "      <td>NaN</td>\n",
       "      <td>Steve</td>\n",
       "      <td>Rogers</td>\n",
       "    </tr>\n",
       "  </tbody>\n",
       "</table>\n",
       "</div>"
      ],
      "text/plain": [
       "                email          full_name    first       last\n",
       "0    dudung@gmail.com    dudung suherman   dudung   suherman\n",
       "1  emangnye@gmail.com      eman suherman     eman   suherman\n",
       "2     bobie2yahoo.com        Bobi Subobi     Bobi     Subobi\n",
       "3   monyong@gmail.com  Monyong Sumonyong  Monyong  Sumonyong\n",
       "4   ironman@gmail.com                NaN     Tony      Stark\n",
       "5  emangnye@gmail.com                NaN    Steve     Rogers"
      ]
     },
     "execution_count": 30,
     "metadata": {},
     "output_type": "execute_result"
    }
   ],
   "source": [
    "df"
   ]
  },
  {
   "cell_type": "markdown",
   "id": "7471daf0-6a0e-470d-a97a-743e08fd5a49",
   "metadata": {},
   "source": [
    "#### Menghapus baris yg index ke 5 misalnya"
   ]
  },
  {
   "cell_type": "code",
   "execution_count": 31,
   "id": "621b1f4b-8dbb-4061-b2d8-61c8a94f73be",
   "metadata": {},
   "outputs": [
    {
     "data": {
      "text/html": [
       "<div>\n",
       "<style scoped>\n",
       "    .dataframe tbody tr th:only-of-type {\n",
       "        vertical-align: middle;\n",
       "    }\n",
       "\n",
       "    .dataframe tbody tr th {\n",
       "        vertical-align: top;\n",
       "    }\n",
       "\n",
       "    .dataframe thead th {\n",
       "        text-align: right;\n",
       "    }\n",
       "</style>\n",
       "<table border=\"1\" class=\"dataframe\">\n",
       "  <thead>\n",
       "    <tr style=\"text-align: right;\">\n",
       "      <th></th>\n",
       "      <th>email</th>\n",
       "      <th>full_name</th>\n",
       "      <th>first</th>\n",
       "      <th>last</th>\n",
       "    </tr>\n",
       "  </thead>\n",
       "  <tbody>\n",
       "    <tr>\n",
       "      <th>0</th>\n",
       "      <td>dudung@gmail.com</td>\n",
       "      <td>dudung suherman</td>\n",
       "      <td>dudung</td>\n",
       "      <td>suherman</td>\n",
       "    </tr>\n",
       "    <tr>\n",
       "      <th>1</th>\n",
       "      <td>emangnye@gmail.com</td>\n",
       "      <td>eman suherman</td>\n",
       "      <td>eman</td>\n",
       "      <td>suherman</td>\n",
       "    </tr>\n",
       "    <tr>\n",
       "      <th>2</th>\n",
       "      <td>bobie2yahoo.com</td>\n",
       "      <td>Bobi Subobi</td>\n",
       "      <td>Bobi</td>\n",
       "      <td>Subobi</td>\n",
       "    </tr>\n",
       "    <tr>\n",
       "      <th>3</th>\n",
       "      <td>monyong@gmail.com</td>\n",
       "      <td>Monyong Sumonyong</td>\n",
       "      <td>Monyong</td>\n",
       "      <td>Sumonyong</td>\n",
       "    </tr>\n",
       "    <tr>\n",
       "      <th>4</th>\n",
       "      <td>ironman@gmail.com</td>\n",
       "      <td>NaN</td>\n",
       "      <td>Tony</td>\n",
       "      <td>Stark</td>\n",
       "    </tr>\n",
       "  </tbody>\n",
       "</table>\n",
       "</div>"
      ],
      "text/plain": [
       "                email          full_name    first       last\n",
       "0    dudung@gmail.com    dudung suherman   dudung   suherman\n",
       "1  emangnye@gmail.com      eman suherman     eman   suherman\n",
       "2     bobie2yahoo.com        Bobi Subobi     Bobi     Subobi\n",
       "3   monyong@gmail.com  Monyong Sumonyong  Monyong  Sumonyong\n",
       "4   ironman@gmail.com                NaN     Tony      Stark"
      ]
     },
     "execution_count": 31,
     "metadata": {},
     "output_type": "execute_result"
    }
   ],
   "source": [
    "df.drop(index=5)"
   ]
  },
  {
   "cell_type": "markdown",
   "id": "7d44cb33-8be0-40f9-86a1-dbfa60f5c556",
   "metadata": {},
   "source": [
    "#### kita akan menghapus yang kolom forst nya bernama \"Tony\""
   ]
  },
  {
   "cell_type": "code",
   "execution_count": 33,
   "id": "e91e47e9-c28d-4524-8194-90cdcbda7f14",
   "metadata": {},
   "outputs": [
    {
     "data": {
      "text/html": [
       "<div>\n",
       "<style scoped>\n",
       "    .dataframe tbody tr th:only-of-type {\n",
       "        vertical-align: middle;\n",
       "    }\n",
       "\n",
       "    .dataframe tbody tr th {\n",
       "        vertical-align: top;\n",
       "    }\n",
       "\n",
       "    .dataframe thead th {\n",
       "        text-align: right;\n",
       "    }\n",
       "</style>\n",
       "<table border=\"1\" class=\"dataframe\">\n",
       "  <thead>\n",
       "    <tr style=\"text-align: right;\">\n",
       "      <th></th>\n",
       "      <th>email</th>\n",
       "      <th>full_name</th>\n",
       "      <th>first</th>\n",
       "      <th>last</th>\n",
       "    </tr>\n",
       "  </thead>\n",
       "  <tbody>\n",
       "    <tr>\n",
       "      <th>0</th>\n",
       "      <td>dudung@gmail.com</td>\n",
       "      <td>dudung suherman</td>\n",
       "      <td>dudung</td>\n",
       "      <td>suherman</td>\n",
       "    </tr>\n",
       "    <tr>\n",
       "      <th>1</th>\n",
       "      <td>emangnye@gmail.com</td>\n",
       "      <td>eman suherman</td>\n",
       "      <td>eman</td>\n",
       "      <td>suherman</td>\n",
       "    </tr>\n",
       "    <tr>\n",
       "      <th>2</th>\n",
       "      <td>bobie2yahoo.com</td>\n",
       "      <td>Bobi Subobi</td>\n",
       "      <td>Bobi</td>\n",
       "      <td>Subobi</td>\n",
       "    </tr>\n",
       "    <tr>\n",
       "      <th>3</th>\n",
       "      <td>monyong@gmail.com</td>\n",
       "      <td>Monyong Sumonyong</td>\n",
       "      <td>Monyong</td>\n",
       "      <td>Sumonyong</td>\n",
       "    </tr>\n",
       "    <tr>\n",
       "      <th>5</th>\n",
       "      <td>emangnye@gmail.com</td>\n",
       "      <td>NaN</td>\n",
       "      <td>Steve</td>\n",
       "      <td>Rogers</td>\n",
       "    </tr>\n",
       "  </tbody>\n",
       "</table>\n",
       "</div>"
      ],
      "text/plain": [
       "                email          full_name    first       last\n",
       "0    dudung@gmail.com    dudung suherman   dudung   suherman\n",
       "1  emangnye@gmail.com      eman suherman     eman   suherman\n",
       "2     bobie2yahoo.com        Bobi Subobi     Bobi     Subobi\n",
       "3   monyong@gmail.com  Monyong Sumonyong  Monyong  Sumonyong\n",
       "5  emangnye@gmail.com                NaN    Steve     Rogers"
      ]
     },
     "execution_count": 33,
     "metadata": {},
     "output_type": "execute_result"
    }
   ],
   "source": [
    "df.drop(index=df[df['first'] == 'Tony'].index)"
   ]
  },
  {
   "cell_type": "markdown",
   "id": "d5ed402e-3d2d-4a16-a30f-cdcbee0e3ca5",
   "metadata": {},
   "source": [
    "#### bisa juga dibuat variable nya dulu "
   ]
  },
  {
   "cell_type": "code",
   "execution_count": 37,
   "id": "889253bf-a4d7-4db2-8f04-068eb16c808a",
   "metadata": {},
   "outputs": [
    {
     "data": {
      "text/html": [
       "<div>\n",
       "<style scoped>\n",
       "    .dataframe tbody tr th:only-of-type {\n",
       "        vertical-align: middle;\n",
       "    }\n",
       "\n",
       "    .dataframe tbody tr th {\n",
       "        vertical-align: top;\n",
       "    }\n",
       "\n",
       "    .dataframe thead th {\n",
       "        text-align: right;\n",
       "    }\n",
       "</style>\n",
       "<table border=\"1\" class=\"dataframe\">\n",
       "  <thead>\n",
       "    <tr style=\"text-align: right;\">\n",
       "      <th></th>\n",
       "      <th>email</th>\n",
       "      <th>full_name</th>\n",
       "      <th>first</th>\n",
       "      <th>last</th>\n",
       "    </tr>\n",
       "  </thead>\n",
       "  <tbody>\n",
       "    <tr>\n",
       "      <th>0</th>\n",
       "      <td>dudung@gmail.com</td>\n",
       "      <td>dudung suherman</td>\n",
       "      <td>dudung</td>\n",
       "      <td>suherman</td>\n",
       "    </tr>\n",
       "    <tr>\n",
       "      <th>1</th>\n",
       "      <td>emangnye@gmail.com</td>\n",
       "      <td>eman suherman</td>\n",
       "      <td>eman</td>\n",
       "      <td>suherman</td>\n",
       "    </tr>\n",
       "    <tr>\n",
       "      <th>2</th>\n",
       "      <td>bobie2yahoo.com</td>\n",
       "      <td>Bobi Subobi</td>\n",
       "      <td>Bobi</td>\n",
       "      <td>Subobi</td>\n",
       "    </tr>\n",
       "    <tr>\n",
       "      <th>3</th>\n",
       "      <td>monyong@gmail.com</td>\n",
       "      <td>Monyong Sumonyong</td>\n",
       "      <td>Monyong</td>\n",
       "      <td>Sumonyong</td>\n",
       "    </tr>\n",
       "    <tr>\n",
       "      <th>5</th>\n",
       "      <td>emangnye@gmail.com</td>\n",
       "      <td>NaN</td>\n",
       "      <td>Steve</td>\n",
       "      <td>Rogers</td>\n",
       "    </tr>\n",
       "  </tbody>\n",
       "</table>\n",
       "</div>"
      ],
      "text/plain": [
       "                email          full_name    first       last\n",
       "0    dudung@gmail.com    dudung suherman   dudung   suherman\n",
       "1  emangnye@gmail.com      eman suherman     eman   suherman\n",
       "2     bobie2yahoo.com        Bobi Subobi     Bobi     Subobi\n",
       "3   monyong@gmail.com  Monyong Sumonyong  Monyong  Sumonyong\n",
       "5  emangnye@gmail.com                NaN    Steve     Rogers"
      ]
     },
     "execution_count": 37,
     "metadata": {},
     "output_type": "execute_result"
    }
   ],
   "source": [
    "apadong = df['first'] == 'Tony'\n",
    "df.drop(index=df[apadong].index)"
   ]
  },
  {
   "cell_type": "code",
   "execution_count": null,
   "id": "e5bd8d5b-3524-41e9-aa29-e8e8453e7c9c",
   "metadata": {},
   "outputs": [],
   "source": []
  }
 ],
 "metadata": {
  "kernelspec": {
   "display_name": "Python 3 (ipykernel)",
   "language": "python",
   "name": "python3"
  },
  "language_info": {
   "codemirror_mode": {
    "name": "ipython",
    "version": 3
   },
   "file_extension": ".py",
   "mimetype": "text/x-python",
   "name": "python",
   "nbconvert_exporter": "python",
   "pygments_lexer": "ipython3",
   "version": "3.12.4"
  }
 },
 "nbformat": 4,
 "nbformat_minor": 5
}
