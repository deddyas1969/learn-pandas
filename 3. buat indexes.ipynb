{
 "cells": [
  {
   "cell_type": "markdown",
   "id": "0447a846-d165-463c-bcd3-a23a4aae75f7",
   "metadata": {},
   "source": [
    "#### Membuat Index"
   ]
  },
  {
   "cell_type": "code",
   "execution_count": 1,
   "id": "45c3257d-1b82-4465-973b-9547936a782b",
   "metadata": {},
   "outputs": [],
   "source": [
    "people = {\n",
    "    'first':['dudung','eman','Bobi'],\n",
    "    'last':['serudung', 'suherman','Subobi'],\n",
    "    'email':['dudung@gmail.com','emangnye@gmail.com','bobie2yahoo.com']\n",
    "}"
   ]
  },
  {
   "cell_type": "code",
   "execution_count": 2,
   "id": "f08bed0c-4de3-4d02-be21-8816858de361",
   "metadata": {},
   "outputs": [],
   "source": [
    "import pandas as pd"
   ]
  },
  {
   "cell_type": "code",
   "execution_count": 3,
   "id": "73c9adbd-1a27-460c-a502-80ccb3235532",
   "metadata": {},
   "outputs": [],
   "source": [
    "df = pd.DataFrame(people)"
   ]
  },
  {
   "cell_type": "code",
   "execution_count": 4,
   "id": "b9b47f6d-843b-446e-aa03-3a555aca39a2",
   "metadata": {},
   "outputs": [
    {
     "data": {
      "text/html": [
       "<div>\n",
       "<style scoped>\n",
       "    .dataframe tbody tr th:only-of-type {\n",
       "        vertical-align: middle;\n",
       "    }\n",
       "\n",
       "    .dataframe tbody tr th {\n",
       "        vertical-align: top;\n",
       "    }\n",
       "\n",
       "    .dataframe thead th {\n",
       "        text-align: right;\n",
       "    }\n",
       "</style>\n",
       "<table border=\"1\" class=\"dataframe\">\n",
       "  <thead>\n",
       "    <tr style=\"text-align: right;\">\n",
       "      <th></th>\n",
       "      <th>first</th>\n",
       "      <th>last</th>\n",
       "      <th>email</th>\n",
       "    </tr>\n",
       "  </thead>\n",
       "  <tbody>\n",
       "    <tr>\n",
       "      <th>0</th>\n",
       "      <td>dudung</td>\n",
       "      <td>serudung</td>\n",
       "      <td>dudung@gmail.com</td>\n",
       "    </tr>\n",
       "    <tr>\n",
       "      <th>1</th>\n",
       "      <td>eman</td>\n",
       "      <td>suherman</td>\n",
       "      <td>emangnye@gmail.com</td>\n",
       "    </tr>\n",
       "    <tr>\n",
       "      <th>2</th>\n",
       "      <td>Bobi</td>\n",
       "      <td>Subobi</td>\n",
       "      <td>bobie2yahoo.com</td>\n",
       "    </tr>\n",
       "  </tbody>\n",
       "</table>\n",
       "</div>"
      ],
      "text/plain": [
       "    first      last               email\n",
       "0  dudung  serudung    dudung@gmail.com\n",
       "1    eman  suherman  emangnye@gmail.com\n",
       "2    Bobi    Subobi     bobie2yahoo.com"
      ]
     },
     "execution_count": 4,
     "metadata": {},
     "output_type": "execute_result"
    }
   ],
   "source": [
    "df"
   ]
  },
  {
   "cell_type": "markdown",
   "id": "93c8e277-911e-497b-98b7-b39d73564f3e",
   "metadata": {},
   "source": [
    "#### jika ingin melihat isi kolom email "
   ]
  },
  {
   "cell_type": "code",
   "execution_count": 5,
   "id": "97af9d13-9af6-4e07-a4c3-acd0114515f6",
   "metadata": {},
   "outputs": [
    {
     "data": {
      "text/plain": [
       "0      dudung@gmail.com\n",
       "1    emangnye@gmail.com\n",
       "2       bobie2yahoo.com\n",
       "Name: email, dtype: object"
      ]
     },
     "execution_count": 5,
     "metadata": {},
     "output_type": "execute_result"
    }
   ],
   "source": [
    "df['email']"
   ]
  },
  {
   "cell_type": "markdown",
   "id": "0f37223b-e3b3-4ec7-ac64-78972345fdb3",
   "metadata": {},
   "source": [
    "#### men set kolom email menjadi kolom index"
   ]
  },
  {
   "cell_type": "code",
   "execution_count": 6,
   "id": "b33bd796-4d3b-4e60-9919-49c9c3910b57",
   "metadata": {},
   "outputs": [
    {
     "data": {
      "text/html": [
       "<div>\n",
       "<style scoped>\n",
       "    .dataframe tbody tr th:only-of-type {\n",
       "        vertical-align: middle;\n",
       "    }\n",
       "\n",
       "    .dataframe tbody tr th {\n",
       "        vertical-align: top;\n",
       "    }\n",
       "\n",
       "    .dataframe thead th {\n",
       "        text-align: right;\n",
       "    }\n",
       "</style>\n",
       "<table border=\"1\" class=\"dataframe\">\n",
       "  <thead>\n",
       "    <tr style=\"text-align: right;\">\n",
       "      <th></th>\n",
       "      <th>first</th>\n",
       "      <th>last</th>\n",
       "    </tr>\n",
       "    <tr>\n",
       "      <th>email</th>\n",
       "      <th></th>\n",
       "      <th></th>\n",
       "    </tr>\n",
       "  </thead>\n",
       "  <tbody>\n",
       "    <tr>\n",
       "      <th>dudung@gmail.com</th>\n",
       "      <td>dudung</td>\n",
       "      <td>serudung</td>\n",
       "    </tr>\n",
       "    <tr>\n",
       "      <th>emangnye@gmail.com</th>\n",
       "      <td>eman</td>\n",
       "      <td>suherman</td>\n",
       "    </tr>\n",
       "    <tr>\n",
       "      <th>bobie2yahoo.com</th>\n",
       "      <td>Bobi</td>\n",
       "      <td>Subobi</td>\n",
       "    </tr>\n",
       "  </tbody>\n",
       "</table>\n",
       "</div>"
      ],
      "text/plain": [
       "                     first      last\n",
       "email                               \n",
       "dudung@gmail.com    dudung  serudung\n",
       "emangnye@gmail.com    eman  suherman\n",
       "bobie2yahoo.com       Bobi    Subobi"
      ]
     },
     "execution_count": 6,
     "metadata": {},
     "output_type": "execute_result"
    }
   ],
   "source": [
    "df.set_index('email')"
   ]
  },
  {
   "cell_type": "markdown",
   "id": "fcad6a0e-bc1a-4285-9f43-97387faec446",
   "metadata": {},
   "source": [
    "#### tapi kalau kita lihat lagi tabel nya, kolom email belum menjadi index yang tetap"
   ]
  },
  {
   "cell_type": "code",
   "execution_count": 7,
   "id": "bafbd3df-6481-44db-b091-58fd4a8647a2",
   "metadata": {},
   "outputs": [
    {
     "data": {
      "text/html": [
       "<div>\n",
       "<style scoped>\n",
       "    .dataframe tbody tr th:only-of-type {\n",
       "        vertical-align: middle;\n",
       "    }\n",
       "\n",
       "    .dataframe tbody tr th {\n",
       "        vertical-align: top;\n",
       "    }\n",
       "\n",
       "    .dataframe thead th {\n",
       "        text-align: right;\n",
       "    }\n",
       "</style>\n",
       "<table border=\"1\" class=\"dataframe\">\n",
       "  <thead>\n",
       "    <tr style=\"text-align: right;\">\n",
       "      <th></th>\n",
       "      <th>first</th>\n",
       "      <th>last</th>\n",
       "      <th>email</th>\n",
       "    </tr>\n",
       "  </thead>\n",
       "  <tbody>\n",
       "    <tr>\n",
       "      <th>0</th>\n",
       "      <td>dudung</td>\n",
       "      <td>serudung</td>\n",
       "      <td>dudung@gmail.com</td>\n",
       "    </tr>\n",
       "    <tr>\n",
       "      <th>1</th>\n",
       "      <td>eman</td>\n",
       "      <td>suherman</td>\n",
       "      <td>emangnye@gmail.com</td>\n",
       "    </tr>\n",
       "    <tr>\n",
       "      <th>2</th>\n",
       "      <td>Bobi</td>\n",
       "      <td>Subobi</td>\n",
       "      <td>bobie2yahoo.com</td>\n",
       "    </tr>\n",
       "  </tbody>\n",
       "</table>\n",
       "</div>"
      ],
      "text/plain": [
       "    first      last               email\n",
       "0  dudung  serudung    dudung@gmail.com\n",
       "1    eman  suherman  emangnye@gmail.com\n",
       "2    Bobi    Subobi     bobie2yahoo.com"
      ]
     },
     "execution_count": 7,
     "metadata": {},
     "output_type": "execute_result"
    }
   ],
   "source": [
    "df"
   ]
  },
  {
   "cell_type": "markdown",
   "id": "08aaa03e-0b3b-4bfc-a287-d17e5f3e1606",
   "metadata": {},
   "source": [
    "#### untuk menjadikan suatu kolom sebagai index yang tetap"
   ]
  },
  {
   "cell_type": "code",
   "execution_count": 8,
   "id": "fcff02a7-b07d-4140-acdb-151eac9b07e7",
   "metadata": {},
   "outputs": [],
   "source": [
    "df.set_index('email', inplace=True)"
   ]
  },
  {
   "cell_type": "code",
   "execution_count": 9,
   "id": "6d7e9d85-7a71-450d-b66a-468e321941d8",
   "metadata": {},
   "outputs": [
    {
     "data": {
      "text/html": [
       "<div>\n",
       "<style scoped>\n",
       "    .dataframe tbody tr th:only-of-type {\n",
       "        vertical-align: middle;\n",
       "    }\n",
       "\n",
       "    .dataframe tbody tr th {\n",
       "        vertical-align: top;\n",
       "    }\n",
       "\n",
       "    .dataframe thead th {\n",
       "        text-align: right;\n",
       "    }\n",
       "</style>\n",
       "<table border=\"1\" class=\"dataframe\">\n",
       "  <thead>\n",
       "    <tr style=\"text-align: right;\">\n",
       "      <th></th>\n",
       "      <th>first</th>\n",
       "      <th>last</th>\n",
       "    </tr>\n",
       "    <tr>\n",
       "      <th>email</th>\n",
       "      <th></th>\n",
       "      <th></th>\n",
       "    </tr>\n",
       "  </thead>\n",
       "  <tbody>\n",
       "    <tr>\n",
       "      <th>dudung@gmail.com</th>\n",
       "      <td>dudung</td>\n",
       "      <td>serudung</td>\n",
       "    </tr>\n",
       "    <tr>\n",
       "      <th>emangnye@gmail.com</th>\n",
       "      <td>eman</td>\n",
       "      <td>suherman</td>\n",
       "    </tr>\n",
       "    <tr>\n",
       "      <th>bobie2yahoo.com</th>\n",
       "      <td>Bobi</td>\n",
       "      <td>Subobi</td>\n",
       "    </tr>\n",
       "  </tbody>\n",
       "</table>\n",
       "</div>"
      ],
      "text/plain": [
       "                     first      last\n",
       "email                               \n",
       "dudung@gmail.com    dudung  serudung\n",
       "emangnye@gmail.com    eman  suherman\n",
       "bobie2yahoo.com       Bobi    Subobi"
      ]
     },
     "execution_count": 9,
     "metadata": {},
     "output_type": "execute_result"
    }
   ],
   "source": [
    "df"
   ]
  },
  {
   "cell_type": "markdown",
   "id": "afe1245e-c2b9-4438-acc7-a2150ec60d63",
   "metadata": {},
   "source": [
    "#### untuk memastikan index nya benar-benar dari kolom email"
   ]
  },
  {
   "cell_type": "code",
   "execution_count": 10,
   "id": "70fc93e1-afef-4482-b8ac-a4ed28aaa139",
   "metadata": {},
   "outputs": [
    {
     "data": {
      "text/plain": [
       "Index(['dudung@gmail.com', 'emangnye@gmail.com', 'bobie2yahoo.com'], dtype='object', name='email')"
      ]
     },
     "execution_count": 10,
     "metadata": {},
     "output_type": "execute_result"
    }
   ],
   "source": [
    "df.index"
   ]
  },
  {
   "cell_type": "markdown",
   "id": "770be822-771f-4947-b3d0-d04d2fc4df2a",
   "metadata": {},
   "source": [
    "#### Kita ingin melihat informasi dari kolom dengan index yg berisi emangnye@gmail.com"
   ]
  },
  {
   "cell_type": "code",
   "execution_count": 12,
   "id": "211899c7-b364-4c5b-aec8-a8bd61f8f1b0",
   "metadata": {},
   "outputs": [
    {
     "data": {
      "text/plain": [
       "first        eman\n",
       "last     suherman\n",
       "Name: emangnye@gmail.com, dtype: object"
      ]
     },
     "execution_count": 12,
     "metadata": {},
     "output_type": "execute_result"
    }
   ],
   "source": [
    "df.loc['emangnye@gmail.com']"
   ]
  },
  {
   "cell_type": "markdown",
   "id": "d5985b48-17f7-4034-9d95-280df23c4fb1",
   "metadata": {},
   "source": [
    "#### jadi kalau kita merujuk ke index 0, maka akan error, karena sekarang index nya adalah alamat email"
   ]
  },
  {
   "cell_type": "markdown",
   "id": "304e9592-1d7e-4987-adf7-a5dd93f7426c",
   "metadata": {},
   "source": [
    "#### untuk mengembalikan ke index semula"
   ]
  },
  {
   "cell_type": "code",
   "execution_count": 13,
   "id": "6bd72265-85db-4b9e-bc35-c415889f07bb",
   "metadata": {},
   "outputs": [
    {
     "data": {
      "text/html": [
       "<div>\n",
       "<style scoped>\n",
       "    .dataframe tbody tr th:only-of-type {\n",
       "        vertical-align: middle;\n",
       "    }\n",
       "\n",
       "    .dataframe tbody tr th {\n",
       "        vertical-align: top;\n",
       "    }\n",
       "\n",
       "    .dataframe thead th {\n",
       "        text-align: right;\n",
       "    }\n",
       "</style>\n",
       "<table border=\"1\" class=\"dataframe\">\n",
       "  <thead>\n",
       "    <tr style=\"text-align: right;\">\n",
       "      <th></th>\n",
       "      <th>email</th>\n",
       "      <th>first</th>\n",
       "      <th>last</th>\n",
       "    </tr>\n",
       "  </thead>\n",
       "  <tbody>\n",
       "    <tr>\n",
       "      <th>0</th>\n",
       "      <td>dudung@gmail.com</td>\n",
       "      <td>dudung</td>\n",
       "      <td>serudung</td>\n",
       "    </tr>\n",
       "    <tr>\n",
       "      <th>1</th>\n",
       "      <td>emangnye@gmail.com</td>\n",
       "      <td>eman</td>\n",
       "      <td>suherman</td>\n",
       "    </tr>\n",
       "    <tr>\n",
       "      <th>2</th>\n",
       "      <td>bobie2yahoo.com</td>\n",
       "      <td>Bobi</td>\n",
       "      <td>Subobi</td>\n",
       "    </tr>\n",
       "  </tbody>\n",
       "</table>\n",
       "</div>"
      ],
      "text/plain": [
       "                email   first      last\n",
       "0    dudung@gmail.com  dudung  serudung\n",
       "1  emangnye@gmail.com    eman  suherman\n",
       "2     bobie2yahoo.com    Bobi    Subobi"
      ]
     },
     "execution_count": 13,
     "metadata": {},
     "output_type": "execute_result"
    }
   ],
   "source": [
    "df.reset_index(inplace=True)\n",
    "df"
   ]
  },
  {
   "cell_type": "markdown",
   "id": "13d8ca0e-e7a7-4f89-8a80-1a5712bbd0bd",
   "metadata": {},
   "source": [
    "#### kita praktekkan di data utama kita"
   ]
  },
  {
   "cell_type": "code",
   "execution_count": null,
   "id": "5072a20f-fa39-4da3-b190-481959b8d6fa",
   "metadata": {},
   "outputs": [],
   "source": []
  }
 ],
 "metadata": {
  "kernelspec": {
   "display_name": "Python 3 (ipykernel)",
   "language": "python",
   "name": "python3"
  },
  "language_info": {
   "codemirror_mode": {
    "name": "ipython",
    "version": 3
   },
   "file_extension": ".py",
   "mimetype": "text/x-python",
   "name": "python",
   "nbconvert_exporter": "python",
   "pygments_lexer": "ipython3",
   "version": "3.12.4"
  }
 },
 "nbformat": 4,
 "nbformat_minor": 5
}
