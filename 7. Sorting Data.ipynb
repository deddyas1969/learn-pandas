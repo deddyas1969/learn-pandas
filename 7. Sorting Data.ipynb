{
 "cells": [
  {
   "cell_type": "code",
   "execution_count": 1,
   "id": "5a6fa642-8196-4211-a223-c2a2ad970c27",
   "metadata": {},
   "outputs": [],
   "source": [
    "people = {\n",
    "    'first':['dudung','eman','Bobi','Saya'],\n",
    "    'last':['xuherman', 'guherman','dubobi','Kayaraya'],\n",
    "    'email':['dudung@gmail.com','emangnye@gmail.com','bobie2yahoo.com','sayakayaraya@gmail.com']\n",
    "}"
   ]
  },
  {
   "cell_type": "code",
   "execution_count": 2,
   "id": "bb762683-ab1e-4580-8961-7e61e11ac934",
   "metadata": {},
   "outputs": [],
   "source": [
    "import pandas as pd"
   ]
  },
  {
   "cell_type": "code",
   "execution_count": 3,
   "id": "07827078-504a-4280-929c-d0d327f44aa1",
   "metadata": {},
   "outputs": [],
   "source": [
    "df = pd.DataFrame(people)"
   ]
  },
  {
   "cell_type": "code",
   "execution_count": 4,
   "id": "b1e7168c-3a34-4ad2-bcb0-d7d775e2a59a",
   "metadata": {},
   "outputs": [
    {
     "data": {
      "text/html": [
       "<div>\n",
       "<style scoped>\n",
       "    .dataframe tbody tr th:only-of-type {\n",
       "        vertical-align: middle;\n",
       "    }\n",
       "\n",
       "    .dataframe tbody tr th {\n",
       "        vertical-align: top;\n",
       "    }\n",
       "\n",
       "    .dataframe thead th {\n",
       "        text-align: right;\n",
       "    }\n",
       "</style>\n",
       "<table border=\"1\" class=\"dataframe\">\n",
       "  <thead>\n",
       "    <tr style=\"text-align: right;\">\n",
       "      <th></th>\n",
       "      <th>first</th>\n",
       "      <th>last</th>\n",
       "      <th>email</th>\n",
       "    </tr>\n",
       "  </thead>\n",
       "  <tbody>\n",
       "    <tr>\n",
       "      <th>0</th>\n",
       "      <td>dudung</td>\n",
       "      <td>xuherman</td>\n",
       "      <td>dudung@gmail.com</td>\n",
       "    </tr>\n",
       "    <tr>\n",
       "      <th>1</th>\n",
       "      <td>eman</td>\n",
       "      <td>guherman</td>\n",
       "      <td>emangnye@gmail.com</td>\n",
       "    </tr>\n",
       "    <tr>\n",
       "      <th>2</th>\n",
       "      <td>Bobi</td>\n",
       "      <td>dubobi</td>\n",
       "      <td>bobie2yahoo.com</td>\n",
       "    </tr>\n",
       "    <tr>\n",
       "      <th>3</th>\n",
       "      <td>Saya</td>\n",
       "      <td>Kayaraya</td>\n",
       "      <td>sayakayaraya@gmail.com</td>\n",
       "    </tr>\n",
       "  </tbody>\n",
       "</table>\n",
       "</div>"
      ],
      "text/plain": [
       "    first      last                   email\n",
       "0  dudung  xuherman        dudung@gmail.com\n",
       "1    eman  guherman      emangnye@gmail.com\n",
       "2    Bobi    dubobi         bobie2yahoo.com\n",
       "3    Saya  Kayaraya  sayakayaraya@gmail.com"
      ]
     },
     "execution_count": 4,
     "metadata": {},
     "output_type": "execute_result"
    }
   ],
   "source": [
    "df"
   ]
  },
  {
   "cell_type": "markdown",
   "id": "40e3d394-1a38-4241-ae0b-d13b8b7ad0db",
   "metadata": {},
   "source": [
    "#### kita akan urutkan nama pada kolom first"
   ]
  },
  {
   "cell_type": "code",
   "execution_count": 5,
   "id": "7b15fd49-2ea9-4cd5-9b12-68c561c6cb62",
   "metadata": {},
   "outputs": [
    {
     "data": {
      "text/html": [
       "<div>\n",
       "<style scoped>\n",
       "    .dataframe tbody tr th:only-of-type {\n",
       "        vertical-align: middle;\n",
       "    }\n",
       "\n",
       "    .dataframe tbody tr th {\n",
       "        vertical-align: top;\n",
       "    }\n",
       "\n",
       "    .dataframe thead th {\n",
       "        text-align: right;\n",
       "    }\n",
       "</style>\n",
       "<table border=\"1\" class=\"dataframe\">\n",
       "  <thead>\n",
       "    <tr style=\"text-align: right;\">\n",
       "      <th></th>\n",
       "      <th>first</th>\n",
       "      <th>last</th>\n",
       "      <th>email</th>\n",
       "    </tr>\n",
       "  </thead>\n",
       "  <tbody>\n",
       "    <tr>\n",
       "      <th>2</th>\n",
       "      <td>Bobi</td>\n",
       "      <td>dubobi</td>\n",
       "      <td>bobie2yahoo.com</td>\n",
       "    </tr>\n",
       "    <tr>\n",
       "      <th>3</th>\n",
       "      <td>Saya</td>\n",
       "      <td>Kayaraya</td>\n",
       "      <td>sayakayaraya@gmail.com</td>\n",
       "    </tr>\n",
       "    <tr>\n",
       "      <th>0</th>\n",
       "      <td>dudung</td>\n",
       "      <td>xuherman</td>\n",
       "      <td>dudung@gmail.com</td>\n",
       "    </tr>\n",
       "    <tr>\n",
       "      <th>1</th>\n",
       "      <td>eman</td>\n",
       "      <td>guherman</td>\n",
       "      <td>emangnye@gmail.com</td>\n",
       "    </tr>\n",
       "  </tbody>\n",
       "</table>\n",
       "</div>"
      ],
      "text/plain": [
       "    first      last                   email\n",
       "2    Bobi    dubobi         bobie2yahoo.com\n",
       "3    Saya  Kayaraya  sayakayaraya@gmail.com\n",
       "0  dudung  xuherman        dudung@gmail.com\n",
       "1    eman  guherman      emangnye@gmail.com"
      ]
     },
     "execution_count": 5,
     "metadata": {},
     "output_type": "execute_result"
    }
   ],
   "source": [
    "df.sort_values(by='first')"
   ]
  },
  {
   "cell_type": "code",
   "execution_count": 6,
   "id": "f177b2f7-fdca-42b8-add8-987a51aef4ff",
   "metadata": {},
   "outputs": [
    {
     "data": {
      "text/html": [
       "<div>\n",
       "<style scoped>\n",
       "    .dataframe tbody tr th:only-of-type {\n",
       "        vertical-align: middle;\n",
       "    }\n",
       "\n",
       "    .dataframe tbody tr th {\n",
       "        vertical-align: top;\n",
       "    }\n",
       "\n",
       "    .dataframe thead th {\n",
       "        text-align: right;\n",
       "    }\n",
       "</style>\n",
       "<table border=\"1\" class=\"dataframe\">\n",
       "  <thead>\n",
       "    <tr style=\"text-align: right;\">\n",
       "      <th></th>\n",
       "      <th>first</th>\n",
       "      <th>last</th>\n",
       "      <th>email</th>\n",
       "    </tr>\n",
       "  </thead>\n",
       "  <tbody>\n",
       "    <tr>\n",
       "      <th>1</th>\n",
       "      <td>eman</td>\n",
       "      <td>guherman</td>\n",
       "      <td>emangnye@gmail.com</td>\n",
       "    </tr>\n",
       "    <tr>\n",
       "      <th>0</th>\n",
       "      <td>dudung</td>\n",
       "      <td>xuherman</td>\n",
       "      <td>dudung@gmail.com</td>\n",
       "    </tr>\n",
       "    <tr>\n",
       "      <th>3</th>\n",
       "      <td>Saya</td>\n",
       "      <td>Kayaraya</td>\n",
       "      <td>sayakayaraya@gmail.com</td>\n",
       "    </tr>\n",
       "    <tr>\n",
       "      <th>2</th>\n",
       "      <td>Bobi</td>\n",
       "      <td>dubobi</td>\n",
       "      <td>bobie2yahoo.com</td>\n",
       "    </tr>\n",
       "  </tbody>\n",
       "</table>\n",
       "</div>"
      ],
      "text/plain": [
       "    first      last                   email\n",
       "1    eman  guherman      emangnye@gmail.com\n",
       "0  dudung  xuherman        dudung@gmail.com\n",
       "3    Saya  Kayaraya  sayakayaraya@gmail.com\n",
       "2    Bobi    dubobi         bobie2yahoo.com"
      ]
     },
     "execution_count": 6,
     "metadata": {},
     "output_type": "execute_result"
    }
   ],
   "source": [
    "df.sort_values(by='first', ascending=False)"
   ]
  },
  {
   "cell_type": "markdown",
   "id": "d661fe84-cf51-4130-9781-29f8028787de",
   "metadata": {},
   "source": [
    "#### sort ini defaultnya adalah asc (dari a ke z), untuk mengurutkan sebaliknya kita gunakan asc=False"
   ]
  },
  {
   "cell_type": "markdown",
   "id": "05339807-53c5-47d0-91b8-ad5f06f81ea7",
   "metadata": {},
   "source": [
    "#### kita akan mengurutkan kolom last dulu dari z ke a (desc) , lalu diikuti kolom first "
   ]
  },
  {
   "cell_type": "code",
   "execution_count": 8,
   "id": "641ac771-0e18-47bb-b424-f5f4b5f9f1d7",
   "metadata": {},
   "outputs": [
    {
     "data": {
      "text/html": [
       "<div>\n",
       "<style scoped>\n",
       "    .dataframe tbody tr th:only-of-type {\n",
       "        vertical-align: middle;\n",
       "    }\n",
       "\n",
       "    .dataframe tbody tr th {\n",
       "        vertical-align: top;\n",
       "    }\n",
       "\n",
       "    .dataframe thead th {\n",
       "        text-align: right;\n",
       "    }\n",
       "</style>\n",
       "<table border=\"1\" class=\"dataframe\">\n",
       "  <thead>\n",
       "    <tr style=\"text-align: right;\">\n",
       "      <th></th>\n",
       "      <th>first</th>\n",
       "      <th>last</th>\n",
       "      <th>email</th>\n",
       "    </tr>\n",
       "  </thead>\n",
       "  <tbody>\n",
       "    <tr>\n",
       "      <th>0</th>\n",
       "      <td>dudung</td>\n",
       "      <td>xuherman</td>\n",
       "      <td>dudung@gmail.com</td>\n",
       "    </tr>\n",
       "    <tr>\n",
       "      <th>1</th>\n",
       "      <td>eman</td>\n",
       "      <td>guherman</td>\n",
       "      <td>emangnye@gmail.com</td>\n",
       "    </tr>\n",
       "    <tr>\n",
       "      <th>2</th>\n",
       "      <td>Bobi</td>\n",
       "      <td>dubobi</td>\n",
       "      <td>bobie2yahoo.com</td>\n",
       "    </tr>\n",
       "    <tr>\n",
       "      <th>3</th>\n",
       "      <td>Saya</td>\n",
       "      <td>Kayaraya</td>\n",
       "      <td>sayakayaraya@gmail.com</td>\n",
       "    </tr>\n",
       "  </tbody>\n",
       "</table>\n",
       "</div>"
      ],
      "text/plain": [
       "    first      last                   email\n",
       "0  dudung  xuherman        dudung@gmail.com\n",
       "1    eman  guherman      emangnye@gmail.com\n",
       "2    Bobi    dubobi         bobie2yahoo.com\n",
       "3    Saya  Kayaraya  sayakayaraya@gmail.com"
      ]
     },
     "execution_count": 8,
     "metadata": {},
     "output_type": "execute_result"
    }
   ],
   "source": [
    "df.sort_values(by=['last','first'], ascending=[False,True])"
   ]
  },
  {
   "cell_type": "markdown",
   "id": "95643275-bd97-4992-8499-7fb5358cc84e",
   "metadata": {},
   "source": [
    "#### Kita buat permanen tabel ini, dengan menambahkan inplace=True"
   ]
  },
  {
   "cell_type": "code",
   "execution_count": 10,
   "id": "e1149f24-afb9-48c9-b0ae-5a9a11345396",
   "metadata": {},
   "outputs": [],
   "source": [
    "df.sort_values(by=['last','first'], ascending=[False,True], inplace=True)"
   ]
  },
  {
   "cell_type": "code",
   "execution_count": 11,
   "id": "bb9e9d5f-e3fb-44d2-963e-7beba960230b",
   "metadata": {},
   "outputs": [
    {
     "data": {
      "text/html": [
       "<div>\n",
       "<style scoped>\n",
       "    .dataframe tbody tr th:only-of-type {\n",
       "        vertical-align: middle;\n",
       "    }\n",
       "\n",
       "    .dataframe tbody tr th {\n",
       "        vertical-align: top;\n",
       "    }\n",
       "\n",
       "    .dataframe thead th {\n",
       "        text-align: right;\n",
       "    }\n",
       "</style>\n",
       "<table border=\"1\" class=\"dataframe\">\n",
       "  <thead>\n",
       "    <tr style=\"text-align: right;\">\n",
       "      <th></th>\n",
       "      <th>first</th>\n",
       "      <th>last</th>\n",
       "      <th>email</th>\n",
       "    </tr>\n",
       "  </thead>\n",
       "  <tbody>\n",
       "    <tr>\n",
       "      <th>0</th>\n",
       "      <td>dudung</td>\n",
       "      <td>xuherman</td>\n",
       "      <td>dudung@gmail.com</td>\n",
       "    </tr>\n",
       "    <tr>\n",
       "      <th>1</th>\n",
       "      <td>eman</td>\n",
       "      <td>guherman</td>\n",
       "      <td>emangnye@gmail.com</td>\n",
       "    </tr>\n",
       "    <tr>\n",
       "      <th>2</th>\n",
       "      <td>Bobi</td>\n",
       "      <td>dubobi</td>\n",
       "      <td>bobie2yahoo.com</td>\n",
       "    </tr>\n",
       "    <tr>\n",
       "      <th>3</th>\n",
       "      <td>Saya</td>\n",
       "      <td>Kayaraya</td>\n",
       "      <td>sayakayaraya@gmail.com</td>\n",
       "    </tr>\n",
       "  </tbody>\n",
       "</table>\n",
       "</div>"
      ],
      "text/plain": [
       "    first      last                   email\n",
       "0  dudung  xuherman        dudung@gmail.com\n",
       "1    eman  guherman      emangnye@gmail.com\n",
       "2    Bobi    dubobi         bobie2yahoo.com\n",
       "3    Saya  Kayaraya  sayakayaraya@gmail.com"
      ]
     },
     "execution_count": 11,
     "metadata": {},
     "output_type": "execute_result"
    }
   ],
   "source": [
    "df"
   ]
  },
  {
   "cell_type": "markdown",
   "id": "154b97e6-75bc-4b86-b1b8-d3f348aad536",
   "metadata": {},
   "source": [
    "#### supaya index nya tersusun dengan rapi, walaupun sudah rapi ya ini, "
   ]
  },
  {
   "cell_type": "code",
   "execution_count": 12,
   "id": "6fc72aa6-60be-4a14-8cea-16657aceb450",
   "metadata": {},
   "outputs": [
    {
     "data": {
      "text/html": [
       "<div>\n",
       "<style scoped>\n",
       "    .dataframe tbody tr th:only-of-type {\n",
       "        vertical-align: middle;\n",
       "    }\n",
       "\n",
       "    .dataframe tbody tr th {\n",
       "        vertical-align: top;\n",
       "    }\n",
       "\n",
       "    .dataframe thead th {\n",
       "        text-align: right;\n",
       "    }\n",
       "</style>\n",
       "<table border=\"1\" class=\"dataframe\">\n",
       "  <thead>\n",
       "    <tr style=\"text-align: right;\">\n",
       "      <th></th>\n",
       "      <th>first</th>\n",
       "      <th>last</th>\n",
       "      <th>email</th>\n",
       "    </tr>\n",
       "  </thead>\n",
       "  <tbody>\n",
       "    <tr>\n",
       "      <th>0</th>\n",
       "      <td>dudung</td>\n",
       "      <td>xuherman</td>\n",
       "      <td>dudung@gmail.com</td>\n",
       "    </tr>\n",
       "    <tr>\n",
       "      <th>1</th>\n",
       "      <td>eman</td>\n",
       "      <td>guherman</td>\n",
       "      <td>emangnye@gmail.com</td>\n",
       "    </tr>\n",
       "    <tr>\n",
       "      <th>2</th>\n",
       "      <td>Bobi</td>\n",
       "      <td>dubobi</td>\n",
       "      <td>bobie2yahoo.com</td>\n",
       "    </tr>\n",
       "    <tr>\n",
       "      <th>3</th>\n",
       "      <td>Saya</td>\n",
       "      <td>Kayaraya</td>\n",
       "      <td>sayakayaraya@gmail.com</td>\n",
       "    </tr>\n",
       "  </tbody>\n",
       "</table>\n",
       "</div>"
      ],
      "text/plain": [
       "    first      last                   email\n",
       "0  dudung  xuherman        dudung@gmail.com\n",
       "1    eman  guherman      emangnye@gmail.com\n",
       "2    Bobi    dubobi         bobie2yahoo.com\n",
       "3    Saya  Kayaraya  sayakayaraya@gmail.com"
      ]
     },
     "execution_count": 12,
     "metadata": {},
     "output_type": "execute_result"
    }
   ],
   "source": [
    "df.sort_index()"
   ]
  },
  {
   "cell_type": "markdown",
   "id": "4871857b-ca07-4c5d-b50c-3fc116284e51",
   "metadata": {},
   "source": [
    "#### Kita ke Pandas demo, menerapkan sorting data"
   ]
  },
  {
   "cell_type": "code",
   "execution_count": null,
   "id": "2121d7dd-ad5c-44a3-a095-700c305aaa65",
   "metadata": {},
   "outputs": [],
   "source": []
  }
 ],
 "metadata": {
  "kernelspec": {
   "display_name": "Python 3 (ipykernel)",
   "language": "python",
   "name": "python3"
  },
  "language_info": {
   "codemirror_mode": {
    "name": "ipython",
    "version": 3
   },
   "file_extension": ".py",
   "mimetype": "text/x-python",
   "name": "python",
   "nbconvert_exporter": "python",
   "pygments_lexer": "ipython3",
   "version": "3.12.4"
  }
 },
 "nbformat": 4,
 "nbformat_minor": 5
}
