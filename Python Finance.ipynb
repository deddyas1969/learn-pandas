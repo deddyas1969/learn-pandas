{
 "cells": [
  {
   "cell_type": "markdown",
   "id": "682f3782-2091-49bf-9601-429517f9eb6b",
   "metadata": {},
   "source": [
    "# Python for Finance (Udemy \"Master Python prog fundamentals and harness th epower of ML to solve Raeal-World Prac App in Finance\")"
   ]
  },
  {
   "cell_type": "code",
   "execution_count": 1,
   "id": "b7841fe6-640d-4051-8d9f-96aa7fc0f716",
   "metadata": {},
   "outputs": [],
   "source": [
    "# hanya catatan supaya ga lupa aja"
   ]
  },
  {
   "cell_type": "code",
   "execution_count": 2,
   "id": "407e5592-7dd1-4993-bbc0-b5e4bcbba61d",
   "metadata": {},
   "outputs": [
    {
     "name": "stdout",
     "output_type": "stream",
     "text": [
      "{'AAPL', 'T', 'GOOG'}\n"
     ]
    }
   ],
   "source": [
    "# jenis Data\n",
    "# SET\n",
    "# set ini nilai yg tidak berurutan, dan tidak ada duplikat\n",
    "my_set = {'GOOG','AAPL','T'}\n",
    "print(my_set)"
   ]
  },
  {
   "cell_type": "code",
   "execution_count": 3,
   "id": "a4833552-8e58-4edd-8435-1980b58a1bad",
   "metadata": {},
   "outputs": [
    {
     "name": "stdout",
     "output_type": "stream",
     "text": [
      "{'d', 'x', 'z', 'a'}\n"
     ]
    }
   ],
   "source": [
    "coba = {'x','a','d','z'}\n",
    "print(coba)"
   ]
  },
  {
   "cell_type": "code",
   "execution_count": 4,
   "id": "be6c40c4-e8e8-4b84-9c7d-a88ca5d44eb7",
   "metadata": {},
   "outputs": [
    {
     "name": "stdout",
     "output_type": "stream",
     "text": [
      "{'TSLA', 'AAPL', 'T', 'GOOG'}\n"
     ]
    }
   ],
   "source": [
    "# tidak akan ada duplikasi\n",
    "my_set ={'GOOG','AAPL','AAPL','T','T','TSLA'}\n",
    "print(my_set) # hasilnya akan muncul satu saja"
   ]
  },
  {
   "cell_type": "markdown",
   "id": "013b4237-c1ae-43bd-b72b-f753f84ed48a",
   "metadata": {},
   "source": [
    "#### Conditional Statement (pelajaran ke 25)"
   ]
  },
  {
   "cell_type": "code",
   "execution_count": 5,
   "id": "280a8fc2-2ae5-4b22-8c66-34fc5fb92f2c",
   "metadata": {},
   "outputs": [
    {
     "name": "stdin",
     "output_type": "stream",
     "text": [
      "Please enter an integer : 8\n"
     ]
    },
    {
     "name": "stdout",
     "output_type": "stream",
     "text": [
      "Number is positive\n"
     ]
    }
   ],
   "source": [
    "x = int(input('Please enter an integer :'))\n",
    "\n",
    "if x < 0 :\n",
    "    print('Number is negative')\n",
    "elif x > 0 :\n",
    "    print('Number is positive')\n",
    "else:\n",
    "    print('Number is zero')"
   ]
  },
  {
   "cell_type": "code",
   "execution_count": 6,
   "id": "b97ed889-eef3-4577-9e6f-aa13679366fa",
   "metadata": {},
   "outputs": [],
   "source": [
    "# Write a code that takes a number from` the user and checks if the number is divisible by 3 but is not a multiple of 7"
   ]
  },
  {
   "cell_type": "code",
   "execution_count": 7,
   "id": "724678bf-6938-4f13-83db-1db965b08ff2",
   "metadata": {},
   "outputs": [
    {
     "name": "stdin",
     "output_type": "stream",
     "text": [
      "Enter a number between 1 and 100: 60\n"
     ]
    },
    {
     "name": "stdout",
     "output_type": "stream",
     "text": [
      "Number satisfies the requirement; The number is divisible by 3 and not multiple of 7\n"
     ]
    }
   ],
   "source": [
    "i = int(input(\"Enter a number between 1 and 100:\"))\n",
    "\n",
    "if (i % 3 == 0) and (i % 7 !=0):\n",
    "    print(\"Number satisfies the requirement; The number is divisible by 3 and not multiple of 7\")\n",
    "else:\n",
    "    print(\"The number does not satisfy the requirements\")\n"
   ]
  },
  {
   "cell_type": "markdown",
   "id": "575fe73f-0760-4ef1-aade-bab373cecc4b",
   "metadata": {},
   "source": [
    "#### For Loops"
   ]
  },
  {
   "cell_type": "code",
   "execution_count": 8,
   "id": "ba0eda59-1ef5-4a99-b20f-c61c289ee6bc",
   "metadata": {},
   "outputs": [],
   "source": [
    "# untuk pengulangan lebih dari 1 kali"
   ]
  },
  {
   "cell_type": "code",
   "execution_count": 9,
   "id": "ea0d8acb-4b25-4c0c-a0be-09fbd58e0826",
   "metadata": {},
   "outputs": [
    {
     "data": {
      "text/plain": [
       "[1, 2, 3]"
      ]
     },
     "execution_count": 9,
     "metadata": {},
     "output_type": "execute_result"
    }
   ],
   "source": [
    "my_list = [1,2,3]\n",
    "my_list"
   ]
  },
  {
   "cell_type": "code",
   "execution_count": 10,
   "id": "19cb78fd-4b99-4f4f-8f2d-2bec25537b82",
   "metadata": {},
   "outputs": [
    {
     "name": "stdout",
     "output_type": "stream",
     "text": [
      "1\n",
      "2\n",
      "3\n"
     ]
    }
   ],
   "source": [
    "for inde in my_list:\n",
    "    print(inde)"
   ]
  },
  {
   "cell_type": "code",
   "execution_count": 11,
   "id": "6c8d3547-81ac-4141-96c0-385880637d5c",
   "metadata": {},
   "outputs": [
    {
     "name": "stdout",
     "output_type": "stream",
     "text": [
      "1\n",
      "Deddy andri\n",
      "2\n",
      "Deddy andri\n",
      "3\n",
      "Deddy andri\n"
     ]
    }
   ],
   "source": [
    "for i in my_list:\n",
    "    print(i)\n",
    "    print('Deddy andri')"
   ]
  },
  {
   "cell_type": "code",
   "execution_count": 12,
   "id": "c7e91f1d-895f-4590-856c-2d02c49ff764",
   "metadata": {},
   "outputs": [
    {
     "data": {
      "text/plain": [
       "['AAPL', 'GOOG', 'T', 'TSLA', 'SP500']"
      ]
     },
     "execution_count": 12,
     "metadata": {},
     "output_type": "execute_result"
    }
   ],
   "source": [
    "# List of strings\n",
    "my_list = ['AAPL','GOOG','T', 'TSLA','SP500']\n",
    "my_list"
   ]
  },
  {
   "cell_type": "code",
   "execution_count": 13,
   "id": "d13867cc-1264-49a7-bfaa-64915bdc1b23",
   "metadata": {},
   "outputs": [
    {
     "name": "stdout",
     "output_type": "stream",
     "text": [
      "AAPL\n",
      "GOOG\n",
      "T\n",
      "TSLA\n",
      "SP500\n"
     ]
    }
   ],
   "source": [
    "# sekarang coba kita loops\n",
    "for apa in my_list:\n",
    "    print(apa)"
   ]
  },
  {
   "cell_type": "code",
   "execution_count": 14,
   "id": "e7641e83-6156-4b35-bb34-546c09bc9c34",
   "metadata": {},
   "outputs": [],
   "source": [
    "# Tapi kalau kita buat loops nya seperti ini, maka akan menjadi sbb"
   ]
  },
  {
   "cell_type": "code",
   "execution_count": 15,
   "id": "ee50e832-c110-4cd0-a081-ad53003b5909",
   "metadata": {},
   "outputs": [
    {
     "name": "stdout",
     "output_type": "stream",
     "text": [
      "T\n",
      "S\n",
      "L\n",
      "A\n"
     ]
    }
   ],
   "source": [
    "for apa in 'TSLA' :\n",
    "    print(apa)"
   ]
  },
  {
   "cell_type": "code",
   "execution_count": 16,
   "id": "e20b283b-3eac-40ca-8a7a-e00b1b5d5510",
   "metadata": {},
   "outputs": [],
   "source": [
    "# Write a code that takes in a string and prints it out on the screen except for any letter 'T'. You can replace the letter 'T' with '*'"
   ]
  },
  {
   "cell_type": "code",
   "execution_count": 17,
   "id": "c0654038-6f39-4dbb-8fbb-1b02b5b38df0",
   "metadata": {},
   "outputs": [
    {
     "name": "stdout",
     "output_type": "stream",
     "text": [
      "*\n",
      "S\n",
      "L\n",
      "A\n"
     ]
    }
   ],
   "source": [
    "# loops digabung dengan if condition\n",
    "for letter in 'TSLA':\n",
    "    if letter == 'T':\n",
    "        print('*')\n",
    "    else:\n",
    "        print(letter)\n",
    "        "
   ]
  },
  {
   "cell_type": "code",
   "execution_count": 18,
   "id": "cd58331d-5662-4fba-ad62-86564c723749",
   "metadata": {},
   "outputs": [
    {
     "name": "stdout",
     "output_type": "stream",
     "text": [
      "*\n",
      "S\n",
      "L\n",
      "A\n",
      "*\n",
      "*\n",
      "*\n",
      "B\n",
      "K\n",
      "F\n",
      "D\n",
      "*\n",
      "*\n",
      "*\n"
     ]
    }
   ],
   "source": [
    "# Sekarang kalau kita banyakin huruf T nya\n",
    "for letter in 'TSLATTTBKFDTTT':\n",
    "    if letter == 'T':\n",
    "        print('*')\n",
    "    else:\n",
    "        print(letter)\n",
    "        "
   ]
  },
  {
   "cell_type": "markdown",
   "id": "8d5bc873-95b6-480a-9988-b35478f46a5e",
   "metadata": {},
   "source": [
    "#### Range"
   ]
  },
  {
   "cell_type": "code",
   "execution_count": 19,
   "id": "1439b84d-6451-4c90-9657-ee7e8ed314f9",
   "metadata": {},
   "outputs": [],
   "source": [
    "# Range ini merupakan index base, artinya list index yg dimulai dari 0"
   ]
  },
  {
   "cell_type": "code",
   "execution_count": 20,
   "id": "e8805934-8823-483c-9b0c-ff64f156c2e6",
   "metadata": {},
   "outputs": [
    {
     "name": "stdout",
     "output_type": "stream",
     "text": [
      "0\n",
      "1\n",
      "2\n",
      "3\n",
      "4\n",
      "5\n"
     ]
    }
   ],
   "source": [
    "for deddy in range(6):# hasilnya angka 6 tidak ikut\n",
    "    print(deddy)"
   ]
  },
  {
   "cell_type": "code",
   "execution_count": 21,
   "id": "6d42009b-dc49-49cd-aa47-0e9631ee4e28",
   "metadata": {},
   "outputs": [
    {
     "name": "stdout",
     "output_type": "stream",
     "text": [
      "5\n",
      "6\n",
      "7\n",
      "8\n",
      "9\n",
      "10\n",
      "11\n",
      "12\n",
      "13\n",
      "14\n",
      "15\n",
      "16\n",
      "17\n",
      "18\n",
      "19\n"
     ]
    }
   ],
   "source": [
    "# Kita ingin membuat index antara 5 sampai 19\n",
    "for andri in range(5,20):\n",
    "    print(andri)"
   ]
  },
  {
   "cell_type": "code",
   "execution_count": 22,
   "id": "ff8e2c92-6ab3-49f2-8c1a-36a7a94ddce5",
   "metadata": {},
   "outputs": [
    {
     "name": "stdout",
     "output_type": "stream",
     "text": [
      "5\n",
      "7\n",
      "9\n",
      "11\n",
      "13\n",
      "15\n",
      "17\n",
      "19\n"
     ]
    }
   ],
   "source": [
    "# index antara 5 sampai 19, tetapi dilongkap 2, \n",
    "for andri in range(5,20,2):\n",
    "    print(andri)"
   ]
  },
  {
   "cell_type": "code",
   "execution_count": 23,
   "id": "c1ec7849-44fa-44d0-97f4-ead5ce7fdf3a",
   "metadata": {},
   "outputs": [
    {
     "name": "stdin",
     "output_type": "stream",
     "text": [
      "Enter the price (lower bound): 10\n",
      "Enter the price (upper bound): 36\n"
     ]
    },
    {
     "name": "stdout",
     "output_type": "stream",
     "text": [
      "10\n",
      "11\n",
      "12\n",
      "13\n",
      "14\n",
      "15\n",
      "16\n",
      "17\n",
      "18\n",
      "19\n",
      "20\n",
      "21\n",
      "22\n",
      "23\n",
      "24\n",
      "25\n",
      "26\n",
      "27\n",
      "28\n",
      "29\n",
      "30\n",
      "31\n",
      "32\n",
      "33\n",
      "34\n",
      "35\n"
     ]
    }
   ],
   "source": [
    "# Kita gabungkan fungsi input dengan fungsi range\n",
    "\n",
    "min = int(input('Enter the price (lower bound):'))\n",
    "max = int(input('Enter the price (upper bound):')) # isi angka 36\n",
    "\n",
    "for i in range(min,max):\n",
    "    print(i)"
   ]
  },
  {
   "cell_type": "code",
   "execution_count": 24,
   "id": "e6dd132b-4abc-4566-80f9-91341cbed6ab",
   "metadata": {},
   "outputs": [],
   "source": [
    "# hasilnya angka 36 tidak termasuk"
   ]
  },
  {
   "cell_type": "markdown",
   "id": "3278c882-f07d-47dd-a167-ce84bc66acc5",
   "metadata": {},
   "source": [
    "#### while Loops"
   ]
  },
  {
   "cell_type": "code",
   "execution_count": 25,
   "id": "0d8a3385-fa9f-4240-86fd-b6cb365923f6",
   "metadata": {},
   "outputs": [
    {
     "name": "stdout",
     "output_type": "stream",
     "text": [
      "0\n",
      "1\n",
      "2\n",
      "3\n",
      "4\n",
      "5\n",
      "6\n",
      "7\n",
      "8\n",
      "9\n",
      "10\n",
      "11\n",
      "12\n",
      "13\n",
      "14\n",
      "15\n"
     ]
    }
   ],
   "source": [
    "# menghasilkan nilai hingga batas tertentu\n",
    "\n",
    "ini = 0\n",
    "while ini<=15: # selama nilai \"ini\" masih dibawah 15, silahkan print\n",
    "    print(ini)\n",
    "    ini = ini+1"
   ]
  },
  {
   "cell_type": "markdown",
   "id": "fb799b2e-8450-46c5-ae8b-38fbdfc3ce83",
   "metadata": {},
   "source": [
    "#### Break a Loop"
   ]
  },
  {
   "cell_type": "code",
   "execution_count": 26,
   "id": "5ce128cd-557b-4d68-b01e-efdb19336efe",
   "metadata": {},
   "outputs": [],
   "source": [
    "# menghentikan for loops dan while loop dengan fungsi break() dan continue()"
   ]
  },
  {
   "cell_type": "code",
   "execution_count": 27,
   "id": "f7cb2102-a88b-42aa-b6ec-8a428f447989",
   "metadata": {},
   "outputs": [],
   "source": [
    "my_list = ['AAPL','GOOG','T', 'TSLA','SP500']"
   ]
  },
  {
   "cell_type": "code",
   "execution_count": 28,
   "id": "90db5f8a-bf03-4ef7-a891-2bb291e27293",
   "metadata": {},
   "outputs": [
    {
     "name": "stdout",
     "output_type": "stream",
     "text": [
      "AAPL\n",
      "GOOG\n",
      "T\n",
      "TSLA\n",
      "SP500\n"
     ]
    }
   ],
   "source": [
    "for i in my_list:\n",
    "    print(i)"
   ]
  },
  {
   "cell_type": "code",
   "execution_count": 29,
   "id": "dff08f48-834c-4114-abf9-a96d1c14896d",
   "metadata": {},
   "outputs": [
    {
     "name": "stdout",
     "output_type": "stream",
     "text": [
      "AAPL\n",
      "GOOG\n",
      "T\n"
     ]
    }
   ],
   "source": [
    "# print semua elemen di list hingga ketemu saham AT&T ('T')\n",
    "for i in my_list:\n",
    "    print(i)\n",
    "    if i == 'T': # jangan lupa kasi tanda : ya\n",
    "        break"
   ]
  },
  {
   "cell_type": "code",
   "execution_count": 30,
   "id": "42f04510-afc3-43ca-8271-cabf515931b0",
   "metadata": {},
   "outputs": [
    {
     "name": "stdout",
     "output_type": "stream",
     "text": [
      "1\n",
      "3\n",
      "5\n",
      "7\n",
      "9\n"
     ]
    }
   ],
   "source": [
    "my_list = [1,2,3,4,5,6,7,8,9,10]\n",
    "\n",
    "for i in my_list:\n",
    "    if i%2 == 0: # jika nilai i dibagi 2 sisanya 0 (genap) jangan dicetak \n",
    "        continue # continue ini sifatnya untuk lanjut\n",
    "    print(i)"
   ]
  },
  {
   "cell_type": "markdown",
   "id": "3ac0bfeb-57ce-44cd-9639-42bc5f2bb712",
   "metadata": {},
   "source": [
    "#### Nested Loop"
   ]
  },
  {
   "cell_type": "code",
   "execution_count": 31,
   "id": "bceaafb7-09bd-4200-876d-d739d32a8044",
   "metadata": {},
   "outputs": [],
   "source": [
    "# adalah loops yang ada di dalam loops lain"
   ]
  },
  {
   "cell_type": "code",
   "execution_count": 32,
   "id": "e773e86e-63d6-446b-97c6-269473450cb2",
   "metadata": {},
   "outputs": [
    {
     "name": "stdout",
     "output_type": "stream",
     "text": [
      "1 * 1 = 1\n",
      "1 * 2 = 2\n",
      "1 * 3 = 3\n",
      "1 * 4 = 4\n",
      "1 * 5 = 5\n",
      "1 * 6 = 6\n",
      "1 * 7 = 7\n",
      "1 * 8 = 8\n",
      "1 * 9 = 9\n",
      "1 * 10 = 10\n",
      "2 * 1 = 2\n",
      "2 * 2 = 4\n",
      "2 * 3 = 6\n",
      "2 * 4 = 8\n",
      "2 * 5 = 10\n",
      "2 * 6 = 12\n",
      "2 * 7 = 14\n",
      "2 * 8 = 16\n",
      "2 * 9 = 18\n",
      "2 * 10 = 20\n",
      "3 * 1 = 3\n",
      "3 * 2 = 6\n",
      "3 * 3 = 9\n",
      "3 * 4 = 12\n",
      "3 * 5 = 15\n",
      "3 * 6 = 18\n",
      "3 * 7 = 21\n",
      "3 * 8 = 24\n",
      "3 * 9 = 27\n",
      "3 * 10 = 30\n"
     ]
    }
   ],
   "source": [
    "for x in range(1,4): # disebut dg slow loop\n",
    "    for y in range (1,11): # disebut dg fast loop\n",
    "        print('{} * {} = {}'.format(x,y, x*y))"
   ]
  },
  {
   "cell_type": "code",
   "execution_count": 33,
   "id": "508fc8c2-7431-43d8-ba9e-805d5a04a9ab",
   "metadata": {},
   "outputs": [
    {
     "name": "stdout",
     "output_type": "stream",
     "text": [
      "black iphone\n",
      "black samsung\n",
      "black blackberry\n",
      "white iphone\n",
      "white samsung\n",
      "white blackberry\n",
      "gold iphone\n",
      "gold samsung\n",
      "gold blackberry\n"
     ]
    }
   ],
   "source": [
    "# Kalau bukan bentuk perkalian, bisa di simplekan dengan sbb\n",
    "color_list = ['black','white','gold']\n",
    "phone_list = ['iphone','samsung','blackberry']\n",
    "\n",
    "for i in color_list:\n",
    "    for j in phone_list:\n",
    "        print(i,j)"
   ]
  },
  {
   "cell_type": "markdown",
   "id": "3b17927c-74ac-496c-bc76-b557abbe265c",
   "metadata": {},
   "source": [
    "#### List Comprehension"
   ]
  },
  {
   "cell_type": "code",
   "execution_count": 34,
   "id": "94757a13-0f15-4e06-b7a8-2c597c7fa918",
   "metadata": {},
   "outputs": [],
   "source": [
    "# adalah tool untuk merubah satu list menjadi list yang lainnya"
   ]
  },
  {
   "cell_type": "code",
   "execution_count": 35,
   "id": "c9060a66-8f6a-4c9d-b62e-1d130329ea62",
   "metadata": {},
   "outputs": [
    {
     "data": {
      "text/plain": [
       "[1, 4, 9, 16]"
      ]
     },
     "execution_count": 35,
     "metadata": {},
     "output_type": "execute_result"
    }
   ],
   "source": [
    "# kita akan membuat angka yang di pangkatkan 2 dengan menggunakan cara append\n",
    "input_list = [1,2,3,4]\n",
    "output_list = []\n",
    "\n",
    "for element in input_list:\n",
    "    output_list.append(element ** 2)\n",
    "\n",
    "output_list"
   ]
  },
  {
   "cell_type": "code",
   "execution_count": 36,
   "id": "22080b22-fb2b-47f1-a1c6-9c5f742f06d6",
   "metadata": {},
   "outputs": [],
   "source": [
    "# append itu gunanya untuk menambah elemt ke dalam suatu list, misalnya\n",
    "fruits = ['apel', 'pisang', 'mangga']\n",
    "# kita mau tambahkan jeruk misalnya\n",
    "fruits.append('jeruk')"
   ]
  },
  {
   "cell_type": "code",
   "execution_count": 37,
   "id": "840e91dd-8065-4d90-bc07-d162a867d6fd",
   "metadata": {},
   "outputs": [
    {
     "data": {
      "text/plain": [
       "['apel', 'pisang', 'mangga', 'jeruk']"
      ]
     },
     "execution_count": 37,
     "metadata": {},
     "output_type": "execute_result"
    }
   ],
   "source": [
    "fruits"
   ]
  },
  {
   "cell_type": "code",
   "execution_count": 38,
   "id": "62363c30-d27e-4233-875b-cf051e279a29",
   "metadata": {},
   "outputs": [
    {
     "data": {
      "text/plain": [
       "[1, 4, 9, 16]"
      ]
     },
     "execution_count": 38,
     "metadata": {},
     "output_type": "execute_result"
    }
   ],
   "source": [
    "# kita sekarang coba menggunakan list comprehension\n",
    "# pertama kita buat loops nya dulu\n",
    "# [          for element in input_list ]\n",
    "# lalu masukkan di depan loops nya operasi yang kita inginkan yaitu element ** 2\n",
    "\n",
    "[element**2 for element in input_list]\n"
   ]
  },
  {
   "cell_type": "code",
   "execution_count": 39,
   "id": "d456f852-1855-45a2-bb8f-d27f749bc80f",
   "metadata": {},
   "outputs": [],
   "source": [
    "# hasil nya sama seperti menggunakan appen di atas"
   ]
  },
  {
   "cell_type": "code",
   "execution_count": 40,
   "id": "7f9d227a-9f62-408c-89f8-39ad83528272",
   "metadata": {},
   "outputs": [
    {
     "name": "stdout",
     "output_type": "stream",
     "text": [
      "[4, 16, 36, 64, 100]\n"
     ]
    }
   ],
   "source": [
    "# kita akan menghitung kuadrat untuk angka genap saja dengan cara yg panjang (bukan lsit comprehension)\n",
    "input_list = [1,2,3,4,5,6,7,8,9,10]\n",
    "output_list = []\n",
    "\n",
    "for i in input_list:\n",
    "    if i%2==0:\n",
    "        output_list.append(i**2)\n",
    "print(output_list) "
   ]
  },
  {
   "cell_type": "code",
   "execution_count": 41,
   "id": "4ba88559-8f84-411e-868f-c8c996f9cde7",
   "metadata": {},
   "outputs": [
    {
     "data": {
      "text/plain": [
       "[4, 16, 36, 64, 100]"
      ]
     },
     "execution_count": 41,
     "metadata": {},
     "output_type": "execute_result"
    }
   ],
   "source": [
    "# kita beralih dengan cara list comprehension\n",
    "# pertama kita buat loops nya dulu\n",
    "\n",
    "# output_list = [          for i in input_list if i%2 == 0]\n",
    "# baru kita masukkan di depan loops operasi yg diinginkan yaitu i**2\n",
    "\n",
    "output_list = [i**2    for i in input_list if i%2 == 0]# kita kasi jarak antara operasi dengan loops nya\n",
    "output_list"
   ]
  },
  {
   "cell_type": "code",
   "execution_count": 42,
   "id": "6173763f-72f5-4dcb-afca-ccc825bd9f62",
   "metadata": {},
   "outputs": [
    {
     "data": {
      "text/plain": [
       "[3300, 3333, 3338, 3340, 3348, 3355, 3500]"
      ]
     },
     "execution_count": 42,
     "metadata": {},
     "output_type": "execute_result"
    }
   ],
   "source": [
    "# kita akan membuat normalisasi thd harga saham \n",
    "# normalisasi itu adalah harga tiap saham di list dibagi dengan harga awal saham\n",
    "\n",
    "prices = [3300,3333,3338,3340,3348,3355,3500]\n",
    "prices"
   ]
  },
  {
   "cell_type": "code",
   "execution_count": 43,
   "id": "c17ee6ea-7f7f-4f05-9f1f-8c4236f19a6d",
   "metadata": {},
   "outputs": [
    {
     "data": {
      "text/plain": [
       "[1.0,\n",
       " 1.01,\n",
       " 1.0115151515151515,\n",
       " 1.0121212121212122,\n",
       " 1.0145454545454546,\n",
       " 1.0166666666666666,\n",
       " 1.0606060606060606]"
      ]
     },
     "execution_count": 43,
     "metadata": {},
     "output_type": "execute_result"
    }
   ],
   "source": [
    "normalized_price = [i/prices[0]   for i in prices] # jadi angka di list itu dibagi dengan 3300 yang berada di index ke 0\n",
    "normalized_price"
   ]
  },
  {
   "cell_type": "code",
   "execution_count": 44,
   "id": "17ad1e10-3b0a-4145-a59f-7f7d58f7ff75",
   "metadata": {},
   "outputs": [
    {
     "name": "stdout",
     "output_type": "stream",
     "text": [
      "original prices = [3300, 3333, 3338, 3340, 3348, 3355, 3500]\n",
      " Normalized prices = [1.0, 1.01, 1.0115151515151515, 1.0121212121212122, 1.0145454545454546, 1.0166666666666666, 1.0606060606060606]\n"
     ]
    }
   ],
   "source": [
    "# kita akan buat angkanya berdampingan seperti di nested loop\n",
    "# print('{} * {} = {}'.format(x,y, x*y))\n",
    "\n",
    "print('original prices = {}\\n Normalized prices = {}'.format(prices,normalized_price))"
   ]
  },
  {
   "cell_type": "markdown",
   "id": "2d0af769-63d0-4521-906c-f23d0a9e2440",
   "metadata": {},
   "source": [
    "## FUNCTIONS"
   ]
  },
  {
   "cell_type": "code",
   "execution_count": 45,
   "id": "72d32efa-8681-4cd2-9ca3-91d09154af78",
   "metadata": {},
   "outputs": [],
   "source": [
    "# Ada banyak function yang dibuat di dalam python, seperti sum, max, list,   "
   ]
  },
  {
   "cell_type": "code",
   "execution_count": 46,
   "id": "e18b0610-99ff-42c8-b2bb-9b8d45b33740",
   "metadata": {},
   "outputs": [],
   "source": [
    "# semuanya bisa dilihat di link berikut"
   ]
  },
  {
   "cell_type": "markdown",
   "id": "4fc5d88e-f6cd-4e1f-8256-59092d655be6",
   "metadata": {},
   "source": [
    "### Custom Function (buat fungsi sendiri)"
   ]
  },
  {
   "cell_type": "markdown",
   "id": "b6fa92cf-8122-4a89-bdd9-3fd545f37f3e",
   "metadata": {},
   "source": [
    "https://www.w3schools.com/python/python_ref_functions.asp"
   ]
  },
  {
   "cell_type": "code",
   "execution_count": 47,
   "id": "a420c53f-bb77-4148-8bd1-0b2f950561b3",
   "metadata": {},
   "outputs": [
    {
     "name": "stdout",
     "output_type": "stream",
     "text": [
      "selamat datang\n"
     ]
    }
   ],
   "source": [
    "# Membuat Function sendiri\n",
    "def fungsi_saya (): # selalu dimulai dg kata \"def\" \n",
    "    print('selamat datang')\n",
    "fungsi_saya ()"
   ]
  },
  {
   "cell_type": "code",
   "execution_count": 48,
   "id": "87ba4ff0-9556-41a2-b0bb-7917e33e1b27",
   "metadata": {},
   "outputs": [],
   "source": [
    "def kuadrat(x):\n",
    "    return x**2 # kalau di enter ga akan ada reaksi, karena fungsinya belum di panggil"
   ]
  },
  {
   "cell_type": "code",
   "execution_count": 49,
   "id": "275cc4d0-3562-41a9-b9b7-8e03850b3ab7",
   "metadata": {},
   "outputs": [
    {
     "data": {
      "text/plain": [
       "4"
      ]
     },
     "execution_count": 49,
     "metadata": {},
     "output_type": "execute_result"
    }
   ],
   "source": [
    "# kita panggil fungsinya\n",
    "kuadrat(2)"
   ]
  },
  {
   "cell_type": "code",
   "execution_count": 50,
   "id": "23813593-6164-45ae-9df4-44662ef0ca3c",
   "metadata": {},
   "outputs": [
    {
     "data": {
      "text/plain": [
       "81"
      ]
     },
     "execution_count": 50,
     "metadata": {},
     "output_type": "execute_result"
    }
   ],
   "source": [
    "# kita tambahkan variable\n",
    "hasilnya = kuadrat(9)\n",
    "hasilnya"
   ]
  },
  {
   "cell_type": "code",
   "execution_count": 51,
   "id": "6d58466a-e2d8-4bf9-85ae-30c36b9c49eb",
   "metadata": {},
   "outputs": [],
   "source": [
    "# kita buat fungsi lain lagi\n",
    "def fungsi_saya(angka):\n",
    "        print('My total portfolio worth is = {}'.format(angka))"
   ]
  },
  {
   "cell_type": "code",
   "execution_count": 52,
   "id": "72afb5ce-43f1-4a79-8e1b-691d7de907d0",
   "metadata": {},
   "outputs": [
    {
     "name": "stdout",
     "output_type": "stream",
     "text": [
      "My total portfolio worth is = 5000\n"
     ]
    }
   ],
   "source": [
    "# sekarang kita masukkan angkanya\n",
    "fungsi_saya(5000)"
   ]
  },
  {
   "cell_type": "code",
   "execution_count": 53,
   "id": "d674e22d-5c07-413b-9785-346dbdcf8817",
   "metadata": {},
   "outputs": [],
   "source": [
    "# kalau angka tidak kita masukkan misalnya\n",
    "# fungfungsi_saya() \n",
    "# kita ingin ada hasil default, misalnya kalau ga diisi hasilnya akan muncul angka 246 misalnya\n",
    "def fungsi_saya(angka = 246.0):\n",
    "        print('My total portfolio worth is = {}'.format(angka))"
   ]
  },
  {
   "cell_type": "code",
   "execution_count": 54,
   "id": "bd35c606-68e1-47bd-ba2a-cf4bcd02d3b0",
   "metadata": {},
   "outputs": [
    {
     "name": "stdout",
     "output_type": "stream",
     "text": [
      "My total portfolio worth is = 246.0\n"
     ]
    }
   ],
   "source": [
    "# sekarang kalau kita tidak isi angkanya\n",
    "fungsi_saya()"
   ]
  },
  {
   "cell_type": "code",
   "execution_count": 55,
   "id": "38e5bdc3-e2da-4657-bb7c-40dae1ab71f6",
   "metadata": {},
   "outputs": [],
   "source": [
    "# contoh lain lagi\n",
    "\n",
    "def total(units, harga_saham):\n",
    "    amount = units* harga_saham\n",
    "    return amount"
   ]
  },
  {
   "cell_type": "code",
   "execution_count": 56,
   "id": "15edc052-f72c-41d2-8864-5e7fb6bd9bc1",
   "metadata": {},
   "outputs": [
    {
     "name": "stdin",
     "output_type": "stream",
     "text": [
      "Enter the number of shares: 30\n",
      "Enter the price per share: 5000\n"
     ]
    },
    {
     "name": "stdout",
     "output_type": "stream",
     "text": [
      "Total account balance = 150000\n"
     ]
    }
   ],
   "source": [
    "# untuk memasukkan units dan harga saham, kita gunakan fungsi input\n",
    "\n",
    "num_shares = int(input('Enter the number of shares:'))\n",
    "harganya = int(input('Enter the price per share:'))\n",
    "\n",
    "account_balance = total(num_shares,harganya)\n",
    "print('Total account balance = {}'.format(account_balance))"
   ]
  },
  {
   "cell_type": "markdown",
   "id": "880f5cba-6263-4cee-9904-90e3790a664f",
   "metadata": {},
   "source": [
    "### Lambda Expressions"
   ]
  },
  {
   "cell_type": "code",
   "execution_count": 57,
   "id": "aee42fc3-a0ee-474f-82e9-33b0d72a4410",
   "metadata": {},
   "outputs": [],
   "source": [
    "# fungsi lambda digunakan untuk menciptakan sebuat fungsi tanpa nama"
   ]
  },
  {
   "cell_type": "code",
   "execution_count": 58,
   "id": "c162d586-2a53-49b1-9001-b821c57ef9a4",
   "metadata": {},
   "outputs": [
    {
     "data": {
      "text/plain": [
       "9"
      ]
     },
     "execution_count": 58,
     "metadata": {},
     "output_type": "execute_result"
    }
   ],
   "source": [
    "# kita buat dengan fungsi conventional dulu\n",
    "def my_function(x):\n",
    "    return x**2\n",
    "my_function (3)"
   ]
  },
  {
   "cell_type": "code",
   "execution_count": 59,
   "id": "1bf28507-e90d-4fef-a811-7edc7b64f734",
   "metadata": {},
   "outputs": [
    {
     "data": {
      "text/plain": [
       "9"
      ]
     },
     "execution_count": 59,
     "metadata": {},
     "output_type": "execute_result"
    }
   ],
   "source": [
    "# sekarang kita gunakan lambda\n",
    "\n",
    "y = lambda x:x**2\n",
    "\n",
    "y(3)"
   ]
  },
  {
   "cell_type": "code",
   "execution_count": 60,
   "id": "256a7a35-4ad1-465a-a316-1d8777fbcfb7",
   "metadata": {},
   "outputs": [],
   "source": [
    "# Contoh lainnya dg membuat fungsi baru\n",
    "def summa(x,y,z):\n",
    "    return x+y+z"
   ]
  },
  {
   "cell_type": "code",
   "execution_count": 61,
   "id": "794c56cb-0470-4a30-9b7f-a40c3bed0dc6",
   "metadata": {},
   "outputs": [
    {
     "data": {
      "text/plain": [
       "8"
      ]
     },
     "execution_count": 61,
     "metadata": {},
     "output_type": "execute_result"
    }
   ],
   "source": [
    "hasilnya = summa(1,3,4)\n",
    "hasilnya"
   ]
  },
  {
   "cell_type": "code",
   "execution_count": 62,
   "id": "1efc3c3f-93c0-44dd-8edb-87c1318e525c",
   "metadata": {},
   "outputs": [
    {
     "data": {
      "text/plain": [
       "44"
      ]
     },
     "execution_count": 62,
     "metadata": {},
     "output_type": "execute_result"
    }
   ],
   "source": [
    "summa(10,5,29)"
   ]
  },
  {
   "cell_type": "code",
   "execution_count": 63,
   "id": "6c32a5a3-2bf9-4946-8144-af971b587bd9",
   "metadata": {},
   "outputs": [],
   "source": [
    "# kalau menggunakan lmbda, jd sederhana\n",
    "hasilnya = lambda x,y,z: x+y+z"
   ]
  },
  {
   "cell_type": "code",
   "execution_count": 64,
   "id": "4c7ad2c0-4462-4735-a4c7-27ffa0662307",
   "metadata": {},
   "outputs": [
    {
     "data": {
      "text/plain": [
       "44"
      ]
     },
     "execution_count": 64,
     "metadata": {},
     "output_type": "execute_result"
    }
   ],
   "source": [
    "hasilnya(10,5,29)"
   ]
  },
  {
   "cell_type": "code",
   "execution_count": 71,
   "id": "55ef7798-a42b-4857-a538-7160834ee78f",
   "metadata": {},
   "outputs": [
    {
     "name": "stdin",
     "output_type": "stream",
     "text": [
      "masukkan jumlah saham: 200\n",
      "harga sahamnya berapa: 1400\n"
     ]
    },
    {
     "name": "stdout",
     "output_type": "stream",
     "text": [
      "totalnya = 280000\n"
     ]
    }
   ],
   "source": [
    "jumlah_saham = int(input('masukkan jumlah saham:'))\n",
    "harga_saham = int(input('harga sahamnya berapa:'))\n",
    "\n",
    "account_balance = lambda jumlah_saham, harga_saham : jumlah_saham*harga_saham \n",
    "print('totalnya = {}'.format(account_balance(jumlah_saham,harga_saham)))"
   ]
  },
  {
   "cell_type": "code",
   "execution_count": 72,
   "id": "f82eaa78-a556-48de-95e1-a38ff8ae1dd7",
   "metadata": {},
   "outputs": [
    {
     "name": "stdout",
     "output_type": "stream",
     "text": [
      "Totalnya = 280000\n"
     ]
    }
   ],
   "source": [
    "x = format(account_balance(jumlah_saham,harga_saham)) \n",
    "print('Totalnya = {}'.format(x))"
   ]
  },
  {
   "cell_type": "code",
   "execution_count": 73,
   "id": "880d32c1-1f10-4e01-9287-b220331f6944",
   "metadata": {},
   "outputs": [
    {
     "name": "stdout",
     "output_type": "stream",
     "text": [
      "Totalnya = 280000\n"
     ]
    }
   ],
   "source": [
    "account_balance = format(account_balance(jumlah_saham,harga_saham)) \n",
    "print('Totalnya = {}'.format(account_balance)) "
   ]
  },
  {
   "cell_type": "markdown",
   "id": "c0e05b6e-3332-49e0-9f9e-2a8b75c025ee",
   "metadata": {},
   "source": [
    "### Map Functon"
   ]
  },
  {
   "cell_type": "code",
   "execution_count": 78,
   "id": "0f3583d6-f087-4fe3-84ce-3df0ebcb307b",
   "metadata": {},
   "outputs": [],
   "source": [
    "# Map ini gunanya menerapkan function ke sua list"
   ]
  },
  {
   "cell_type": "code",
   "execution_count": 74,
   "id": "b42c6af6-33d1-4362-b208-71001526c439",
   "metadata": {},
   "outputs": [],
   "source": [
    "a = [1,4,5,6,9]\n",
    "b = [1,7,9,12,7]\n",
    "def sumatra(a,b):\n",
    "    return a+b    "
   ]
  },
  {
   "cell_type": "code",
   "execution_count": 76,
   "id": "f79bc9a8-0095-4742-a94b-82dfa733fc13",
   "metadata": {},
   "outputs": [
    {
     "data": {
      "text/plain": [
       "[2, 11, 14, 18, 16]"
      ]
     },
     "execution_count": 76,
     "metadata": {},
     "output_type": "execute_result"
    }
   ],
   "source": [
    "# kita gunakan fungsi Map\n",
    "c = list(map(sumatra,a,b)) # setelah itu fungsi map ini kita tutup, depannya kita kasi list\n",
    "c"
   ]
  },
  {
   "cell_type": "code",
   "execution_count": 77,
   "id": "4895dc25-8f92-4a6b-8045-5616c8b21660",
   "metadata": {},
   "outputs": [],
   "source": [
    "# jadi hasilnya merupakan penjumlahan a dan b"
   ]
  },
  {
   "cell_type": "markdown",
   "id": "fd1b1904-d1df-4de3-8e4b-3a98b80f3a25",
   "metadata": {},
   "source": [
    "#### map bisa juga digunakan dengan lambda"
   ]
  },
  {
   "cell_type": "code",
   "execution_count": 84,
   "id": "e9ea0374-b71c-4231-affe-4101e0c8d574",
   "metadata": {},
   "outputs": [],
   "source": [
    "input = [1,2,3,4]\n",
    "\n",
    "output = list(map(lambda x:x**2, input)) # jadi didepan map kita kasi format list, jangan lupa"
   ]
  },
  {
   "cell_type": "code",
   "execution_count": 85,
   "id": "2e5823a3-8a97-41ab-81b2-0372ee1686ef",
   "metadata": {},
   "outputs": [
    {
     "data": {
      "text/plain": [
       "[1, 4, 9, 16]"
      ]
     },
     "execution_count": 85,
     "metadata": {},
     "output_type": "execute_result"
    }
   ],
   "source": [
    "output"
   ]
  },
  {
   "cell_type": "code",
   "execution_count": 86,
   "id": "a7fd009c-d2bc-49da-b66d-f8722169f3d3",
   "metadata": {},
   "outputs": [],
   "source": [
    "# kita kasi contoh lain lagi ya"
   ]
  },
  {
   "cell_type": "code",
   "execution_count": 87,
   "id": "f62a317c-5542-4c11-b398-2d0a825a2414",
   "metadata": {},
   "outputs": [],
   "source": [
    "def kubik(x):\n",
    "    return x*x*x"
   ]
  },
  {
   "cell_type": "code",
   "execution_count": 88,
   "id": "84d19f2c-37bd-416e-91dc-08b0432752bc",
   "metadata": {},
   "outputs": [
    {
     "data": {
      "text/plain": [
       "range(-10, 11)"
      ]
     },
     "execution_count": 88,
     "metadata": {},
     "output_type": "execute_result"
    }
   ],
   "source": [
    "nomernya = range(-10,11)\n",
    "nomernya"
   ]
  },
  {
   "cell_type": "code",
   "execution_count": 89,
   "id": "56bb2386-c972-4cc3-be51-4fceab42304d",
   "metadata": {},
   "outputs": [
    {
     "data": {
      "text/plain": [
       "[-10, -9, -8, -7, -6, -5, -4, -3, -2, -1, 0, 1, 2, 3, 4, 5, 6, 7, 8, 9, 10]"
      ]
     },
     "execution_count": 89,
     "metadata": {},
     "output_type": "execute_result"
    }
   ],
   "source": [
    "# ini depannya harus kita kasi list\n",
    "nomernya = list(range(-10,11))\n",
    "nomernya"
   ]
  },
  {
   "cell_type": "code",
   "execution_count": 90,
   "id": "473003f3-9248-4d37-86bd-01ec07222ccf",
   "metadata": {},
   "outputs": [
    {
     "data": {
      "text/plain": [
       "[-1000,\n",
       " -729,\n",
       " -512,\n",
       " -343,\n",
       " -216,\n",
       " -125,\n",
       " -64,\n",
       " -27,\n",
       " -8,\n",
       " -1,\n",
       " 0,\n",
       " 1,\n",
       " 8,\n",
       " 27,\n",
       " 64,\n",
       " 125,\n",
       " 216,\n",
       " 343,\n",
       " 512,\n",
       " 729,\n",
       " 1000]"
      ]
     },
     "execution_count": 90,
     "metadata": {},
     "output_type": "execute_result"
    }
   ],
   "source": [
    "nomer_kubik = list(   map(lambda x:kubik(x), nomernya ))\n",
    "nomer_kubik"
   ]
  },
  {
   "cell_type": "markdown",
   "id": "1a8017c5-9bb2-4571-9fee-c672007c435c",
   "metadata": {},
   "source": [
    "### FILTER"
   ]
  },
  {
   "cell_type": "code",
   "execution_count": 91,
   "id": "f9906804-bde3-479e-ae51-1f83819f2457",
   "metadata": {},
   "outputs": [],
   "source": [
    "# filter digunakan untuk menciptakan list yg memiliki nilai True"
   ]
  },
  {
   "cell_type": "code",
   "execution_count": 92,
   "id": "8b3281c4-fde6-4f59-9ad6-1faf1ca75930",
   "metadata": {},
   "outputs": [],
   "source": [
    "prices = [105,5055, 40,356, 923,1443,222,62]"
   ]
  },
  {
   "cell_type": "code",
   "execution_count": 94,
   "id": "8eb29cc5-abd3-4cff-96c0-344bb4fa7ff2",
   "metadata": {},
   "outputs": [
    {
     "data": {
      "text/plain": [
       "[40, 356, 222, 62]"
      ]
     },
     "execution_count": 94,
     "metadata": {},
     "output_type": "execute_result"
    }
   ],
   "source": [
    "# filter hanya nomer genap\n",
    "out = list(filter( lambda x: (x%2==0), prices)) # depannya harus kasi list\n",
    "out"
   ]
  },
  {
   "cell_type": "code",
   "execution_count": 96,
   "id": "afb6f0dc-a570-4536-8ee1-401b14994a8d",
   "metadata": {},
   "outputs": [
    {
     "data": {
      "text/plain": [
       "[105, 5055, 356, 923, 1443, 222]"
      ]
     },
     "execution_count": 96,
     "metadata": {},
     "output_type": "execute_result"
    }
   ],
   "source": [
    "# return harga yang lebih besar dari 100\n",
    "out = list(filter(lambda x:(x>=100), prices))\n",
    "out"
   ]
  },
  {
   "cell_type": "code",
   "execution_count": 98,
   "id": "4410309c-e895-4353-97cc-f605fa830ee1",
   "metadata": {},
   "outputs": [
    {
     "data": {
      "text/plain": [
       "[222]"
      ]
     },
     "execution_count": 98,
     "metadata": {},
     "output_type": "execute_result"
    }
   ],
   "source": [
    "# return value between 200 and 250\n",
    "out = list(filter(lambda x: (x>=200 and x<=250), prices))\n",
    "out"
   ]
  },
  {
   "cell_type": "markdown",
   "id": "f11a8df0-e32d-4351-877c-36967cf1e081",
   "metadata": {},
   "source": [
    "### Reading and Writing Files"
   ]
  },
  {
   "cell_type": "code",
   "execution_count": 99,
   "id": "432842c5-bf9b-4b73-8495-d12033dc1160",
   "metadata": {},
   "outputs": [],
   "source": [
    "# dalam membuka file, terdapat modes "
   ]
  },
  {
   "attachments": {
    "73f9ef2e-89c8-488f-8ba3-69b740db8f44.png": {
     "image/png": "[encoded data removed]"
    }
   },
   "cell_type": "markdown",
   "id": "de8bcc95-dc2c-48d9-8b23-98d1a66957e7",
   "metadata": {},
   "source": [
    "![image.png](attachment:73f9ef2e-89c8-488f-8ba3-69b740db8f44.png)"
   ]
  },
  {
   "cell_type": "code",
   "execution_count": 100,
   "id": "274fd235-67ee-458a-9f94-6f55755ed19d",
   "metadata": {},
   "outputs": [
    {
     "name": "stdout",
     "output_type": "stream",
     "text": [
      "I am learning python now!\n",
      "It is super fun to learn Python programming \n",
      "I am learning how to handle files in python!\n"
     ]
    }
   ],
   "source": [
    "# disini kita hanya mau membaca saja, jadi kita letakkan 'r' di ujung nama file\n",
    "f = open('D:/NUMPYPANDA/env/Financial for python/sample_text_file.txt','r') \n",
    "print(f.read())"
   ]
  },
  {
   "cell_type": "code",
   "execution_count": 107,
   "id": "f9d95c77-8f7f-4542-95d2-82c3f03637f0",
   "metadata": {},
   "outputs": [
    {
     "data": {
      "text/plain": [
       "28"
      ]
     },
     "execution_count": 107,
     "metadata": {},
     "output_type": "execute_result"
    }
   ],
   "source": [
    "# kita mau menambahkan text di baris selanjutnya, kita tambahkan huruf 'a'\n",
    "f = open('D:/NUMPYPANDA/env/Financial for python/sample_text_file.txt','a')\n",
    "f.write('ini adalah sebuah garis baru')\n"
   ]
  },
  {
   "cell_type": "code",
   "execution_count": 108,
   "id": "e149da80-a567-4f17-a6af-780a7f8180c2",
   "metadata": {},
   "outputs": [],
   "source": [
    "# jadi harus di tutup dulu, setelah kita tambahkan text\n",
    "f.close()"
   ]
  },
  {
   "cell_type": "code",
   "execution_count": 109,
   "id": "1efb14a8-857c-4c87-8135-bde25574a834",
   "metadata": {},
   "outputs": [
    {
     "name": "stdout",
     "output_type": "stream",
     "text": [
      "I am learning python now!\n",
      "It is super fun to learn Python programming \n",
      "I am learning how to handle files in python!ini adalah sebuah garis baruini adalah sebuah garis baruini adalah sebuah garis baru\n"
     ]
    }
   ],
   "source": [
    "# baru sekarang bisa kita buka\n",
    "f = open('D:/NUMPYPANDA/env/Financial for python/sample_text_file.txt','r') \n",
    "print(f.read())"
   ]
  },
  {
   "cell_type": "code",
   "execution_count": null,
   "id": "fa8b6ded-2e47-4e72-9f71-a98f39efb86f",
   "metadata": {},
   "outputs": [],
   "source": []
  }
 ],
 "metadata": {
  "kernelspec": {
   "display_name": "Python 3 (ipykernel)",
   "language": "python",
   "name": "python3"
  },
  "language_info": {
   "codemirror_mode": {
    "name": "ipython",
    "version": 3
   },
   "file_extension": ".py",
   "mimetype": "text/x-python",
   "name": "python",
   "nbconvert_exporter": "python",
   "pygments_lexer": "ipython3",
   "version": "3.12.4"
  }
 },
 "nbformat": 4,
 "nbformat_minor": 5
}
