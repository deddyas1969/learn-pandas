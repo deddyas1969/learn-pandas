{
 "cells": [
  {
   "cell_type": "code",
   "execution_count": 1,
   "id": "e12981b1-1b20-49cf-ac9c-935bd27c5642",
   "metadata": {},
   "outputs": [],
   "source": [
    "people = {\n",
    "    'first':['dudung','eman','Bobi'],\n",
    "    'last':['suherman', 'suherman','Subobi'],\n",
    "    'email':['dudung@gmail.com','emangnye@gmail.com','bobie2yahoo.com']\n",
    "}"
   ]
  },
  {
   "cell_type": "code",
   "execution_count": 2,
   "id": "e83509ac-f061-491f-9377-2487b53538e6",
   "metadata": {},
   "outputs": [],
   "source": [
    "import pandas as pd"
   ]
  },
  {
   "cell_type": "code",
   "execution_count": 3,
   "id": "01436146-dc5b-4a7f-afb9-993435c9f7a2",
   "metadata": {},
   "outputs": [],
   "source": [
    "df = pd.DataFrame(people)"
   ]
  },
  {
   "cell_type": "code",
   "execution_count": 4,
   "id": "7f7ed2c8-ca8f-48ec-8896-07a7ce0678bf",
   "metadata": {},
   "outputs": [
    {
     "data": {
      "text/html": [
       "<div>\n",
       "<style scoped>\n",
       "    .dataframe tbody tr th:only-of-type {\n",
       "        vertical-align: middle;\n",
       "    }\n",
       "\n",
       "    .dataframe tbody tr th {\n",
       "        vertical-align: top;\n",
       "    }\n",
       "\n",
       "    .dataframe thead th {\n",
       "        text-align: right;\n",
       "    }\n",
       "</style>\n",
       "<table border=\"1\" class=\"dataframe\">\n",
       "  <thead>\n",
       "    <tr style=\"text-align: right;\">\n",
       "      <th></th>\n",
       "      <th>first</th>\n",
       "      <th>last</th>\n",
       "      <th>email</th>\n",
       "    </tr>\n",
       "  </thead>\n",
       "  <tbody>\n",
       "    <tr>\n",
       "      <th>0</th>\n",
       "      <td>dudung</td>\n",
       "      <td>suherman</td>\n",
       "      <td>dudung@gmail.com</td>\n",
       "    </tr>\n",
       "    <tr>\n",
       "      <th>1</th>\n",
       "      <td>eman</td>\n",
       "      <td>suherman</td>\n",
       "      <td>emangnye@gmail.com</td>\n",
       "    </tr>\n",
       "    <tr>\n",
       "      <th>2</th>\n",
       "      <td>Bobi</td>\n",
       "      <td>Subobi</td>\n",
       "      <td>bobie2yahoo.com</td>\n",
       "    </tr>\n",
       "  </tbody>\n",
       "</table>\n",
       "</div>"
      ],
      "text/plain": [
       "    first      last               email\n",
       "0  dudung  suherman    dudung@gmail.com\n",
       "1    eman  suherman  emangnye@gmail.com\n",
       "2    Bobi    Subobi     bobie2yahoo.com"
      ]
     },
     "execution_count": 4,
     "metadata": {},
     "output_type": "execute_result"
    }
   ],
   "source": [
    "df"
   ]
  },
  {
   "cell_type": "markdown",
   "id": "19118dc6-b81d-4795-91b8-211037b8c5ca",
   "metadata": {},
   "source": [
    "#### melihat isi kolom"
   ]
  },
  {
   "cell_type": "code",
   "execution_count": 5,
   "id": "3a865a9b-afd5-4f9e-a35c-a4622dacc5d6",
   "metadata": {},
   "outputs": [
    {
     "data": {
      "text/plain": [
       "Index(['first', 'last', 'email'], dtype='object')"
      ]
     },
     "execution_count": 5,
     "metadata": {},
     "output_type": "execute_result"
    }
   ],
   "source": [
    "df.columns"
   ]
  },
  {
   "cell_type": "markdown",
   "id": "c2a16fd4-ba6f-4fc0-9a64-c23b3d7da8c1",
   "metadata": {},
   "source": [
    "#### Mengganti nama kolom"
   ]
  },
  {
   "cell_type": "code",
   "execution_count": 6,
   "id": "31c2241a-a555-419b-89f2-6f4acf5b9a47",
   "metadata": {},
   "outputs": [],
   "source": [
    "df.columns = ['nama_depan','nama_belakang','email']"
   ]
  },
  {
   "cell_type": "code",
   "execution_count": 7,
   "id": "8dca9ce6-71c7-4db1-968a-babe0ad75b21",
   "metadata": {},
   "outputs": [
    {
     "data": {
      "text/plain": [
       "Index(['nama_depan', 'nama_belakang', 'email'], dtype='object')"
      ]
     },
     "execution_count": 7,
     "metadata": {},
     "output_type": "execute_result"
    }
   ],
   "source": [
    "df.columns"
   ]
  },
  {
   "cell_type": "code",
   "execution_count": 8,
   "id": "f6622cff-5268-4019-800d-5e7dfd7692bd",
   "metadata": {},
   "outputs": [
    {
     "data": {
      "text/html": [
       "<div>\n",
       "<style scoped>\n",
       "    .dataframe tbody tr th:only-of-type {\n",
       "        vertical-align: middle;\n",
       "    }\n",
       "\n",
       "    .dataframe tbody tr th {\n",
       "        vertical-align: top;\n",
       "    }\n",
       "\n",
       "    .dataframe thead th {\n",
       "        text-align: right;\n",
       "    }\n",
       "</style>\n",
       "<table border=\"1\" class=\"dataframe\">\n",
       "  <thead>\n",
       "    <tr style=\"text-align: right;\">\n",
       "      <th></th>\n",
       "      <th>nama_depan</th>\n",
       "      <th>nama_belakang</th>\n",
       "      <th>email</th>\n",
       "    </tr>\n",
       "  </thead>\n",
       "  <tbody>\n",
       "    <tr>\n",
       "      <th>0</th>\n",
       "      <td>dudung</td>\n",
       "      <td>suherman</td>\n",
       "      <td>dudung@gmail.com</td>\n",
       "    </tr>\n",
       "    <tr>\n",
       "      <th>1</th>\n",
       "      <td>eman</td>\n",
       "      <td>suherman</td>\n",
       "      <td>emangnye@gmail.com</td>\n",
       "    </tr>\n",
       "    <tr>\n",
       "      <th>2</th>\n",
       "      <td>Bobi</td>\n",
       "      <td>Subobi</td>\n",
       "      <td>bobie2yahoo.com</td>\n",
       "    </tr>\n",
       "  </tbody>\n",
       "</table>\n",
       "</div>"
      ],
      "text/plain": [
       "  nama_depan nama_belakang               email\n",
       "0     dudung      suherman    dudung@gmail.com\n",
       "1       eman      suherman  emangnye@gmail.com\n",
       "2       Bobi        Subobi     bobie2yahoo.com"
      ]
     },
     "execution_count": 8,
     "metadata": {},
     "output_type": "execute_result"
    }
   ],
   "source": [
    "df"
   ]
  },
  {
   "cell_type": "markdown",
   "id": "3741031f-0926-41ab-b7a4-b9df305f5519",
   "metadata": {},
   "source": [
    "#### Mengubah header kolom menjadi huruf besar semua"
   ]
  },
  {
   "cell_type": "code",
   "execution_count": 9,
   "id": "f3827fe1-d98c-424f-8287-11b3fbaa6e55",
   "metadata": {},
   "outputs": [
    {
     "data": {
      "text/html": [
       "<div>\n",
       "<style scoped>\n",
       "    .dataframe tbody tr th:only-of-type {\n",
       "        vertical-align: middle;\n",
       "    }\n",
       "\n",
       "    .dataframe tbody tr th {\n",
       "        vertical-align: top;\n",
       "    }\n",
       "\n",
       "    .dataframe thead th {\n",
       "        text-align: right;\n",
       "    }\n",
       "</style>\n",
       "<table border=\"1\" class=\"dataframe\">\n",
       "  <thead>\n",
       "    <tr style=\"text-align: right;\">\n",
       "      <th></th>\n",
       "      <th>NAMA_DEPAN</th>\n",
       "      <th>NAMA_BELAKANG</th>\n",
       "      <th>EMAIL</th>\n",
       "    </tr>\n",
       "  </thead>\n",
       "  <tbody>\n",
       "    <tr>\n",
       "      <th>0</th>\n",
       "      <td>dudung</td>\n",
       "      <td>suherman</td>\n",
       "      <td>dudung@gmail.com</td>\n",
       "    </tr>\n",
       "    <tr>\n",
       "      <th>1</th>\n",
       "      <td>eman</td>\n",
       "      <td>suherman</td>\n",
       "      <td>emangnye@gmail.com</td>\n",
       "    </tr>\n",
       "    <tr>\n",
       "      <th>2</th>\n",
       "      <td>Bobi</td>\n",
       "      <td>Subobi</td>\n",
       "      <td>bobie2yahoo.com</td>\n",
       "    </tr>\n",
       "  </tbody>\n",
       "</table>\n",
       "</div>"
      ],
      "text/plain": [
       "  NAMA_DEPAN NAMA_BELAKANG               EMAIL\n",
       "0     dudung      suherman    dudung@gmail.com\n",
       "1       eman      suherman  emangnye@gmail.com\n",
       "2       Bobi        Subobi     bobie2yahoo.com"
      ]
     },
     "execution_count": 9,
     "metadata": {},
     "output_type": "execute_result"
    }
   ],
   "source": [
    "df.columns = [x.upper() for x in df.columns]\n",
    "df"
   ]
  },
  {
   "cell_type": "markdown",
   "id": "c3ff9e8f-170a-41f9-ae05-e9b154efbc7c",
   "metadata": {},
   "source": [
    "#### Membuang underscore di nama header"
   ]
  },
  {
   "cell_type": "code",
   "execution_count": 10,
   "id": "e389f04c-697c-459d-976b-df6aa7c59e4d",
   "metadata": {},
   "outputs": [
    {
     "data": {
      "text/html": [
       "<div>\n",
       "<style scoped>\n",
       "    .dataframe tbody tr th:only-of-type {\n",
       "        vertical-align: middle;\n",
       "    }\n",
       "\n",
       "    .dataframe tbody tr th {\n",
       "        vertical-align: top;\n",
       "    }\n",
       "\n",
       "    .dataframe thead th {\n",
       "        text-align: right;\n",
       "    }\n",
       "</style>\n",
       "<table border=\"1\" class=\"dataframe\">\n",
       "  <thead>\n",
       "    <tr style=\"text-align: right;\">\n",
       "      <th></th>\n",
       "      <th>NAMA DEPAN</th>\n",
       "      <th>NAMA BELAKANG</th>\n",
       "      <th>EMAIL</th>\n",
       "    </tr>\n",
       "  </thead>\n",
       "  <tbody>\n",
       "    <tr>\n",
       "      <th>0</th>\n",
       "      <td>dudung</td>\n",
       "      <td>suherman</td>\n",
       "      <td>dudung@gmail.com</td>\n",
       "    </tr>\n",
       "    <tr>\n",
       "      <th>1</th>\n",
       "      <td>eman</td>\n",
       "      <td>suherman</td>\n",
       "      <td>emangnye@gmail.com</td>\n",
       "    </tr>\n",
       "    <tr>\n",
       "      <th>2</th>\n",
       "      <td>Bobi</td>\n",
       "      <td>Subobi</td>\n",
       "      <td>bobie2yahoo.com</td>\n",
       "    </tr>\n",
       "  </tbody>\n",
       "</table>\n",
       "</div>"
      ],
      "text/plain": [
       "  NAMA DEPAN NAMA BELAKANG               EMAIL\n",
       "0     dudung      suherman    dudung@gmail.com\n",
       "1       eman      suherman  emangnye@gmail.com\n",
       "2       Bobi        Subobi     bobie2yahoo.com"
      ]
     },
     "execution_count": 10,
     "metadata": {},
     "output_type": "execute_result"
    }
   ],
   "source": [
    "df.columns = df.columns.str.replace('_', ' ')\n",
    "df                                "
   ]
  },
  {
   "cell_type": "markdown",
   "id": "64fe1d20-68ec-41cb-b739-60003775a9d6",
   "metadata": {},
   "source": [
    "#### Balik lagi ke lower case"
   ]
  },
  {
   "cell_type": "code",
   "execution_count": 11,
   "id": "9da9d109-3f7c-4c8f-b77c-7448eda9e667",
   "metadata": {},
   "outputs": [
    {
     "data": {
      "text/html": [
       "<div>\n",
       "<style scoped>\n",
       "    .dataframe tbody tr th:only-of-type {\n",
       "        vertical-align: middle;\n",
       "    }\n",
       "\n",
       "    .dataframe tbody tr th {\n",
       "        vertical-align: top;\n",
       "    }\n",
       "\n",
       "    .dataframe thead th {\n",
       "        text-align: right;\n",
       "    }\n",
       "</style>\n",
       "<table border=\"1\" class=\"dataframe\">\n",
       "  <thead>\n",
       "    <tr style=\"text-align: right;\">\n",
       "      <th></th>\n",
       "      <th>nama depan</th>\n",
       "      <th>nama belakang</th>\n",
       "      <th>email</th>\n",
       "    </tr>\n",
       "  </thead>\n",
       "  <tbody>\n",
       "    <tr>\n",
       "      <th>0</th>\n",
       "      <td>dudung</td>\n",
       "      <td>suherman</td>\n",
       "      <td>dudung@gmail.com</td>\n",
       "    </tr>\n",
       "    <tr>\n",
       "      <th>1</th>\n",
       "      <td>eman</td>\n",
       "      <td>suherman</td>\n",
       "      <td>emangnye@gmail.com</td>\n",
       "    </tr>\n",
       "    <tr>\n",
       "      <th>2</th>\n",
       "      <td>Bobi</td>\n",
       "      <td>Subobi</td>\n",
       "      <td>bobie2yahoo.com</td>\n",
       "    </tr>\n",
       "  </tbody>\n",
       "</table>\n",
       "</div>"
      ],
      "text/plain": [
       "  nama depan nama belakang               email\n",
       "0     dudung      suherman    dudung@gmail.com\n",
       "1       eman      suherman  emangnye@gmail.com\n",
       "2       Bobi        Subobi     bobie2yahoo.com"
      ]
     },
     "execution_count": 11,
     "metadata": {},
     "output_type": "execute_result"
    }
   ],
   "source": [
    "df.columns = [x.lower() for x in df.columns]\n",
    "df"
   ]
  },
  {
   "cell_type": "markdown",
   "id": "be96a623-1efe-4c89-b317-f118ac027056",
   "metadata": {},
   "source": [
    "#### mengganti nama header kolom, waktu di atas khan begini caranya :"
   ]
  },
  {
   "cell_type": "markdown",
   "id": "401f1fbc-3775-4c3d-adea-379f1bf63454",
   "metadata": {},
   "source": [
    "#### df.columns = ['nama_depan','nama_belakang','email']"
   ]
  },
  {
   "cell_type": "markdown",
   "id": "01cba3f9-eb03-47eb-9553-01e30454e847",
   "metadata": {},
   "source": [
    "#### cara lain dengan dictionaries adalah"
   ]
  },
  {
   "cell_type": "code",
   "execution_count": 12,
   "id": "2eeab90e-c7ab-43d9-b80d-cec0dd543e44",
   "metadata": {},
   "outputs": [
    {
     "data": {
      "text/html": [
       "<div>\n",
       "<style scoped>\n",
       "    .dataframe tbody tr th:only-of-type {\n",
       "        vertical-align: middle;\n",
       "    }\n",
       "\n",
       "    .dataframe tbody tr th {\n",
       "        vertical-align: top;\n",
       "    }\n",
       "\n",
       "    .dataframe thead th {\n",
       "        text-align: right;\n",
       "    }\n",
       "</style>\n",
       "<table border=\"1\" class=\"dataframe\">\n",
       "  <thead>\n",
       "    <tr style=\"text-align: right;\">\n",
       "      <th></th>\n",
       "      <th>namenye siape</th>\n",
       "      <th>belakangnye ade name kagak</th>\n",
       "      <th>emailnye woi</th>\n",
       "    </tr>\n",
       "  </thead>\n",
       "  <tbody>\n",
       "    <tr>\n",
       "      <th>0</th>\n",
       "      <td>dudung</td>\n",
       "      <td>suherman</td>\n",
       "      <td>dudung@gmail.com</td>\n",
       "    </tr>\n",
       "    <tr>\n",
       "      <th>1</th>\n",
       "      <td>eman</td>\n",
       "      <td>suherman</td>\n",
       "      <td>emangnye@gmail.com</td>\n",
       "    </tr>\n",
       "    <tr>\n",
       "      <th>2</th>\n",
       "      <td>Bobi</td>\n",
       "      <td>Subobi</td>\n",
       "      <td>bobie2yahoo.com</td>\n",
       "    </tr>\n",
       "  </tbody>\n",
       "</table>\n",
       "</div>"
      ],
      "text/plain": [
       "  namenye siape belakangnye ade name kagak        emailnye woi\n",
       "0        dudung                   suherman    dudung@gmail.com\n",
       "1          eman                   suherman  emangnye@gmail.com\n",
       "2          Bobi                     Subobi     bobie2yahoo.com"
      ]
     },
     "execution_count": 12,
     "metadata": {},
     "output_type": "execute_result"
    }
   ],
   "source": [
    "df.rename(columns={'nama depan':'namenye siape','nama belakang':'belakangnye ade name kagak','email':'emailnye woi'})"
   ]
  },
  {
   "cell_type": "markdown",
   "id": "16d16993-704e-46d8-947f-82c9894a193a",
   "metadata": {},
   "source": [
    "#### Mengganti isi suatu baris"
   ]
  },
  {
   "cell_type": "code",
   "execution_count": 13,
   "id": "7a87311c-916a-4ff8-9bc5-91c898b9f54f",
   "metadata": {},
   "outputs": [
    {
     "data": {
      "text/html": [
       "<div>\n",
       "<style scoped>\n",
       "    .dataframe tbody tr th:only-of-type {\n",
       "        vertical-align: middle;\n",
       "    }\n",
       "\n",
       "    .dataframe tbody tr th {\n",
       "        vertical-align: top;\n",
       "    }\n",
       "\n",
       "    .dataframe thead th {\n",
       "        text-align: right;\n",
       "    }\n",
       "</style>\n",
       "<table border=\"1\" class=\"dataframe\">\n",
       "  <thead>\n",
       "    <tr style=\"text-align: right;\">\n",
       "      <th></th>\n",
       "      <th>nama depan</th>\n",
       "      <th>nama belakang</th>\n",
       "      <th>email</th>\n",
       "    </tr>\n",
       "  </thead>\n",
       "  <tbody>\n",
       "    <tr>\n",
       "      <th>0</th>\n",
       "      <td>dudung</td>\n",
       "      <td>suherman</td>\n",
       "      <td>dudung@gmail.com</td>\n",
       "    </tr>\n",
       "    <tr>\n",
       "      <th>1</th>\n",
       "      <td>eman</td>\n",
       "      <td>suherman</td>\n",
       "      <td>emangnye@gmail.com</td>\n",
       "    </tr>\n",
       "    <tr>\n",
       "      <th>2</th>\n",
       "      <td>John</td>\n",
       "      <td>Drago</td>\n",
       "      <td>johndrago@gmail.com</td>\n",
       "    </tr>\n",
       "  </tbody>\n",
       "</table>\n",
       "</div>"
      ],
      "text/plain": [
       "  nama depan nama belakang                email\n",
       "0     dudung      suherman     dudung@gmail.com\n",
       "1       eman      suherman   emangnye@gmail.com\n",
       "2       John         Drago  johndrago@gmail.com"
      ]
     },
     "execution_count": 13,
     "metadata": {},
     "output_type": "execute_result"
    }
   ],
   "source": [
    "df.loc[2] = ['John','Drago','johndrago@gmail.com']\n",
    "df            "
   ]
  },
  {
   "cell_type": "markdown",
   "id": "d1d471f2-a79e-4472-95f2-30085d54c755",
   "metadata": {},
   "source": [
    "#### menampilkan isi dari baris ke 2, tapi hanya nama belakang dan email doang"
   ]
  },
  {
   "cell_type": "code",
   "execution_count": 14,
   "id": "a251b0cd-5425-4195-a5e1-dc19860e63d5",
   "metadata": {},
   "outputs": [
    {
     "data": {
      "text/plain": [
       "nama belakang                  Drago\n",
       "email            johndrago@gmail.com\n",
       "Name: 2, dtype: object"
      ]
     },
     "execution_count": 14,
     "metadata": {},
     "output_type": "execute_result"
    }
   ],
   "source": [
    "df.loc[2,['nama belakang','email']]"
   ]
  },
  {
   "cell_type": "code",
   "execution_count": 15,
   "id": "a7446e83-4a8d-4368-99d7-abbeb1c4167d",
   "metadata": {},
   "outputs": [
    {
     "data": {
      "text/html": [
       "<div>\n",
       "<style scoped>\n",
       "    .dataframe tbody tr th:only-of-type {\n",
       "        vertical-align: middle;\n",
       "    }\n",
       "\n",
       "    .dataframe tbody tr th {\n",
       "        vertical-align: top;\n",
       "    }\n",
       "\n",
       "    .dataframe thead th {\n",
       "        text-align: right;\n",
       "    }\n",
       "</style>\n",
       "<table border=\"1\" class=\"dataframe\">\n",
       "  <thead>\n",
       "    <tr style=\"text-align: right;\">\n",
       "      <th></th>\n",
       "      <th>nama depan</th>\n",
       "      <th>nama belakang</th>\n",
       "      <th>email</th>\n",
       "    </tr>\n",
       "  </thead>\n",
       "  <tbody>\n",
       "    <tr>\n",
       "      <th>0</th>\n",
       "      <td>dudung</td>\n",
       "      <td>suherman</td>\n",
       "      <td>dudung@gmail.com</td>\n",
       "    </tr>\n",
       "    <tr>\n",
       "      <th>1</th>\n",
       "      <td>eman</td>\n",
       "      <td>suherman</td>\n",
       "      <td>emangnye@gmail.com</td>\n",
       "    </tr>\n",
       "    <tr>\n",
       "      <th>2</th>\n",
       "      <td>John</td>\n",
       "      <td>Drago</td>\n",
       "      <td>johndrago@gmail.com</td>\n",
       "    </tr>\n",
       "  </tbody>\n",
       "</table>\n",
       "</div>"
      ],
      "text/plain": [
       "  nama depan nama belakang                email\n",
       "0     dudung      suherman     dudung@gmail.com\n",
       "1       eman      suherman   emangnye@gmail.com\n",
       "2       John         Drago  johndrago@gmail.com"
      ]
     },
     "execution_count": 15,
     "metadata": {},
     "output_type": "execute_result"
    }
   ],
   "source": [
    "df"
   ]
  },
  {
   "cell_type": "markdown",
   "id": "5cd0b5fb-47d5-4631-9fa3-31342d0b209b",
   "metadata": {},
   "source": [
    "#### Setelah kita ganti nama kolom dengan fungsi"
   ]
  },
  {
   "cell_type": "markdown",
   "id": "930c12ef-c35b-483e-8935-36431a3b109d",
   "metadata": {},
   "source": [
    "#### df.columns = ['nama_depan','nama_belakang','email']"
   ]
  },
  {
   "cell_type": "markdown",
   "id": "414cb950-ffbd-469e-954a-df248c0401e2",
   "metadata": {},
   "source": [
    "#### walaupun kita ganti dengan method rename, nama kolom tetap akan kembali ke aslinya sesuai dengan fungsi df.columns"
   ]
  },
  {
   "cell_type": "markdown",
   "id": "428c52c6-5305-4160-949c-fa37b5df924d",
   "metadata": {},
   "source": [
    "#### Mengganti isi dari kolom \"nama depan\" dari baris 1 misalnya"
   ]
  },
  {
   "cell_type": "code",
   "execution_count": 16,
   "id": "d1af21f1-0208-48b6-981f-8e9414a2c84d",
   "metadata": {},
   "outputs": [],
   "source": [
    "df.loc[1,'nama depan'] = 'Hebat'"
   ]
  },
  {
   "cell_type": "code",
   "execution_count": 17,
   "id": "62fbc699-213f-49a4-a480-ff4865952a07",
   "metadata": {},
   "outputs": [
    {
     "data": {
      "text/html": [
       "<div>\n",
       "<style scoped>\n",
       "    .dataframe tbody tr th:only-of-type {\n",
       "        vertical-align: middle;\n",
       "    }\n",
       "\n",
       "    .dataframe tbody tr th {\n",
       "        vertical-align: top;\n",
       "    }\n",
       "\n",
       "    .dataframe thead th {\n",
       "        text-align: right;\n",
       "    }\n",
       "</style>\n",
       "<table border=\"1\" class=\"dataframe\">\n",
       "  <thead>\n",
       "    <tr style=\"text-align: right;\">\n",
       "      <th></th>\n",
       "      <th>nama depan</th>\n",
       "      <th>nama belakang</th>\n",
       "      <th>email</th>\n",
       "    </tr>\n",
       "  </thead>\n",
       "  <tbody>\n",
       "    <tr>\n",
       "      <th>0</th>\n",
       "      <td>dudung</td>\n",
       "      <td>suherman</td>\n",
       "      <td>dudung@gmail.com</td>\n",
       "    </tr>\n",
       "    <tr>\n",
       "      <th>1</th>\n",
       "      <td>Hebat</td>\n",
       "      <td>suherman</td>\n",
       "      <td>emangnye@gmail.com</td>\n",
       "    </tr>\n",
       "    <tr>\n",
       "      <th>2</th>\n",
       "      <td>John</td>\n",
       "      <td>Drago</td>\n",
       "      <td>johndrago@gmail.com</td>\n",
       "    </tr>\n",
       "  </tbody>\n",
       "</table>\n",
       "</div>"
      ],
      "text/plain": [
       "  nama depan nama belakang                email\n",
       "0     dudung      suherman     dudung@gmail.com\n",
       "1      Hebat      suherman   emangnye@gmail.com\n",
       "2       John         Drago  johndrago@gmail.com"
      ]
     },
     "execution_count": 17,
     "metadata": {},
     "output_type": "execute_result"
    }
   ],
   "source": [
    "df"
   ]
  },
  {
   "cell_type": "markdown",
   "id": "4692d78d-3a68-4dd1-b08e-9f19def2fdef",
   "metadata": {},
   "source": [
    "#### Kita ingin ganti \"nama depan\" menjadi huruf kecil semua"
   ]
  },
  {
   "cell_type": "code",
   "execution_count": 18,
   "id": "6d5e4435-c967-4a52-9e0d-d40b68b57cab",
   "metadata": {},
   "outputs": [
    {
     "data": {
      "text/plain": [
       "0    dudung\n",
       "1     hebat\n",
       "2      john\n",
       "Name: nama depan, dtype: object"
      ]
     },
     "execution_count": 18,
     "metadata": {},
     "output_type": "execute_result"
    }
   ],
   "source": [
    " df['nama depan'].str.lower()"
   ]
  },
  {
   "cell_type": "code",
   "execution_count": 19,
   "id": "0aa515f9-f281-4e25-8ae4-31cdeb955cac",
   "metadata": {},
   "outputs": [
    {
     "data": {
      "text/html": [
       "<div>\n",
       "<style scoped>\n",
       "    .dataframe tbody tr th:only-of-type {\n",
       "        vertical-align: middle;\n",
       "    }\n",
       "\n",
       "    .dataframe tbody tr th {\n",
       "        vertical-align: top;\n",
       "    }\n",
       "\n",
       "    .dataframe thead th {\n",
       "        text-align: right;\n",
       "    }\n",
       "</style>\n",
       "<table border=\"1\" class=\"dataframe\">\n",
       "  <thead>\n",
       "    <tr style=\"text-align: right;\">\n",
       "      <th></th>\n",
       "      <th>nama depan</th>\n",
       "      <th>nama belakang</th>\n",
       "      <th>email</th>\n",
       "    </tr>\n",
       "  </thead>\n",
       "  <tbody>\n",
       "    <tr>\n",
       "      <th>0</th>\n",
       "      <td>dudung</td>\n",
       "      <td>suherman</td>\n",
       "      <td>dudung@gmail.com</td>\n",
       "    </tr>\n",
       "    <tr>\n",
       "      <th>1</th>\n",
       "      <td>Hebat</td>\n",
       "      <td>suherman</td>\n",
       "      <td>emangnye@gmail.com</td>\n",
       "    </tr>\n",
       "    <tr>\n",
       "      <th>2</th>\n",
       "      <td>John</td>\n",
       "      <td>Drago</td>\n",
       "      <td>johndrago@gmail.com</td>\n",
       "    </tr>\n",
       "  </tbody>\n",
       "</table>\n",
       "</div>"
      ],
      "text/plain": [
       "  nama depan nama belakang                email\n",
       "0     dudung      suherman     dudung@gmail.com\n",
       "1      Hebat      suherman   emangnye@gmail.com\n",
       "2       John         Drago  johndrago@gmail.com"
      ]
     },
     "execution_count": 19,
     "metadata": {},
     "output_type": "execute_result"
    }
   ],
   "source": [
    "df"
   ]
  },
  {
   "cell_type": "markdown",
   "id": "bb68f6de-50b9-4bf4-b54a-6c31803b707a",
   "metadata": {},
   "source": [
    "#### tetapi kalau kita ingin melihat isi tabel nya, maka kolom nama depan ga brubah jadi huruf kecil"
   ]
  },
  {
   "cell_type": "markdown",
   "id": "00fe452f-eda5-4e6f-8905-77969b53e8bf",
   "metadata": {},
   "source": [
    "#### Supaya bisa berubah kolom nama depan jadi huruf kecil semua, kita harus mendefinisikannya"
   ]
  },
  {
   "cell_type": "code",
   "execution_count": 20,
   "id": "3a52b4e8-7115-47cc-bbed-443e43254933",
   "metadata": {},
   "outputs": [],
   "source": [
    "df['nama depan'] = df['nama depan'].str.lower()"
   ]
  },
  {
   "cell_type": "code",
   "execution_count": 21,
   "id": "92b94ed7-d404-4007-846a-3900186dc2a4",
   "metadata": {},
   "outputs": [
    {
     "data": {
      "text/html": [
       "<div>\n",
       "<style scoped>\n",
       "    .dataframe tbody tr th:only-of-type {\n",
       "        vertical-align: middle;\n",
       "    }\n",
       "\n",
       "    .dataframe tbody tr th {\n",
       "        vertical-align: top;\n",
       "    }\n",
       "\n",
       "    .dataframe thead th {\n",
       "        text-align: right;\n",
       "    }\n",
       "</style>\n",
       "<table border=\"1\" class=\"dataframe\">\n",
       "  <thead>\n",
       "    <tr style=\"text-align: right;\">\n",
       "      <th></th>\n",
       "      <th>nama depan</th>\n",
       "      <th>nama belakang</th>\n",
       "      <th>email</th>\n",
       "    </tr>\n",
       "  </thead>\n",
       "  <tbody>\n",
       "    <tr>\n",
       "      <th>0</th>\n",
       "      <td>dudung</td>\n",
       "      <td>suherman</td>\n",
       "      <td>dudung@gmail.com</td>\n",
       "    </tr>\n",
       "    <tr>\n",
       "      <th>1</th>\n",
       "      <td>hebat</td>\n",
       "      <td>suherman</td>\n",
       "      <td>emangnye@gmail.com</td>\n",
       "    </tr>\n",
       "    <tr>\n",
       "      <th>2</th>\n",
       "      <td>john</td>\n",
       "      <td>Drago</td>\n",
       "      <td>johndrago@gmail.com</td>\n",
       "    </tr>\n",
       "  </tbody>\n",
       "</table>\n",
       "</div>"
      ],
      "text/plain": [
       "  nama depan nama belakang                email\n",
       "0     dudung      suherman     dudung@gmail.com\n",
       "1      hebat      suherman   emangnye@gmail.com\n",
       "2       john         Drago  johndrago@gmail.com"
      ]
     },
     "execution_count": 21,
     "metadata": {},
     "output_type": "execute_result"
    }
   ],
   "source": [
    "df"
   ]
  },
  {
   "cell_type": "markdown",
   "id": "2f8cf04c-40df-4b93-8915-c24d10bf2ce2",
   "metadata": {},
   "source": [
    "### fungsi apply, Map dan Applymap di pandas, bisa di apply ke baris maupun kolom"
   ]
  },
  {
   "cell_type": "markdown",
   "id": "39e27dd6-b92c-45e6-9340-da4ee166c7d3",
   "metadata": {},
   "source": [
    "#### kita ingin mengubah kolom email jadi huruf besar semua"
   ]
  },
  {
   "cell_type": "markdown",
   "id": "676b42f5-8ba9-4f4f-9369-75f04571f1a4",
   "metadata": {},
   "source": [
    "####  syaratnya adalah membuat definisi dulu, baru kita gunakan method apply nya"
   ]
  },
  {
   "cell_type": "code",
   "execution_count": 22,
   "id": "95cb34aa-0d8a-4343-b919-68c92d204f88",
   "metadata": {},
   "outputs": [],
   "source": [
    "def update_email(email):\n",
    "    return email.upper()"
   ]
  },
  {
   "cell_type": "code",
   "execution_count": 23,
   "id": "16bab8c0-4a88-49ae-95b2-b294c63ceb00",
   "metadata": {},
   "outputs": [
    {
     "data": {
      "text/plain": [
       "0       DUDUNG@GMAIL.COM\n",
       "1     EMANGNYE@GMAIL.COM\n",
       "2    JOHNDRAGO@GMAIL.COM\n",
       "Name: email, dtype: object"
      ]
     },
     "execution_count": 23,
     "metadata": {},
     "output_type": "execute_result"
    }
   ],
   "source": [
    "df['email'].apply(update_email)"
   ]
  },
  {
   "cell_type": "markdown",
   "id": "85622b7c-c847-4209-a68e-895beef8ecaa",
   "metadata": {},
   "source": [
    "#### nama def nya kita ganti ya jadi apaan, bisa ga ya"
   ]
  },
  {
   "cell_type": "code",
   "execution_count": 24,
   "id": "af05c129-95bb-40e8-aedb-522286330612",
   "metadata": {},
   "outputs": [],
   "source": [
    "def apaan(email):\n",
    "    return email.upper()"
   ]
  },
  {
   "cell_type": "code",
   "execution_count": 25,
   "id": "973741bd-4985-4b03-997a-556ab44f368b",
   "metadata": {},
   "outputs": [
    {
     "data": {
      "text/plain": [
       "0       DUDUNG@GMAIL.COM\n",
       "1     EMANGNYE@GMAIL.COM\n",
       "2    JOHNDRAGO@GMAIL.COM\n",
       "Name: email, dtype: object"
      ]
     },
     "execution_count": 25,
     "metadata": {},
     "output_type": "execute_result"
    }
   ],
   "source": [
    "df['email'].apply(apaan)"
   ]
  },
  {
   "cell_type": "markdown",
   "id": "254a1f62-7267-4ea8-9a1c-00c8e17b21c7",
   "metadata": {},
   "source": [
    "#### kita patenkan di data frame"
   ]
  },
  {
   "cell_type": "code",
   "execution_count": 26,
   "id": "1accd44d-d7ce-4ac5-9295-541e979703ed",
   "metadata": {},
   "outputs": [],
   "source": [
    "df['email'] = df['email'].apply(apaan)"
   ]
  },
  {
   "cell_type": "code",
   "execution_count": 27,
   "id": "767a670a-7b5b-4bda-a7d4-0215a788896f",
   "metadata": {},
   "outputs": [
    {
     "data": {
      "text/html": [
       "<div>\n",
       "<style scoped>\n",
       "    .dataframe tbody tr th:only-of-type {\n",
       "        vertical-align: middle;\n",
       "    }\n",
       "\n",
       "    .dataframe tbody tr th {\n",
       "        vertical-align: top;\n",
       "    }\n",
       "\n",
       "    .dataframe thead th {\n",
       "        text-align: right;\n",
       "    }\n",
       "</style>\n",
       "<table border=\"1\" class=\"dataframe\">\n",
       "  <thead>\n",
       "    <tr style=\"text-align: right;\">\n",
       "      <th></th>\n",
       "      <th>nama depan</th>\n",
       "      <th>nama belakang</th>\n",
       "      <th>email</th>\n",
       "    </tr>\n",
       "  </thead>\n",
       "  <tbody>\n",
       "    <tr>\n",
       "      <th>0</th>\n",
       "      <td>dudung</td>\n",
       "      <td>suherman</td>\n",
       "      <td>DUDUNG@GMAIL.COM</td>\n",
       "    </tr>\n",
       "    <tr>\n",
       "      <th>1</th>\n",
       "      <td>hebat</td>\n",
       "      <td>suherman</td>\n",
       "      <td>EMANGNYE@GMAIL.COM</td>\n",
       "    </tr>\n",
       "    <tr>\n",
       "      <th>2</th>\n",
       "      <td>john</td>\n",
       "      <td>Drago</td>\n",
       "      <td>JOHNDRAGO@GMAIL.COM</td>\n",
       "    </tr>\n",
       "  </tbody>\n",
       "</table>\n",
       "</div>"
      ],
      "text/plain": [
       "  nama depan nama belakang                email\n",
       "0     dudung      suherman     DUDUNG@GMAIL.COM\n",
       "1      hebat      suherman   EMANGNYE@GMAIL.COM\n",
       "2       john         Drago  JOHNDRAGO@GMAIL.COM"
      ]
     },
     "execution_count": 27,
     "metadata": {},
     "output_type": "execute_result"
    }
   ],
   "source": [
    "df"
   ]
  },
  {
   "cell_type": "markdown",
   "id": "133bc01c-1718-4cd7-b257-9bebfc3c7e72",
   "metadata": {},
   "source": [
    "#### Fungsi lambda sebagai pengganti def"
   ]
  },
  {
   "cell_type": "markdown",
   "id": "372be8dc-eeac-4333-80d2-6b878b75c18e",
   "metadata": {},
   "source": [
    "''' kita khan tadi punya fungsi\n",
    "\n",
    "def apaan(email):return email.upper(), \n",
    "\n",
    "sebagai gantinya kita bisa gunakan fungsi lambda''' "
   ]
  },
  {
   "cell_type": "code",
   "execution_count": 28,
   "id": "345ab6fe-4ce4-4824-8b12-d782de2e3887",
   "metadata": {},
   "outputs": [],
   "source": [
    "def update_email(email):\n",
    "    return email.upper()"
   ]
  },
  {
   "cell_type": "code",
   "execution_count": 29,
   "id": "4bde8e5c-a760-4352-9f15-4ef6f8aa839d",
   "metadata": {},
   "outputs": [
    {
     "data": {
      "text/html": [
       "<div>\n",
       "<style scoped>\n",
       "    .dataframe tbody tr th:only-of-type {\n",
       "        vertical-align: middle;\n",
       "    }\n",
       "\n",
       "    .dataframe tbody tr th {\n",
       "        vertical-align: top;\n",
       "    }\n",
       "\n",
       "    .dataframe thead th {\n",
       "        text-align: right;\n",
       "    }\n",
       "</style>\n",
       "<table border=\"1\" class=\"dataframe\">\n",
       "  <thead>\n",
       "    <tr style=\"text-align: right;\">\n",
       "      <th></th>\n",
       "      <th>nama depan</th>\n",
       "      <th>nama belakang</th>\n",
       "      <th>email</th>\n",
       "    </tr>\n",
       "  </thead>\n",
       "  <tbody>\n",
       "    <tr>\n",
       "      <th>0</th>\n",
       "      <td>dudung</td>\n",
       "      <td>suherman</td>\n",
       "      <td>DUDUNG@GMAIL.COM</td>\n",
       "    </tr>\n",
       "    <tr>\n",
       "      <th>1</th>\n",
       "      <td>hebat</td>\n",
       "      <td>suherman</td>\n",
       "      <td>EMANGNYE@GMAIL.COM</td>\n",
       "    </tr>\n",
       "    <tr>\n",
       "      <th>2</th>\n",
       "      <td>john</td>\n",
       "      <td>Drago</td>\n",
       "      <td>JOHNDRAGO@GMAIL.COM</td>\n",
       "    </tr>\n",
       "  </tbody>\n",
       "</table>\n",
       "</div>"
      ],
      "text/plain": [
       "  nama depan nama belakang                email\n",
       "0     dudung      suherman     DUDUNG@GMAIL.COM\n",
       "1      hebat      suherman   EMANGNYE@GMAIL.COM\n",
       "2       john         Drago  JOHNDRAGO@GMAIL.COM"
      ]
     },
     "execution_count": 29,
     "metadata": {},
     "output_type": "execute_result"
    }
   ],
   "source": [
    "df"
   ]
  },
  {
   "cell_type": "code",
   "execution_count": 30,
   "id": "12beaada-c3d8-4853-b8ed-95caa548b3ca",
   "metadata": {},
   "outputs": [],
   "source": [
    "df = df.apply(lambda x: x.min())"
   ]
  },
  {
   "cell_type": "code",
   "execution_count": 31,
   "id": "af8bb07c-8af2-4aa2-901f-1aa3648de445",
   "metadata": {},
   "outputs": [
    {
     "data": {
      "text/plain": [
       "nama depan                 dudung\n",
       "nama belakang               Drago\n",
       "email            DUDUNG@GMAIL.COM\n",
       "dtype: object"
      ]
     },
     "execution_count": 31,
     "metadata": {},
     "output_type": "execute_result"
    }
   ],
   "source": [
    "df"
   ]
  },
  {
   "cell_type": "markdown",
   "id": "b206a174-07a3-451d-a48a-0d4aebdc3e08",
   "metadata": {},
   "source": [
    "### Ini lambda perlu di pelajari lagi, belum ngerti aku"
   ]
  },
  {
   "cell_type": "code",
   "execution_count": 32,
   "id": "9dff8c93-7e8f-4b1d-85b1-a1a3765ad452",
   "metadata": {},
   "outputs": [],
   "source": [
    "alamat = {\n",
    "    'dudung':'Bandung',\n",
    "    'hebat':'Medan',\n",
    "    'John':'Jakarta'\n",
    "}"
   ]
  },
  {
   "cell_type": "markdown",
   "id": "080a5396-596c-454a-85c2-7b04cfac8d58",
   "metadata": {},
   "source": [
    "#### kita kembali lagi ke awal data frame yg asli"
   ]
  },
  {
   "cell_type": "code",
   "execution_count": 33,
   "id": "91dea9e7-5293-4ce9-b55b-93979210e099",
   "metadata": {},
   "outputs": [],
   "source": [
    "people = {\n",
    "    'first':['dudung','eman','Bobi'],\n",
    "    'last':['suherman', 'suherman','Subobi'],\n",
    "    'email':['dudung@gmail.com','emangnye@gmail.com','bobie2yahoo.com']\n",
    "}"
   ]
  },
  {
   "cell_type": "code",
   "execution_count": 34,
   "id": "cd0b3e6f-025a-43fc-b255-5dd1a2ed4f5b",
   "metadata": {},
   "outputs": [
    {
     "data": {
      "text/html": [
       "<div>\n",
       "<style scoped>\n",
       "    .dataframe tbody tr th:only-of-type {\n",
       "        vertical-align: middle;\n",
       "    }\n",
       "\n",
       "    .dataframe tbody tr th {\n",
       "        vertical-align: top;\n",
       "    }\n",
       "\n",
       "    .dataframe thead th {\n",
       "        text-align: right;\n",
       "    }\n",
       "</style>\n",
       "<table border=\"1\" class=\"dataframe\">\n",
       "  <thead>\n",
       "    <tr style=\"text-align: right;\">\n",
       "      <th></th>\n",
       "      <th>first</th>\n",
       "      <th>last</th>\n",
       "      <th>email</th>\n",
       "    </tr>\n",
       "  </thead>\n",
       "  <tbody>\n",
       "    <tr>\n",
       "      <th>0</th>\n",
       "      <td>dudung</td>\n",
       "      <td>suherman</td>\n",
       "      <td>dudung@gmail.com</td>\n",
       "    </tr>\n",
       "    <tr>\n",
       "      <th>1</th>\n",
       "      <td>eman</td>\n",
       "      <td>suherman</td>\n",
       "      <td>emangnye@gmail.com</td>\n",
       "    </tr>\n",
       "    <tr>\n",
       "      <th>2</th>\n",
       "      <td>Bobi</td>\n",
       "      <td>Subobi</td>\n",
       "      <td>bobie2yahoo.com</td>\n",
       "    </tr>\n",
       "  </tbody>\n",
       "</table>\n",
       "</div>"
      ],
      "text/plain": [
       "    first      last               email\n",
       "0  dudung  suherman    dudung@gmail.com\n",
       "1    eman  suherman  emangnye@gmail.com\n",
       "2    Bobi    Subobi     bobie2yahoo.com"
      ]
     },
     "execution_count": 34,
     "metadata": {},
     "output_type": "execute_result"
    }
   ],
   "source": [
    "df = pd.DataFrame(people)\n",
    "df"
   ]
  },
  {
   "cell_type": "markdown",
   "id": "4458db8b-1c84-4a1e-82bf-4966b176c382",
   "metadata": {},
   "source": [
    "#### mengetahui jumlah huruf di kolom email"
   ]
  },
  {
   "cell_type": "code",
   "execution_count": 35,
   "id": "eac8d353-0a64-42e7-a8d6-5080af26cb99",
   "metadata": {},
   "outputs": [
    {
     "data": {
      "text/plain": [
       "0    16\n",
       "1    18\n",
       "2    15\n",
       "Name: email, dtype: int64"
      ]
     },
     "execution_count": 35,
     "metadata": {},
     "output_type": "execute_result"
    }
   ],
   "source": [
    " df['email'].apply(len)"
   ]
  },
  {
   "cell_type": "markdown",
   "id": "b3c9e2c0-8010-4012-b68d-f46cdf2e21bc",
   "metadata": {},
   "source": [
    "#### menganti isi kolom email menjadi huruf title"
   ]
  },
  {
   "cell_type": "code",
   "execution_count": 36,
   "id": "8d08a688-6110-44d8-a7ba-e81df255da5b",
   "metadata": {},
   "outputs": [],
   "source": [
    "df['email'] = df['email'].apply(lambda x: x.title())"
   ]
  },
  {
   "cell_type": "code",
   "execution_count": 37,
   "id": "f6e62213-d784-40c9-b6fa-f7d39470c8fc",
   "metadata": {},
   "outputs": [
    {
     "data": {
      "text/html": [
       "<div>\n",
       "<style scoped>\n",
       "    .dataframe tbody tr th:only-of-type {\n",
       "        vertical-align: middle;\n",
       "    }\n",
       "\n",
       "    .dataframe tbody tr th {\n",
       "        vertical-align: top;\n",
       "    }\n",
       "\n",
       "    .dataframe thead th {\n",
       "        text-align: right;\n",
       "    }\n",
       "</style>\n",
       "<table border=\"1\" class=\"dataframe\">\n",
       "  <thead>\n",
       "    <tr style=\"text-align: right;\">\n",
       "      <th></th>\n",
       "      <th>first</th>\n",
       "      <th>last</th>\n",
       "      <th>email</th>\n",
       "    </tr>\n",
       "  </thead>\n",
       "  <tbody>\n",
       "    <tr>\n",
       "      <th>0</th>\n",
       "      <td>dudung</td>\n",
       "      <td>suherman</td>\n",
       "      <td>Dudung@Gmail.Com</td>\n",
       "    </tr>\n",
       "    <tr>\n",
       "      <th>1</th>\n",
       "      <td>eman</td>\n",
       "      <td>suherman</td>\n",
       "      <td>Emangnye@Gmail.Com</td>\n",
       "    </tr>\n",
       "    <tr>\n",
       "      <th>2</th>\n",
       "      <td>Bobi</td>\n",
       "      <td>Subobi</td>\n",
       "      <td>Bobie2Yahoo.Com</td>\n",
       "    </tr>\n",
       "  </tbody>\n",
       "</table>\n",
       "</div>"
      ],
      "text/plain": [
       "    first      last               email\n",
       "0  dudung  suherman    Dudung@Gmail.Com\n",
       "1    eman  suherman  Emangnye@Gmail.Com\n",
       "2    Bobi    Subobi     Bobie2Yahoo.Com"
      ]
     },
     "execution_count": 37,
     "metadata": {},
     "output_type": "execute_result"
    }
   ],
   "source": [
    "df"
   ]
  },
  {
   "cell_type": "markdown",
   "id": "b1e715dd-b4f7-4327-abef-16f52527b894",
   "metadata": {},
   "source": [
    "#### Tapi kalau ingin mengetahui jumlah baris di tiap kolom"
   ]
  },
  {
   "cell_type": "code",
   "execution_count": 38,
   "id": "753ddc65-0ac5-4bc2-b49f-aa0556d861c8",
   "metadata": {},
   "outputs": [
    {
     "data": {
      "text/plain": [
       "first    3\n",
       "last     3\n",
       "email    3\n",
       "dtype: int64"
      ]
     },
     "execution_count": 38,
     "metadata": {},
     "output_type": "execute_result"
    }
   ],
   "source": [
    "df.apply(len)"
   ]
  },
  {
   "cell_type": "markdown",
   "id": "cfc762ed-2117-4bee-83af-313515370377",
   "metadata": {},
   "source": [
    "#### bisa juga dengan cara sbb"
   ]
  },
  {
   "cell_type": "code",
   "execution_count": 39,
   "id": "af97494b-f02d-494c-aa33-bfb6fd62d0f5",
   "metadata": {},
   "outputs": [
    {
     "data": {
      "text/plain": [
       "0    3\n",
       "1    3\n",
       "2    3\n",
       "dtype: int64"
      ]
     },
     "execution_count": 39,
     "metadata": {},
     "output_type": "execute_result"
    }
   ],
   "source": [
    "df.apply(len, axis='columns')"
   ]
  },
  {
   "cell_type": "markdown",
   "id": "2a656001-b04a-4dde-99c1-057c3db4e82d",
   "metadata": {},
   "source": [
    "#### mengetahui jumlah baris di kolom tertentu"
   ]
  },
  {
   "cell_type": "code",
   "execution_count": 40,
   "id": "dc396544-a391-4edf-9e9d-794af90b2c95",
   "metadata": {},
   "outputs": [
    {
     "data": {
      "text/plain": [
       "3"
      ]
     },
     "execution_count": 40,
     "metadata": {},
     "output_type": "execute_result"
    }
   ],
   "source": [
    "len(df['email'])"
   ]
  },
  {
   "cell_type": "code",
   "execution_count": 41,
   "id": "090ee7dd-6ed5-44b3-a788-cd00cbd138a7",
   "metadata": {},
   "outputs": [
    {
     "data": {
      "text/plain": [
       "first               Bobi\n",
       "last              Subobi\n",
       "email    Bobie2Yahoo.Com\n",
       "dtype: object"
      ]
     },
     "execution_count": 41,
     "metadata": {},
     "output_type": "execute_result"
    }
   ],
   "source": [
    "df.apply(pd.Series.min)"
   ]
  },
  {
   "cell_type": "markdown",
   "id": "a7a8eba5-eb99-42ae-a9f4-04f731fd50ed",
   "metadata": {},
   "source": [
    "#### menggunakan applymap untuk setiap cell dari tabel"
   ]
  },
  {
   "cell_type": "code",
   "execution_count": 42,
   "id": "c98ad915-378b-4d84-bf42-f759f6932565",
   "metadata": {},
   "outputs": [
    {
     "name": "stderr",
     "output_type": "stream",
     "text": [
      "C:\\Users\\rbagu\\AppData\\Local\\Temp\\ipykernel_18456\\31918941.py:1: FutureWarning: DataFrame.applymap has been deprecated. Use DataFrame.map instead.\n",
      "  df.applymap(len)\n"
     ]
    },
    {
     "data": {
      "text/html": [
       "<div>\n",
       "<style scoped>\n",
       "    .dataframe tbody tr th:only-of-type {\n",
       "        vertical-align: middle;\n",
       "    }\n",
       "\n",
       "    .dataframe tbody tr th {\n",
       "        vertical-align: top;\n",
       "    }\n",
       "\n",
       "    .dataframe thead th {\n",
       "        text-align: right;\n",
       "    }\n",
       "</style>\n",
       "<table border=\"1\" class=\"dataframe\">\n",
       "  <thead>\n",
       "    <tr style=\"text-align: right;\">\n",
       "      <th></th>\n",
       "      <th>first</th>\n",
       "      <th>last</th>\n",
       "      <th>email</th>\n",
       "    </tr>\n",
       "  </thead>\n",
       "  <tbody>\n",
       "    <tr>\n",
       "      <th>0</th>\n",
       "      <td>dudung</td>\n",
       "      <td>suherman</td>\n",
       "      <td>Dudung@Gmail.Com</td>\n",
       "    </tr>\n",
       "    <tr>\n",
       "      <th>1</th>\n",
       "      <td>eman</td>\n",
       "      <td>suherman</td>\n",
       "      <td>Emangnye@Gmail.Com</td>\n",
       "    </tr>\n",
       "    <tr>\n",
       "      <th>2</th>\n",
       "      <td>Bobi</td>\n",
       "      <td>Subobi</td>\n",
       "      <td>Bobie2Yahoo.Com</td>\n",
       "    </tr>\n",
       "  </tbody>\n",
       "</table>\n",
       "</div>"
      ],
      "text/plain": [
       "    first      last               email\n",
       "0  dudung  suherman    Dudung@Gmail.Com\n",
       "1    eman  suherman  Emangnye@Gmail.Com\n",
       "2    Bobi    Subobi     Bobie2Yahoo.Com"
      ]
     },
     "execution_count": 42,
     "metadata": {},
     "output_type": "execute_result"
    }
   ],
   "source": [
    "df.applymap(len)\n",
    "df"
   ]
  },
  {
   "cell_type": "markdown",
   "id": "8e5977c6-d4ff-4c9c-b863-fae7e0e23be2",
   "metadata": {},
   "source": [
    "#### sekarang kita terapkan ke semua cell, untuk membentuk hurufnya kecil semua"
   ]
  },
  {
   "cell_type": "code",
   "execution_count": 43,
   "id": "d91153a6-4122-4f00-9cd7-036c6befc4d8",
   "metadata": {},
   "outputs": [
    {
     "name": "stderr",
     "output_type": "stream",
     "text": [
      "C:\\Users\\rbagu\\AppData\\Local\\Temp\\ipykernel_18456\\357608748.py:1: FutureWarning: DataFrame.applymap has been deprecated. Use DataFrame.map instead.\n",
      "  df.applymap(str.lower)\n"
     ]
    },
    {
     "data": {
      "text/html": [
       "<div>\n",
       "<style scoped>\n",
       "    .dataframe tbody tr th:only-of-type {\n",
       "        vertical-align: middle;\n",
       "    }\n",
       "\n",
       "    .dataframe tbody tr th {\n",
       "        vertical-align: top;\n",
       "    }\n",
       "\n",
       "    .dataframe thead th {\n",
       "        text-align: right;\n",
       "    }\n",
       "</style>\n",
       "<table border=\"1\" class=\"dataframe\">\n",
       "  <thead>\n",
       "    <tr style=\"text-align: right;\">\n",
       "      <th></th>\n",
       "      <th>first</th>\n",
       "      <th>last</th>\n",
       "      <th>email</th>\n",
       "    </tr>\n",
       "  </thead>\n",
       "  <tbody>\n",
       "    <tr>\n",
       "      <th>0</th>\n",
       "      <td>dudung</td>\n",
       "      <td>suherman</td>\n",
       "      <td>dudung@gmail.com</td>\n",
       "    </tr>\n",
       "    <tr>\n",
       "      <th>1</th>\n",
       "      <td>eman</td>\n",
       "      <td>suherman</td>\n",
       "      <td>emangnye@gmail.com</td>\n",
       "    </tr>\n",
       "    <tr>\n",
       "      <th>2</th>\n",
       "      <td>bobi</td>\n",
       "      <td>subobi</td>\n",
       "      <td>bobie2yahoo.com</td>\n",
       "    </tr>\n",
       "  </tbody>\n",
       "</table>\n",
       "</div>"
      ],
      "text/plain": [
       "    first      last               email\n",
       "0  dudung  suherman    dudung@gmail.com\n",
       "1    eman  suherman  emangnye@gmail.com\n",
       "2    bobi    subobi     bobie2yahoo.com"
      ]
     },
     "execution_count": 43,
     "metadata": {},
     "output_type": "execute_result"
    }
   ],
   "source": [
    "df.applymap(str.lower)"
   ]
  },
  {
   "cell_type": "markdown",
   "id": "d9659e3b-f6b4-43d5-89dc-93dc2da0d7d5",
   "metadata": {},
   "source": [
    "#### Mengganti isi suatu kolom"
   ]
  },
  {
   "cell_type": "code",
   "execution_count": 44,
   "id": "9c233619-4cbd-4566-a60d-d09d5b77f85f",
   "metadata": {},
   "outputs": [
    {
     "data": {
      "text/plain": [
       "0    chris\n",
       "1     Mary\n",
       "2     Bobi\n",
       "Name: first, dtype: object"
      ]
     },
     "execution_count": 44,
     "metadata": {},
     "output_type": "execute_result"
    }
   ],
   "source": [
    "df['first'].replace({'dudung':'chris','eman':'Mary'})"
   ]
  },
  {
   "cell_type": "code",
   "execution_count": 45,
   "id": "83b30bc7-b265-4068-8282-088dc359e396",
   "metadata": {},
   "outputs": [
    {
     "data": {
      "text/plain": [
       "0    deddy\n",
       "1    andri\n",
       "2      NaN\n",
       "Name: first, dtype: object"
      ]
     },
     "execution_count": 45,
     "metadata": {},
     "output_type": "execute_result"
    }
   ],
   "source": [
    "df['first'].map({'dudung':'deddy', 'eman': 'andri'})"
   ]
  },
  {
   "cell_type": "markdown",
   "id": "a45efc51-f13f-484d-bff5-6f1dd377c9bb",
   "metadata": {},
   "source": [
    "#### Kita paten kan"
   ]
  },
  {
   "cell_type": "code",
   "execution_count": 46,
   "id": "637b4cd8-5487-4269-959a-3ebc327f92b4",
   "metadata": {},
   "outputs": [],
   "source": [
    "df['first'] = df['first'].map({'dudung':'deddy', 'eman': 'andri'})"
   ]
  },
  {
   "cell_type": "code",
   "execution_count": 47,
   "id": "b6270ff2-87b5-4c65-99a3-6c15dba606c0",
   "metadata": {},
   "outputs": [
    {
     "data": {
      "text/html": [
       "<div>\n",
       "<style scoped>\n",
       "    .dataframe tbody tr th:only-of-type {\n",
       "        vertical-align: middle;\n",
       "    }\n",
       "\n",
       "    .dataframe tbody tr th {\n",
       "        vertical-align: top;\n",
       "    }\n",
       "\n",
       "    .dataframe thead th {\n",
       "        text-align: right;\n",
       "    }\n",
       "</style>\n",
       "<table border=\"1\" class=\"dataframe\">\n",
       "  <thead>\n",
       "    <tr style=\"text-align: right;\">\n",
       "      <th></th>\n",
       "      <th>first</th>\n",
       "      <th>last</th>\n",
       "      <th>email</th>\n",
       "    </tr>\n",
       "  </thead>\n",
       "  <tbody>\n",
       "    <tr>\n",
       "      <th>0</th>\n",
       "      <td>deddy</td>\n",
       "      <td>suherman</td>\n",
       "      <td>Dudung@Gmail.Com</td>\n",
       "    </tr>\n",
       "    <tr>\n",
       "      <th>1</th>\n",
       "      <td>andri</td>\n",
       "      <td>suherman</td>\n",
       "      <td>Emangnye@Gmail.Com</td>\n",
       "    </tr>\n",
       "    <tr>\n",
       "      <th>2</th>\n",
       "      <td>NaN</td>\n",
       "      <td>Subobi</td>\n",
       "      <td>Bobie2Yahoo.Com</td>\n",
       "    </tr>\n",
       "  </tbody>\n",
       "</table>\n",
       "</div>"
      ],
      "text/plain": [
       "   first      last               email\n",
       "0  deddy  suherman    Dudung@Gmail.Com\n",
       "1  andri  suherman  Emangnye@Gmail.Com\n",
       "2    NaN    Subobi     Bobie2Yahoo.Com"
      ]
     },
     "execution_count": 47,
     "metadata": {},
     "output_type": "execute_result"
    }
   ],
   "source": [
    "df"
   ]
  },
  {
   "cell_type": "markdown",
   "id": "62f2876c-9b70-4688-8d53-4c90cf5c76b4",
   "metadata": {},
   "source": [
    "#### Kita beralih ke Panda demo "
   ]
  },
  {
   "cell_type": "code",
   "execution_count": null,
   "id": "8879ec26-5c74-42de-8f73-fa5e2b41d341",
   "metadata": {},
   "outputs": [],
   "source": []
  }
 ],
 "metadata": {
  "kernelspec": {
   "display_name": "Python 3 (ipykernel)",
   "language": "python",
   "name": "python3"
  },
  "language_info": {
   "codemirror_mode": {
    "name": "ipython",
    "version": 3
   },
   "file_extension": ".py",
   "mimetype": "text/x-python",
   "name": "python",
   "nbconvert_exporter": "python",
   "pygments_lexer": "ipython3",
   "version": "3.12.4"
  }
 },
 "nbformat": 4,
 "nbformat_minor": 5
}
