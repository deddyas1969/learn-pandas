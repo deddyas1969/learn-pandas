{
 "cells": [
  {
   "cell_type": "markdown",
   "id": "9672a8b3-b9cc-4923-818c-942f79866aac",
   "metadata": {},
   "source": [
    "#### Untuk pengingat buat data frame"
   ]
  },
  {
   "cell_type": "code",
   "execution_count": 1,
   "id": "6b9f9b46-86f0-4c26-8a79-24f18a3860a0",
   "metadata": {},
   "outputs": [],
   "source": [
    "person = {\n",
    "    'first':'corey',\n",
    "    'last':'schafer',\n",
    "    'email':'coreyschaefer@gmail.com'\n",
    "}\n"
   ]
  },
  {
   "cell_type": "code",
   "execution_count": 2,
   "id": "dd68f43b-ea7c-4819-ad29-198be90c2f4d",
   "metadata": {},
   "outputs": [
    {
     "name": "stdout",
     "output_type": "stream",
     "text": [
      "{'first': 'corey', 'last': 'schafer', 'email': 'coreyschaefer@gmail.com'}\n"
     ]
    }
   ],
   "source": [
    "print (person)"
   ]
  },
  {
   "cell_type": "code",
   "execution_count": 3,
   "id": "fcc9448c-7de1-4ef5-8e5a-29591da4eaf5",
   "metadata": {},
   "outputs": [],
   "source": [
    "people = {\n",
    "    'first':['dudung','eman','Bobi'],\n",
    "    'last':['serudung', 'suherman','Subobi'],\n",
    "    'email':['dudung@gmail.com','emangnye@gmail.com','bobie2yahoo.com']\n",
    "}"
   ]
  },
  {
   "cell_type": "markdown",
   "id": "6004201c-ea5c-4a58-9137-ad4287dab062",
   "metadata": {},
   "source": [
    "#### jika kita panggil email, maka akan muncul list alamat2 email "
   ]
  },
  {
   "cell_type": "code",
   "execution_count": 4,
   "id": "f0d4459d-a17c-4f56-83a2-5849d58cf238",
   "metadata": {},
   "outputs": [
    {
     "data": {
      "text/plain": [
       "['dudung@gmail.com', 'emangnye@gmail.com', 'bobie2yahoo.com']"
      ]
     },
     "execution_count": 4,
     "metadata": {},
     "output_type": "execute_result"
    }
   ],
   "source": [
    "people['email']"
   ]
  },
  {
   "cell_type": "markdown",
   "id": "316bdd06-11d3-4125-9bd1-a9f1fab74bcf",
   "metadata": {},
   "source": [
    "#### kita akan membuat data frame"
   ]
  },
  {
   "cell_type": "code",
   "execution_count": 5,
   "id": "24ca4b8b-a01c-467c-b703-8f18c07c1a5c",
   "metadata": {},
   "outputs": [],
   "source": [
    "import pandas as pd"
   ]
  },
  {
   "cell_type": "code",
   "execution_count": 6,
   "id": "04e79b1f-39e3-4608-a2aa-478a817d1f0d",
   "metadata": {},
   "outputs": [],
   "source": [
    "df = pd.DataFrame(people)"
   ]
  },
  {
   "cell_type": "code",
   "execution_count": 7,
   "id": "f02973ac-1b90-4e5b-8b1d-1c13fcdf8f22",
   "metadata": {},
   "outputs": [
    {
     "data": {
      "text/html": [
       "<div>\n",
       "<style scoped>\n",
       "    .dataframe tbody tr th:only-of-type {\n",
       "        vertical-align: middle;\n",
       "    }\n",
       "\n",
       "    .dataframe tbody tr th {\n",
       "        vertical-align: top;\n",
       "    }\n",
       "\n",
       "    .dataframe thead th {\n",
       "        text-align: right;\n",
       "    }\n",
       "</style>\n",
       "<table border=\"1\" class=\"dataframe\">\n",
       "  <thead>\n",
       "    <tr style=\"text-align: right;\">\n",
       "      <th></th>\n",
       "      <th>first</th>\n",
       "      <th>last</th>\n",
       "      <th>email</th>\n",
       "    </tr>\n",
       "  </thead>\n",
       "  <tbody>\n",
       "    <tr>\n",
       "      <th>0</th>\n",
       "      <td>dudung</td>\n",
       "      <td>serudung</td>\n",
       "      <td>dudung@gmail.com</td>\n",
       "    </tr>\n",
       "    <tr>\n",
       "      <th>1</th>\n",
       "      <td>eman</td>\n",
       "      <td>suherman</td>\n",
       "      <td>emangnye@gmail.com</td>\n",
       "    </tr>\n",
       "    <tr>\n",
       "      <th>2</th>\n",
       "      <td>Bobi</td>\n",
       "      <td>Subobi</td>\n",
       "      <td>bobie2yahoo.com</td>\n",
       "    </tr>\n",
       "  </tbody>\n",
       "</table>\n",
       "</div>"
      ],
      "text/plain": [
       "    first      last               email\n",
       "0  dudung  serudung    dudung@gmail.com\n",
       "1    eman  suherman  emangnye@gmail.com\n",
       "2    Bobi    Subobi     bobie2yahoo.com"
      ]
     },
     "execution_count": 7,
     "metadata": {},
     "output_type": "execute_result"
    }
   ],
   "source": [
    "df"
   ]
  },
  {
   "cell_type": "markdown",
   "id": "faab92ed-b3b4-43f9-a178-2801f256642e",
   "metadata": {},
   "source": [
    "#### setelah kita buat data framenya, kita panggil misalnya untuk kolom email, misalnya"
   ]
  },
  {
   "cell_type": "code",
   "execution_count": 8,
   "id": "46ca4a16-3b45-4e64-96e5-e38c7bfff412",
   "metadata": {},
   "outputs": [
    {
     "data": {
      "text/plain": [
       "0      dudung@gmail.com\n",
       "1    emangnye@gmail.com\n",
       "2       bobie2yahoo.com\n",
       "Name: email, dtype: object"
      ]
     },
     "execution_count": 8,
     "metadata": {},
     "output_type": "execute_result"
    }
   ],
   "source": [
    "df['email']"
   ]
  },
  {
   "cell_type": "markdown",
   "id": "02602224-6d08-4247-9ddb-be2279f4306b",
   "metadata": {},
   "source": [
    "#### kalau kita periksa jenis dari kolom email diatas adalah suatu Series"
   ]
  },
  {
   "cell_type": "code",
   "execution_count": 9,
   "id": "3cf7fc79-da7c-4723-a1de-01cffdbc72cf",
   "metadata": {},
   "outputs": [
    {
     "data": {
      "text/plain": [
       "pandas.core.series.Series"
      ]
     },
     "execution_count": 9,
     "metadata": {},
     "output_type": "execute_result"
    }
   ],
   "source": [
    "type(df['email'])"
   ]
  },
  {
   "cell_type": "markdown",
   "id": "01dee945-3d5b-47cf-a4ce-5674ac9a0aab",
   "metadata": {},
   "source": [
    "#### Series adalah tipe data dalam pandas yang berbentuk seperti list,  data frame merupakan kontainer dari series object"
   ]
  },
  {
   "cell_type": "markdown",
   "id": "6fafae20-f7a3-4f3a-9ae1-310fce5b7d96",
   "metadata": {},
   "source": [
    "#### kita juga bisa memanggil series dari email dg cara lain"
   ]
  },
  {
   "cell_type": "code",
   "execution_count": 10,
   "id": "de798cc8-9aba-4ce3-b980-143651f120b8",
   "metadata": {},
   "outputs": [
    {
     "data": {
      "text/plain": [
       "0      dudung@gmail.com\n",
       "1    emangnye@gmail.com\n",
       "2       bobie2yahoo.com\n",
       "Name: email, dtype: object"
      ]
     },
     "execution_count": 10,
     "metadata": {},
     "output_type": "execute_result"
    }
   ],
   "source": [
    "df.email"
   ]
  },
  {
   "cell_type": "markdown",
   "id": "1df4d464-20d6-44cf-8834-a70e41af8997",
   "metadata": {},
   "source": [
    "#### akses ke multiple kolom"
   ]
  },
  {
   "cell_type": "code",
   "execution_count": 11,
   "id": "09f2288a-bb90-441f-ad0c-8dd9e8b3576c",
   "metadata": {},
   "outputs": [
    {
     "data": {
      "text/html": [
       "<div>\n",
       "<style scoped>\n",
       "    .dataframe tbody tr th:only-of-type {\n",
       "        vertical-align: middle;\n",
       "    }\n",
       "\n",
       "    .dataframe tbody tr th {\n",
       "        vertical-align: top;\n",
       "    }\n",
       "\n",
       "    .dataframe thead th {\n",
       "        text-align: right;\n",
       "    }\n",
       "</style>\n",
       "<table border=\"1\" class=\"dataframe\">\n",
       "  <thead>\n",
       "    <tr style=\"text-align: right;\">\n",
       "      <th></th>\n",
       "      <th>first</th>\n",
       "      <th>email</th>\n",
       "    </tr>\n",
       "  </thead>\n",
       "  <tbody>\n",
       "    <tr>\n",
       "      <th>0</th>\n",
       "      <td>dudung</td>\n",
       "      <td>dudung@gmail.com</td>\n",
       "    </tr>\n",
       "    <tr>\n",
       "      <th>1</th>\n",
       "      <td>eman</td>\n",
       "      <td>emangnye@gmail.com</td>\n",
       "    </tr>\n",
       "    <tr>\n",
       "      <th>2</th>\n",
       "      <td>Bobi</td>\n",
       "      <td>bobie2yahoo.com</td>\n",
       "    </tr>\n",
       "  </tbody>\n",
       "</table>\n",
       "</div>"
      ],
      "text/plain": [
       "    first               email\n",
       "0  dudung    dudung@gmail.com\n",
       "1    eman  emangnye@gmail.com\n",
       "2    Bobi     bobie2yahoo.com"
      ]
     },
     "execution_count": 11,
     "metadata": {},
     "output_type": "execute_result"
    }
   ],
   "source": [
    "df[['first','email']]"
   ]
  },
  {
   "cell_type": "code",
   "execution_count": 12,
   "id": "b60d06c2-24a9-4b24-b710-045d6b4f5857",
   "metadata": {},
   "outputs": [
    {
     "data": {
      "text/plain": [
       "pandas.core.frame.DataFrame"
      ]
     },
     "execution_count": 12,
     "metadata": {},
     "output_type": "execute_result"
    }
   ],
   "source": [
    "type(df[['first','email']])"
   ]
  },
  {
   "cell_type": "markdown",
   "id": "e293abee-ed09-47ef-a490-c25221eadf90",
   "metadata": {},
   "source": [
    "#### jadi series hanya untuk kolom tunggal, kalau kolomnya banyak akan bertipe data frame"
   ]
  },
  {
   "cell_type": "markdown",
   "id": "1dc60da3-e486-4259-8105-457605a5ca63",
   "metadata": {},
   "source": [
    "#### untuk melihat isi HEADER kolom"
   ]
  },
  {
   "cell_type": "code",
   "execution_count": 13,
   "id": "d3e52cf8-184d-439d-87fb-768a8ae45c31",
   "metadata": {},
   "outputs": [
    {
     "data": {
      "text/plain": [
       "Index(['first', 'last', 'email'], dtype='object')"
      ]
     },
     "execution_count": 13,
     "metadata": {},
     "output_type": "execute_result"
    }
   ],
   "source": [
    "df.columns"
   ]
  },
  {
   "cell_type": "markdown",
   "id": "40144af2-1074-43c7-9e8c-9d4a676d9118",
   "metadata": {},
   "source": [
    "#### untuk melihat Baris yg memiliki index 1"
   ]
  },
  {
   "cell_type": "code",
   "execution_count": 14,
   "id": "5060d1d2-bf8a-480d-af01-1e3ebfd66663",
   "metadata": {},
   "outputs": [
    {
     "data": {
      "text/plain": [
       "first                  eman\n",
       "last               suherman\n",
       "email    emangnye@gmail.com\n",
       "Name: 1, dtype: object"
      ]
     },
     "execution_count": 14,
     "metadata": {},
     "output_type": "execute_result"
    }
   ],
   "source": [
    "df.iloc[1]"
   ]
  },
  {
   "cell_type": "markdown",
   "id": "bd27c297-415f-4ef5-94df-ed165b628e33",
   "metadata": {},
   "source": [
    "#### untuk mengakses multiple baris"
   ]
  },
  {
   "cell_type": "code",
   "execution_count": 15,
   "id": "81ef9901-8f46-4ed8-8906-0dce175d3801",
   "metadata": {},
   "outputs": [
    {
     "data": {
      "text/html": [
       "<div>\n",
       "<style scoped>\n",
       "    .dataframe tbody tr th:only-of-type {\n",
       "        vertical-align: middle;\n",
       "    }\n",
       "\n",
       "    .dataframe tbody tr th {\n",
       "        vertical-align: top;\n",
       "    }\n",
       "\n",
       "    .dataframe thead th {\n",
       "        text-align: right;\n",
       "    }\n",
       "</style>\n",
       "<table border=\"1\" class=\"dataframe\">\n",
       "  <thead>\n",
       "    <tr style=\"text-align: right;\">\n",
       "      <th></th>\n",
       "      <th>first</th>\n",
       "      <th>last</th>\n",
       "      <th>email</th>\n",
       "    </tr>\n",
       "  </thead>\n",
       "  <tbody>\n",
       "    <tr>\n",
       "      <th>0</th>\n",
       "      <td>dudung</td>\n",
       "      <td>serudung</td>\n",
       "      <td>dudung@gmail.com</td>\n",
       "    </tr>\n",
       "    <tr>\n",
       "      <th>1</th>\n",
       "      <td>eman</td>\n",
       "      <td>suherman</td>\n",
       "      <td>emangnye@gmail.com</td>\n",
       "    </tr>\n",
       "  </tbody>\n",
       "</table>\n",
       "</div>"
      ],
      "text/plain": [
       "    first      last               email\n",
       "0  dudung  serudung    dudung@gmail.com\n",
       "1    eman  suherman  emangnye@gmail.com"
      ]
     },
     "execution_count": 15,
     "metadata": {},
     "output_type": "execute_result"
    }
   ],
   "source": [
    "df.iloc[[0,1]]"
   ]
  },
  {
   "cell_type": "markdown",
   "id": "36a5dc6d-10ed-4c2b-bc69-ec12f05d5ac4",
   "metadata": {},
   "source": [
    "#### jadi untuk mengakses kolom email dengan baris indeks ke 0, dan 2 saja misalnya"
   ]
  },
  {
   "cell_type": "code",
   "execution_count": 16,
   "id": "1a48172f-be2f-46b6-900a-15ea5e865c0e",
   "metadata": {},
   "outputs": [
    {
     "data": {
      "text/plain": [
       "0    dudung@gmail.com\n",
       "2     bobie2yahoo.com\n",
       "Name: email, dtype: object"
      ]
     },
     "execution_count": 16,
     "metadata": {},
     "output_type": "execute_result"
    }
   ],
   "source": [
    "df.iloc[[0,2],2]"
   ]
  },
  {
   "cell_type": "markdown",
   "id": "01acbc46-42b0-4809-a654-74ea02dd1b6f",
   "metadata": {},
   "source": [
    "#### jadi indeks 0,1,2, adalah index yang dimiliki oleh baris saja, "
   ]
  },
  {
   "cell_type": "markdown",
   "id": "ec978e81-4f55-46f6-a5ad-e888a9b792e6",
   "metadata": {},
   "source": [
    "#### jadi untuk melihat isi baris ke 1 dan 2, kita gunakan loc"
   ]
  },
  {
   "cell_type": "code",
   "execution_count": 17,
   "id": "e31ca903-71ce-4817-8490-342d4b479ebc",
   "metadata": {},
   "outputs": [
    {
     "data": {
      "text/html": [
       "<div>\n",
       "<style scoped>\n",
       "    .dataframe tbody tr th:only-of-type {\n",
       "        vertical-align: middle;\n",
       "    }\n",
       "\n",
       "    .dataframe tbody tr th {\n",
       "        vertical-align: top;\n",
       "    }\n",
       "\n",
       "    .dataframe thead th {\n",
       "        text-align: right;\n",
       "    }\n",
       "</style>\n",
       "<table border=\"1\" class=\"dataframe\">\n",
       "  <thead>\n",
       "    <tr style=\"text-align: right;\">\n",
       "      <th></th>\n",
       "      <th>first</th>\n",
       "      <th>last</th>\n",
       "      <th>email</th>\n",
       "    </tr>\n",
       "  </thead>\n",
       "  <tbody>\n",
       "    <tr>\n",
       "      <th>1</th>\n",
       "      <td>eman</td>\n",
       "      <td>suherman</td>\n",
       "      <td>emangnye@gmail.com</td>\n",
       "    </tr>\n",
       "    <tr>\n",
       "      <th>2</th>\n",
       "      <td>Bobi</td>\n",
       "      <td>Subobi</td>\n",
       "      <td>bobie2yahoo.com</td>\n",
       "    </tr>\n",
       "  </tbody>\n",
       "</table>\n",
       "</div>"
      ],
      "text/plain": [
       "  first      last               email\n",
       "1  eman  suherman  emangnye@gmail.com\n",
       "2  Bobi    Subobi     bobie2yahoo.com"
      ]
     },
     "execution_count": 17,
     "metadata": {},
     "output_type": "execute_result"
    }
   ],
   "source": [
    "df.loc[1:]"
   ]
  },
  {
   "cell_type": "markdown",
   "id": "9093e990-3757-4d59-a980-b5c05b377cb9",
   "metadata": {},
   "source": [
    "#### bisa juga untuk mengakses email dari baris indeks ke 1 dan 2 saja misalnya"
   ]
  },
  {
   "cell_type": "code",
   "execution_count": 23,
   "id": "77f96731-7fe4-49cc-b686-3029022ba0f0",
   "metadata": {},
   "outputs": [
    {
     "data": {
      "text/plain": [
       "0      dudung@gmail.com\n",
       "1    emangnye@gmail.com\n",
       "Name: email, dtype: object"
      ]
     },
     "execution_count": 23,
     "metadata": {},
     "output_type": "execute_result"
    }
   ],
   "source": [
    "df.loc[[0,1],'email']"
   ]
  },
  {
   "cell_type": "markdown",
   "id": "1783b5bd-ba8c-40eb-a913-e069dbcc4c7b",
   "metadata": {},
   "source": [
    "#### untuk menghasilkan BARIS ke 0 dan 1, dari kolom firs dan email adalah"
   ]
  },
  {
   "cell_type": "code",
   "execution_count": 26,
   "id": "89077a53-87e0-4126-9266-d270a9fb18ab",
   "metadata": {},
   "outputs": [
    {
     "data": {
      "text/html": [
       "<div>\n",
       "<style scoped>\n",
       "    .dataframe tbody tr th:only-of-type {\n",
       "        vertical-align: middle;\n",
       "    }\n",
       "\n",
       "    .dataframe tbody tr th {\n",
       "        vertical-align: top;\n",
       "    }\n",
       "\n",
       "    .dataframe thead th {\n",
       "        text-align: right;\n",
       "    }\n",
       "</style>\n",
       "<table border=\"1\" class=\"dataframe\">\n",
       "  <thead>\n",
       "    <tr style=\"text-align: right;\">\n",
       "      <th></th>\n",
       "      <th>first</th>\n",
       "      <th>email</th>\n",
       "    </tr>\n",
       "  </thead>\n",
       "  <tbody>\n",
       "    <tr>\n",
       "      <th>0</th>\n",
       "      <td>dudung</td>\n",
       "      <td>dudung@gmail.com</td>\n",
       "    </tr>\n",
       "    <tr>\n",
       "      <th>1</th>\n",
       "      <td>eman</td>\n",
       "      <td>emangnye@gmail.com</td>\n",
       "    </tr>\n",
       "  </tbody>\n",
       "</table>\n",
       "</div>"
      ],
      "text/plain": [
       "    first               email\n",
       "0  dudung    dudung@gmail.com\n",
       "1    eman  emangnye@gmail.com"
      ]
     },
     "execution_count": 26,
     "metadata": {},
     "output_type": "execute_result"
    }
   ],
   "source": [
    "df.loc[[0,1],['first','email']]"
   ]
  },
  {
   "cell_type": "markdown",
   "id": "eb6ffaf6-c966-49ed-baca-63629ee90cba",
   "metadata": {},
   "source": [
    "#### bisa juga ditukar nama kolom nya sbb"
   ]
  },
  {
   "cell_type": "code",
   "execution_count": 27,
   "id": "55b32fcf-b8d6-4e2c-9b00-6c41e71da672",
   "metadata": {},
   "outputs": [
    {
     "data": {
      "text/html": [
       "<div>\n",
       "<style scoped>\n",
       "    .dataframe tbody tr th:only-of-type {\n",
       "        vertical-align: middle;\n",
       "    }\n",
       "\n",
       "    .dataframe tbody tr th {\n",
       "        vertical-align: top;\n",
       "    }\n",
       "\n",
       "    .dataframe thead th {\n",
       "        text-align: right;\n",
       "    }\n",
       "</style>\n",
       "<table border=\"1\" class=\"dataframe\">\n",
       "  <thead>\n",
       "    <tr style=\"text-align: right;\">\n",
       "      <th></th>\n",
       "      <th>email</th>\n",
       "      <th>first</th>\n",
       "    </tr>\n",
       "  </thead>\n",
       "  <tbody>\n",
       "    <tr>\n",
       "      <th>0</th>\n",
       "      <td>dudung@gmail.com</td>\n",
       "      <td>dudung</td>\n",
       "    </tr>\n",
       "    <tr>\n",
       "      <th>1</th>\n",
       "      <td>emangnye@gmail.com</td>\n",
       "      <td>eman</td>\n",
       "    </tr>\n",
       "  </tbody>\n",
       "</table>\n",
       "</div>"
      ],
      "text/plain": [
       "                email   first\n",
       "0    dudung@gmail.com  dudung\n",
       "1  emangnye@gmail.com    eman"
      ]
     },
     "execution_count": 27,
     "metadata": {},
     "output_type": "execute_result"
    }
   ],
   "source": [
    "df.loc[[0,1],['email','first']]"
   ]
  },
  {
   "cell_type": "code",
   "execution_count": null,
   "id": "7d6f07f8-d173-4b01-a4f6-9c81795b729b",
   "metadata": {},
   "outputs": [],
   "source": []
  }
 ],
 "metadata": {
  "kernelspec": {
   "display_name": "Python 3 (ipykernel)",
   "language": "python",
   "name": "python3"
  },
  "language_info": {
   "codemirror_mode": {
    "name": "ipython",
    "version": 3
   },
   "file_extension": ".py",
   "mimetype": "text/x-python",
   "name": "python",
   "nbconvert_exporter": "python",
   "pygments_lexer": "ipython3",
   "version": "3.12.4"
  }
 },
 "nbformat": 4,
 "nbformat_minor": 5
}
