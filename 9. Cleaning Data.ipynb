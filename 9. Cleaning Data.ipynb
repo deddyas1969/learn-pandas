{
 "cells": [
  {
   "cell_type": "code",
   "execution_count": 1,
   "id": "c1ac1825-c3dc-42d3-bf7a-d05c30c4878f",
   "metadata": {},
   "outputs": [],
   "source": [
    "import pandas as pd"
   ]
  },
  {
   "cell_type": "code",
   "execution_count": 2,
   "id": "fa814d6f-90f6-4b0e-833d-19d90a745bba",
   "metadata": {},
   "outputs": [
    {
     "name": "stdout",
     "output_type": "stream",
     "text": [
      "Requirement already satisfied: numpy in d:\\anacondabaru\\lib\\site-packages (1.26.4)\n"
     ]
    }
   ],
   "source": [
    "!pip install numpy"
   ]
  },
  {
   "cell_type": "code",
   "execution_count": 3,
   "id": "7f71981e-2fd5-4c48-9843-4bf934079594",
   "metadata": {},
   "outputs": [],
   "source": [
    "import numpy as np"
   ]
  },
  {
   "cell_type": "code",
   "execution_count": 4,
   "id": "72657915-b21e-488b-83c6-1553bf39866a",
   "metadata": {},
   "outputs": [],
   "source": [
    " people = {\n",
    "    'first':['dudung','eman','Bobi','Saya', np.nan, None, 'NA'],\n",
    "    'last':['xuherman', 'guherman','dubobi','Kayaraya', np.nan, np.nan, 'Missing'],\n",
    "    'email':['dudung@gmail.com','emangnye@gmail.com','bobie2yahoo.com', None, np.nan, 'sayakayaraya@gmail.com', np.nan],\n",
    "     'age' : ['33', '55', '63', '36', None, None, 'Missing']\n",
    "}"
   ]
  },
  {
   "cell_type": "code",
   "execution_count": 5,
   "id": "58109167-6268-4405-b1b7-75f31dabb76c",
   "metadata": {},
   "outputs": [],
   "source": [
    "df = pd.DataFrame(people)"
   ]
  },
  {
   "cell_type": "code",
   "execution_count": 6,
   "id": "158e8b3f-8dd0-4503-93d8-1443d43dd4b8",
   "metadata": {},
   "outputs": [
    {
     "data": {
      "text/html": [
       "<div>\n",
       "<style scoped>\n",
       "    .dataframe tbody tr th:only-of-type {\n",
       "        vertical-align: middle;\n",
       "    }\n",
       "\n",
       "    .dataframe tbody tr th {\n",
       "        vertical-align: top;\n",
       "    }\n",
       "\n",
       "    .dataframe thead th {\n",
       "        text-align: right;\n",
       "    }\n",
       "</style>\n",
       "<table border=\"1\" class=\"dataframe\">\n",
       "  <thead>\n",
       "    <tr style=\"text-align: right;\">\n",
       "      <th></th>\n",
       "      <th>first</th>\n",
       "      <th>last</th>\n",
       "      <th>email</th>\n",
       "      <th>age</th>\n",
       "    </tr>\n",
       "  </thead>\n",
       "  <tbody>\n",
       "    <tr>\n",
       "      <th>0</th>\n",
       "      <td>dudung</td>\n",
       "      <td>xuherman</td>\n",
       "      <td>dudung@gmail.com</td>\n",
       "      <td>33</td>\n",
       "    </tr>\n",
       "    <tr>\n",
       "      <th>1</th>\n",
       "      <td>eman</td>\n",
       "      <td>guherman</td>\n",
       "      <td>emangnye@gmail.com</td>\n",
       "      <td>55</td>\n",
       "    </tr>\n",
       "    <tr>\n",
       "      <th>2</th>\n",
       "      <td>Bobi</td>\n",
       "      <td>dubobi</td>\n",
       "      <td>bobie2yahoo.com</td>\n",
       "      <td>63</td>\n",
       "    </tr>\n",
       "    <tr>\n",
       "      <th>3</th>\n",
       "      <td>Saya</td>\n",
       "      <td>Kayaraya</td>\n",
       "      <td>None</td>\n",
       "      <td>36</td>\n",
       "    </tr>\n",
       "    <tr>\n",
       "      <th>4</th>\n",
       "      <td>NaN</td>\n",
       "      <td>NaN</td>\n",
       "      <td>NaN</td>\n",
       "      <td>None</td>\n",
       "    </tr>\n",
       "    <tr>\n",
       "      <th>5</th>\n",
       "      <td>None</td>\n",
       "      <td>NaN</td>\n",
       "      <td>sayakayaraya@gmail.com</td>\n",
       "      <td>None</td>\n",
       "    </tr>\n",
       "    <tr>\n",
       "      <th>6</th>\n",
       "      <td>NA</td>\n",
       "      <td>Missing</td>\n",
       "      <td>NaN</td>\n",
       "      <td>Missing</td>\n",
       "    </tr>\n",
       "  </tbody>\n",
       "</table>\n",
       "</div>"
      ],
      "text/plain": [
       "    first      last                   email      age\n",
       "0  dudung  xuherman        dudung@gmail.com       33\n",
       "1    eman  guherman      emangnye@gmail.com       55\n",
       "2    Bobi    dubobi         bobie2yahoo.com       63\n",
       "3    Saya  Kayaraya                    None       36\n",
       "4     NaN       NaN                     NaN     None\n",
       "5    None       NaN  sayakayaraya@gmail.com     None\n",
       "6      NA   Missing                     NaN  Missing"
      ]
     },
     "execution_count": 6,
     "metadata": {},
     "output_type": "execute_result"
    }
   ],
   "source": [
    "df"
   ]
  },
  {
   "cell_type": "markdown",
   "id": "0c2e6f20-0060-474c-99f5-c89e3fdd46b2",
   "metadata": {},
   "source": [
    "#### Kita akan menghapus kolom berisi NaN"
   ]
  },
  {
   "cell_type": "code",
   "execution_count": 7,
   "id": "b850e698-7863-4c5c-91bf-4c2db3c74696",
   "metadata": {},
   "outputs": [
    {
     "data": {
      "text/html": [
       "<div>\n",
       "<style scoped>\n",
       "    .dataframe tbody tr th:only-of-type {\n",
       "        vertical-align: middle;\n",
       "    }\n",
       "\n",
       "    .dataframe tbody tr th {\n",
       "        vertical-align: top;\n",
       "    }\n",
       "\n",
       "    .dataframe thead th {\n",
       "        text-align: right;\n",
       "    }\n",
       "</style>\n",
       "<table border=\"1\" class=\"dataframe\">\n",
       "  <thead>\n",
       "    <tr style=\"text-align: right;\">\n",
       "      <th></th>\n",
       "      <th>first</th>\n",
       "      <th>last</th>\n",
       "      <th>email</th>\n",
       "      <th>age</th>\n",
       "    </tr>\n",
       "  </thead>\n",
       "  <tbody>\n",
       "    <tr>\n",
       "      <th>0</th>\n",
       "      <td>dudung</td>\n",
       "      <td>xuherman</td>\n",
       "      <td>dudung@gmail.com</td>\n",
       "      <td>33</td>\n",
       "    </tr>\n",
       "    <tr>\n",
       "      <th>1</th>\n",
       "      <td>eman</td>\n",
       "      <td>guherman</td>\n",
       "      <td>emangnye@gmail.com</td>\n",
       "      <td>55</td>\n",
       "    </tr>\n",
       "    <tr>\n",
       "      <th>2</th>\n",
       "      <td>Bobi</td>\n",
       "      <td>dubobi</td>\n",
       "      <td>bobie2yahoo.com</td>\n",
       "      <td>63</td>\n",
       "    </tr>\n",
       "  </tbody>\n",
       "</table>\n",
       "</div>"
      ],
      "text/plain": [
       "    first      last               email age\n",
       "0  dudung  xuherman    dudung@gmail.com  33\n",
       "1    eman  guherman  emangnye@gmail.com  55\n",
       "2    Bobi    dubobi     bobie2yahoo.com  63"
      ]
     },
     "execution_count": 7,
     "metadata": {},
     "output_type": "execute_result"
    }
   ],
   "source": [
    "df.dropna()"
   ]
  },
  {
   "cell_type": "code",
   "execution_count": 8,
   "id": "5a2fa9de-8a00-4497-a2d7-bcd0d081e912",
   "metadata": {},
   "outputs": [
    {
     "data": {
      "text/html": [
       "<div>\n",
       "<style scoped>\n",
       "    .dataframe tbody tr th:only-of-type {\n",
       "        vertical-align: middle;\n",
       "    }\n",
       "\n",
       "    .dataframe tbody tr th {\n",
       "        vertical-align: top;\n",
       "    }\n",
       "\n",
       "    .dataframe thead th {\n",
       "        text-align: right;\n",
       "    }\n",
       "</style>\n",
       "<table border=\"1\" class=\"dataframe\">\n",
       "  <thead>\n",
       "    <tr style=\"text-align: right;\">\n",
       "      <th></th>\n",
       "      <th>first</th>\n",
       "      <th>last</th>\n",
       "      <th>email</th>\n",
       "      <th>age</th>\n",
       "    </tr>\n",
       "  </thead>\n",
       "  <tbody>\n",
       "    <tr>\n",
       "      <th>0</th>\n",
       "      <td>dudung</td>\n",
       "      <td>xuherman</td>\n",
       "      <td>dudung@gmail.com</td>\n",
       "      <td>33</td>\n",
       "    </tr>\n",
       "    <tr>\n",
       "      <th>1</th>\n",
       "      <td>eman</td>\n",
       "      <td>guherman</td>\n",
       "      <td>emangnye@gmail.com</td>\n",
       "      <td>55</td>\n",
       "    </tr>\n",
       "    <tr>\n",
       "      <th>2</th>\n",
       "      <td>Bobi</td>\n",
       "      <td>dubobi</td>\n",
       "      <td>bobie2yahoo.com</td>\n",
       "      <td>63</td>\n",
       "    </tr>\n",
       "    <tr>\n",
       "      <th>3</th>\n",
       "      <td>Saya</td>\n",
       "      <td>Kayaraya</td>\n",
       "      <td>None</td>\n",
       "      <td>36</td>\n",
       "    </tr>\n",
       "    <tr>\n",
       "      <th>4</th>\n",
       "      <td>NaN</td>\n",
       "      <td>NaN</td>\n",
       "      <td>NaN</td>\n",
       "      <td>None</td>\n",
       "    </tr>\n",
       "    <tr>\n",
       "      <th>5</th>\n",
       "      <td>None</td>\n",
       "      <td>NaN</td>\n",
       "      <td>sayakayaraya@gmail.com</td>\n",
       "      <td>None</td>\n",
       "    </tr>\n",
       "    <tr>\n",
       "      <th>6</th>\n",
       "      <td>NA</td>\n",
       "      <td>Missing</td>\n",
       "      <td>NaN</td>\n",
       "      <td>Missing</td>\n",
       "    </tr>\n",
       "  </tbody>\n",
       "</table>\n",
       "</div>"
      ],
      "text/plain": [
       "    first      last                   email      age\n",
       "0  dudung  xuherman        dudung@gmail.com       33\n",
       "1    eman  guherman      emangnye@gmail.com       55\n",
       "2    Bobi    dubobi         bobie2yahoo.com       63\n",
       "3    Saya  Kayaraya                    None       36\n",
       "4     NaN       NaN                     NaN     None\n",
       "5    None       NaN  sayakayaraya@gmail.com     None\n",
       "6      NA   Missing                     NaN  Missing"
      ]
     },
     "execution_count": 8,
     "metadata": {},
     "output_type": "execute_result"
    }
   ],
   "source": [
    "df"
   ]
  },
  {
   "cell_type": "markdown",
   "id": "ab6fa542-473d-4efe-9bd0-dded2798802b",
   "metadata": {},
   "source": [
    "#### menghapus yang semua kolom nya NaN seperti di baris ke 4, kalau yg NaN hanya di satu kolom, maka tidak akan terhapus"
   ]
  },
  {
   "cell_type": "code",
   "execution_count": 9,
   "id": "c1000326-bece-4f95-ac94-5b8e8d97e99b",
   "metadata": {},
   "outputs": [
    {
     "data": {
      "text/html": [
       "<div>\n",
       "<style scoped>\n",
       "    .dataframe tbody tr th:only-of-type {\n",
       "        vertical-align: middle;\n",
       "    }\n",
       "\n",
       "    .dataframe tbody tr th {\n",
       "        vertical-align: top;\n",
       "    }\n",
       "\n",
       "    .dataframe thead th {\n",
       "        text-align: right;\n",
       "    }\n",
       "</style>\n",
       "<table border=\"1\" class=\"dataframe\">\n",
       "  <thead>\n",
       "    <tr style=\"text-align: right;\">\n",
       "      <th></th>\n",
       "      <th>first</th>\n",
       "      <th>last</th>\n",
       "      <th>email</th>\n",
       "      <th>age</th>\n",
       "    </tr>\n",
       "  </thead>\n",
       "  <tbody>\n",
       "    <tr>\n",
       "      <th>0</th>\n",
       "      <td>dudung</td>\n",
       "      <td>xuherman</td>\n",
       "      <td>dudung@gmail.com</td>\n",
       "      <td>33</td>\n",
       "    </tr>\n",
       "    <tr>\n",
       "      <th>1</th>\n",
       "      <td>eman</td>\n",
       "      <td>guherman</td>\n",
       "      <td>emangnye@gmail.com</td>\n",
       "      <td>55</td>\n",
       "    </tr>\n",
       "    <tr>\n",
       "      <th>2</th>\n",
       "      <td>Bobi</td>\n",
       "      <td>dubobi</td>\n",
       "      <td>bobie2yahoo.com</td>\n",
       "      <td>63</td>\n",
       "    </tr>\n",
       "    <tr>\n",
       "      <th>3</th>\n",
       "      <td>Saya</td>\n",
       "      <td>Kayaraya</td>\n",
       "      <td>None</td>\n",
       "      <td>36</td>\n",
       "    </tr>\n",
       "    <tr>\n",
       "      <th>5</th>\n",
       "      <td>None</td>\n",
       "      <td>NaN</td>\n",
       "      <td>sayakayaraya@gmail.com</td>\n",
       "      <td>None</td>\n",
       "    </tr>\n",
       "    <tr>\n",
       "      <th>6</th>\n",
       "      <td>NA</td>\n",
       "      <td>Missing</td>\n",
       "      <td>NaN</td>\n",
       "      <td>Missing</td>\n",
       "    </tr>\n",
       "  </tbody>\n",
       "</table>\n",
       "</div>"
      ],
      "text/plain": [
       "    first      last                   email      age\n",
       "0  dudung  xuherman        dudung@gmail.com       33\n",
       "1    eman  guherman      emangnye@gmail.com       55\n",
       "2    Bobi    dubobi         bobie2yahoo.com       63\n",
       "3    Saya  Kayaraya                    None       36\n",
       "5    None       NaN  sayakayaraya@gmail.com     None\n",
       "6      NA   Missing                     NaN  Missing"
      ]
     },
     "execution_count": 9,
     "metadata": {},
     "output_type": "execute_result"
    }
   ],
   "source": [
    "df.dropna(axis='index', how='all')"
   ]
  },
  {
   "cell_type": "markdown",
   "id": "4e25e2d4-bafe-4703-ad75-8a06e40f4411",
   "metadata": {},
   "source": [
    "#### pelajaran ttg axis"
   ]
  },
  {
   "cell_type": "code",
   "execution_count": 10,
   "id": "c2375179-0be4-49fd-8ea8-aefb3e227980",
   "metadata": {},
   "outputs": [
    {
     "name": "stderr",
     "output_type": "stream",
     "text": [
      "'[image.png]' is not recognized as an internal or external command,\n",
      "operable program or batch file.\n"
     ]
    }
   ],
   "source": [
    "![image.png](attachment:0d092bc2-2b09-4adf-b021-90df31c7cc38.png)"
   ]
  },
  {
   "cell_type": "markdown",
   "id": "bd356c2c-30c2-41be-9acd-df5c004eb7ab",
   "metadata": {},
   "source": [
    "ini link nya"
   ]
  },
  {
   "cell_type": "markdown",
   "id": "58746e2f-c8f0-421a-935e-7928849dbe91",
   "metadata": {},
   "source": [
    "https://stackoverflow.com/questions/22149584/what-does-axis-in-pandas-mean"
   ]
  },
  {
   "cell_type": "code",
   "execution_count": 11,
   "id": "19c509ca-f2ee-419b-ac5b-fd1b0e8f096e",
   "metadata": {},
   "outputs": [
    {
     "data": {
      "text/html": [
       "<div>\n",
       "<style scoped>\n",
       "    .dataframe tbody tr th:only-of-type {\n",
       "        vertical-align: middle;\n",
       "    }\n",
       "\n",
       "    .dataframe tbody tr th {\n",
       "        vertical-align: top;\n",
       "    }\n",
       "\n",
       "    .dataframe thead th {\n",
       "        text-align: right;\n",
       "    }\n",
       "</style>\n",
       "<table border=\"1\" class=\"dataframe\">\n",
       "  <thead>\n",
       "    <tr style=\"text-align: right;\">\n",
       "      <th></th>\n",
       "      <th>first</th>\n",
       "      <th>last</th>\n",
       "      <th>email</th>\n",
       "      <th>age</th>\n",
       "    </tr>\n",
       "  </thead>\n",
       "  <tbody>\n",
       "    <tr>\n",
       "      <th>0</th>\n",
       "      <td>dudung</td>\n",
       "      <td>xuherman</td>\n",
       "      <td>dudung@gmail.com</td>\n",
       "      <td>33</td>\n",
       "    </tr>\n",
       "    <tr>\n",
       "      <th>1</th>\n",
       "      <td>eman</td>\n",
       "      <td>guherman</td>\n",
       "      <td>emangnye@gmail.com</td>\n",
       "      <td>55</td>\n",
       "    </tr>\n",
       "    <tr>\n",
       "      <th>2</th>\n",
       "      <td>Bobi</td>\n",
       "      <td>dubobi</td>\n",
       "      <td>bobie2yahoo.com</td>\n",
       "      <td>63</td>\n",
       "    </tr>\n",
       "    <tr>\n",
       "      <th>3</th>\n",
       "      <td>Saya</td>\n",
       "      <td>Kayaraya</td>\n",
       "      <td>None</td>\n",
       "      <td>36</td>\n",
       "    </tr>\n",
       "    <tr>\n",
       "      <th>4</th>\n",
       "      <td>NaN</td>\n",
       "      <td>NaN</td>\n",
       "      <td>NaN</td>\n",
       "      <td>None</td>\n",
       "    </tr>\n",
       "    <tr>\n",
       "      <th>5</th>\n",
       "      <td>None</td>\n",
       "      <td>NaN</td>\n",
       "      <td>sayakayaraya@gmail.com</td>\n",
       "      <td>None</td>\n",
       "    </tr>\n",
       "    <tr>\n",
       "      <th>6</th>\n",
       "      <td>NA</td>\n",
       "      <td>Missing</td>\n",
       "      <td>NaN</td>\n",
       "      <td>Missing</td>\n",
       "    </tr>\n",
       "  </tbody>\n",
       "</table>\n",
       "</div>"
      ],
      "text/plain": [
       "    first      last                   email      age\n",
       "0  dudung  xuherman        dudung@gmail.com       33\n",
       "1    eman  guherman      emangnye@gmail.com       55\n",
       "2    Bobi    dubobi         bobie2yahoo.com       63\n",
       "3    Saya  Kayaraya                    None       36\n",
       "4     NaN       NaN                     NaN     None\n",
       "5    None       NaN  sayakayaraya@gmail.com     None\n",
       "6      NA   Missing                     NaN  Missing"
      ]
     },
     "execution_count": 11,
     "metadata": {},
     "output_type": "execute_result"
    }
   ],
   "source": [
    "df"
   ]
  },
  {
   "cell_type": "markdown",
   "id": "41f2da08-926e-41ec-b17c-6a0d88bfc5ed",
   "metadata": {},
   "source": [
    "#### Menghapus yang NaN nya ada di kolom tertentu, dalam hal ini kolom email"
   ]
  },
  {
   "cell_type": "code",
   "execution_count": 12,
   "id": "16737a5f-188f-465b-a6bc-76d0a2026052",
   "metadata": {},
   "outputs": [
    {
     "data": {
      "text/html": [
       "<div>\n",
       "<style scoped>\n",
       "    .dataframe tbody tr th:only-of-type {\n",
       "        vertical-align: middle;\n",
       "    }\n",
       "\n",
       "    .dataframe tbody tr th {\n",
       "        vertical-align: top;\n",
       "    }\n",
       "\n",
       "    .dataframe thead th {\n",
       "        text-align: right;\n",
       "    }\n",
       "</style>\n",
       "<table border=\"1\" class=\"dataframe\">\n",
       "  <thead>\n",
       "    <tr style=\"text-align: right;\">\n",
       "      <th></th>\n",
       "      <th>first</th>\n",
       "      <th>last</th>\n",
       "      <th>email</th>\n",
       "      <th>age</th>\n",
       "    </tr>\n",
       "  </thead>\n",
       "  <tbody>\n",
       "    <tr>\n",
       "      <th>0</th>\n",
       "      <td>dudung</td>\n",
       "      <td>xuherman</td>\n",
       "      <td>dudung@gmail.com</td>\n",
       "      <td>33</td>\n",
       "    </tr>\n",
       "    <tr>\n",
       "      <th>1</th>\n",
       "      <td>eman</td>\n",
       "      <td>guherman</td>\n",
       "      <td>emangnye@gmail.com</td>\n",
       "      <td>55</td>\n",
       "    </tr>\n",
       "    <tr>\n",
       "      <th>2</th>\n",
       "      <td>Bobi</td>\n",
       "      <td>dubobi</td>\n",
       "      <td>bobie2yahoo.com</td>\n",
       "      <td>63</td>\n",
       "    </tr>\n",
       "    <tr>\n",
       "      <th>5</th>\n",
       "      <td>None</td>\n",
       "      <td>NaN</td>\n",
       "      <td>sayakayaraya@gmail.com</td>\n",
       "      <td>None</td>\n",
       "    </tr>\n",
       "  </tbody>\n",
       "</table>\n",
       "</div>"
      ],
      "text/plain": [
       "    first      last                   email   age\n",
       "0  dudung  xuherman        dudung@gmail.com    33\n",
       "1    eman  guherman      emangnye@gmail.com    55\n",
       "2    Bobi    dubobi         bobie2yahoo.com    63\n",
       "5    None       NaN  sayakayaraya@gmail.com  None"
      ]
     },
     "execution_count": 12,
     "metadata": {},
     "output_type": "execute_result"
    }
   ],
   "source": [
    "df.dropna(axis='index',how='any', subset=['email'])"
   ]
  },
  {
   "cell_type": "markdown",
   "id": "dc4773f4-4c81-4465-91ed-805ec9dbddeb",
   "metadata": {},
   "source": [
    "#### Kita ke data lagi"
   ]
  },
  {
   "cell_type": "code",
   "execution_count": 13,
   "id": "fd321e04-0957-44d7-afda-996d28ea8d07",
   "metadata": {},
   "outputs": [
    {
     "data": {
      "text/html": [
       "<div>\n",
       "<style scoped>\n",
       "    .dataframe tbody tr th:only-of-type {\n",
       "        vertical-align: middle;\n",
       "    }\n",
       "\n",
       "    .dataframe tbody tr th {\n",
       "        vertical-align: top;\n",
       "    }\n",
       "\n",
       "    .dataframe thead th {\n",
       "        text-align: right;\n",
       "    }\n",
       "</style>\n",
       "<table border=\"1\" class=\"dataframe\">\n",
       "  <thead>\n",
       "    <tr style=\"text-align: right;\">\n",
       "      <th></th>\n",
       "      <th>first</th>\n",
       "      <th>last</th>\n",
       "      <th>email</th>\n",
       "      <th>age</th>\n",
       "    </tr>\n",
       "  </thead>\n",
       "  <tbody>\n",
       "    <tr>\n",
       "      <th>0</th>\n",
       "      <td>dudung</td>\n",
       "      <td>xuherman</td>\n",
       "      <td>dudung@gmail.com</td>\n",
       "      <td>33</td>\n",
       "    </tr>\n",
       "    <tr>\n",
       "      <th>1</th>\n",
       "      <td>eman</td>\n",
       "      <td>guherman</td>\n",
       "      <td>emangnye@gmail.com</td>\n",
       "      <td>55</td>\n",
       "    </tr>\n",
       "    <tr>\n",
       "      <th>2</th>\n",
       "      <td>Bobi</td>\n",
       "      <td>dubobi</td>\n",
       "      <td>bobie2yahoo.com</td>\n",
       "      <td>63</td>\n",
       "    </tr>\n",
       "    <tr>\n",
       "      <th>3</th>\n",
       "      <td>Saya</td>\n",
       "      <td>Kayaraya</td>\n",
       "      <td>None</td>\n",
       "      <td>36</td>\n",
       "    </tr>\n",
       "    <tr>\n",
       "      <th>4</th>\n",
       "      <td>NaN</td>\n",
       "      <td>NaN</td>\n",
       "      <td>NaN</td>\n",
       "      <td>None</td>\n",
       "    </tr>\n",
       "    <tr>\n",
       "      <th>5</th>\n",
       "      <td>None</td>\n",
       "      <td>NaN</td>\n",
       "      <td>sayakayaraya@gmail.com</td>\n",
       "      <td>None</td>\n",
       "    </tr>\n",
       "    <tr>\n",
       "      <th>6</th>\n",
       "      <td>NA</td>\n",
       "      <td>Missing</td>\n",
       "      <td>NaN</td>\n",
       "      <td>Missing</td>\n",
       "    </tr>\n",
       "  </tbody>\n",
       "</table>\n",
       "</div>"
      ],
      "text/plain": [
       "    first      last                   email      age\n",
       "0  dudung  xuherman        dudung@gmail.com       33\n",
       "1    eman  guherman      emangnye@gmail.com       55\n",
       "2    Bobi    dubobi         bobie2yahoo.com       63\n",
       "3    Saya  Kayaraya                    None       36\n",
       "4     NaN       NaN                     NaN     None\n",
       "5    None       NaN  sayakayaraya@gmail.com     None\n",
       "6      NA   Missing                     NaN  Missing"
      ]
     },
     "execution_count": 13,
     "metadata": {},
     "output_type": "execute_result"
    }
   ],
   "source": [
    "df"
   ]
  },
  {
   "cell_type": "markdown",
   "id": "ceb21e10-3264-4c3c-9823-e5d673b7c2c7",
   "metadata": {},
   "source": [
    "#### Kita ingin menghapus NaN yang ada di 2 kolom yaitu last dan email"
   ]
  },
  {
   "cell_type": "code",
   "execution_count": 14,
   "id": "8b0fd0f2-d9a7-49d1-af0c-a7f22183f631",
   "metadata": {},
   "outputs": [
    {
     "data": {
      "text/html": [
       "<div>\n",
       "<style scoped>\n",
       "    .dataframe tbody tr th:only-of-type {\n",
       "        vertical-align: middle;\n",
       "    }\n",
       "\n",
       "    .dataframe tbody tr th {\n",
       "        vertical-align: top;\n",
       "    }\n",
       "\n",
       "    .dataframe thead th {\n",
       "        text-align: right;\n",
       "    }\n",
       "</style>\n",
       "<table border=\"1\" class=\"dataframe\">\n",
       "  <thead>\n",
       "    <tr style=\"text-align: right;\">\n",
       "      <th></th>\n",
       "      <th>first</th>\n",
       "      <th>last</th>\n",
       "      <th>email</th>\n",
       "      <th>age</th>\n",
       "    </tr>\n",
       "  </thead>\n",
       "  <tbody>\n",
       "    <tr>\n",
       "      <th>0</th>\n",
       "      <td>dudung</td>\n",
       "      <td>xuherman</td>\n",
       "      <td>dudung@gmail.com</td>\n",
       "      <td>33</td>\n",
       "    </tr>\n",
       "    <tr>\n",
       "      <th>1</th>\n",
       "      <td>eman</td>\n",
       "      <td>guherman</td>\n",
       "      <td>emangnye@gmail.com</td>\n",
       "      <td>55</td>\n",
       "    </tr>\n",
       "    <tr>\n",
       "      <th>2</th>\n",
       "      <td>Bobi</td>\n",
       "      <td>dubobi</td>\n",
       "      <td>bobie2yahoo.com</td>\n",
       "      <td>63</td>\n",
       "    </tr>\n",
       "    <tr>\n",
       "      <th>3</th>\n",
       "      <td>Saya</td>\n",
       "      <td>Kayaraya</td>\n",
       "      <td>None</td>\n",
       "      <td>36</td>\n",
       "    </tr>\n",
       "    <tr>\n",
       "      <th>5</th>\n",
       "      <td>None</td>\n",
       "      <td>NaN</td>\n",
       "      <td>sayakayaraya@gmail.com</td>\n",
       "      <td>None</td>\n",
       "    </tr>\n",
       "    <tr>\n",
       "      <th>6</th>\n",
       "      <td>NA</td>\n",
       "      <td>Missing</td>\n",
       "      <td>NaN</td>\n",
       "      <td>Missing</td>\n",
       "    </tr>\n",
       "  </tbody>\n",
       "</table>\n",
       "</div>"
      ],
      "text/plain": [
       "    first      last                   email      age\n",
       "0  dudung  xuherman        dudung@gmail.com       33\n",
       "1    eman  guherman      emangnye@gmail.com       55\n",
       "2    Bobi    dubobi         bobie2yahoo.com       63\n",
       "3    Saya  Kayaraya                    None       36\n",
       "5    None       NaN  sayakayaraya@gmail.com     None\n",
       "6      NA   Missing                     NaN  Missing"
      ]
     },
     "execution_count": 14,
     "metadata": {},
     "output_type": "execute_result"
    }
   ],
   "source": [
    "df.dropna(axis='index', how='all',subset=['last','email'])"
   ]
  },
  {
   "cell_type": "markdown",
   "id": "357003ca-efb6-4d22-a522-cf1f7d8ba880",
   "metadata": {},
   "source": [
    "#### Hasilnya baris ke 4 & 6 terhapus karena memiliki NaN dan Missing di ke 2 kolomnya"
   ]
  },
  {
   "cell_type": "markdown",
   "id": "dc73b0cf-6e69-4b42-b27c-8c2ca78c2f1d",
   "metadata": {},
   "source": [
    "#### Kita kembali ke tabel semula"
   ]
  },
  {
   "cell_type": "code",
   "execution_count": 15,
   "id": "f89669d9-f10d-4f51-a3e0-a45c4c7b699f",
   "metadata": {},
   "outputs": [
    {
     "data": {
      "text/html": [
       "<div>\n",
       "<style scoped>\n",
       "    .dataframe tbody tr th:only-of-type {\n",
       "        vertical-align: middle;\n",
       "    }\n",
       "\n",
       "    .dataframe tbody tr th {\n",
       "        vertical-align: top;\n",
       "    }\n",
       "\n",
       "    .dataframe thead th {\n",
       "        text-align: right;\n",
       "    }\n",
       "</style>\n",
       "<table border=\"1\" class=\"dataframe\">\n",
       "  <thead>\n",
       "    <tr style=\"text-align: right;\">\n",
       "      <th></th>\n",
       "      <th>first</th>\n",
       "      <th>last</th>\n",
       "      <th>email</th>\n",
       "      <th>age</th>\n",
       "    </tr>\n",
       "  </thead>\n",
       "  <tbody>\n",
       "    <tr>\n",
       "      <th>0</th>\n",
       "      <td>dudung</td>\n",
       "      <td>xuherman</td>\n",
       "      <td>dudung@gmail.com</td>\n",
       "      <td>33</td>\n",
       "    </tr>\n",
       "    <tr>\n",
       "      <th>1</th>\n",
       "      <td>eman</td>\n",
       "      <td>guherman</td>\n",
       "      <td>emangnye@gmail.com</td>\n",
       "      <td>55</td>\n",
       "    </tr>\n",
       "    <tr>\n",
       "      <th>2</th>\n",
       "      <td>Bobi</td>\n",
       "      <td>dubobi</td>\n",
       "      <td>bobie2yahoo.com</td>\n",
       "      <td>63</td>\n",
       "    </tr>\n",
       "    <tr>\n",
       "      <th>3</th>\n",
       "      <td>Saya</td>\n",
       "      <td>Kayaraya</td>\n",
       "      <td>None</td>\n",
       "      <td>36</td>\n",
       "    </tr>\n",
       "    <tr>\n",
       "      <th>4</th>\n",
       "      <td>NaN</td>\n",
       "      <td>NaN</td>\n",
       "      <td>NaN</td>\n",
       "      <td>None</td>\n",
       "    </tr>\n",
       "    <tr>\n",
       "      <th>5</th>\n",
       "      <td>None</td>\n",
       "      <td>NaN</td>\n",
       "      <td>sayakayaraya@gmail.com</td>\n",
       "      <td>None</td>\n",
       "    </tr>\n",
       "    <tr>\n",
       "      <th>6</th>\n",
       "      <td>NA</td>\n",
       "      <td>Missing</td>\n",
       "      <td>NaN</td>\n",
       "      <td>Missing</td>\n",
       "    </tr>\n",
       "  </tbody>\n",
       "</table>\n",
       "</div>"
      ],
      "text/plain": [
       "    first      last                   email      age\n",
       "0  dudung  xuherman        dudung@gmail.com       33\n",
       "1    eman  guherman      emangnye@gmail.com       55\n",
       "2    Bobi    dubobi         bobie2yahoo.com       63\n",
       "3    Saya  Kayaraya                    None       36\n",
       "4     NaN       NaN                     NaN     None\n",
       "5    None       NaN  sayakayaraya@gmail.com     None\n",
       "6      NA   Missing                     NaN  Missing"
      ]
     },
     "execution_count": 15,
     "metadata": {},
     "output_type": "execute_result"
    }
   ],
   "source": [
    "df"
   ]
  },
  {
   "cell_type": "markdown",
   "id": "13faf3dd-6850-49a7-ba2f-7e658a02ecad",
   "metadata": {},
   "source": [
    "#### jadi sebaiknya kita ubah dulu kolom yang berisi NA dan missing"
   ]
  },
  {
   "cell_type": "code",
   "execution_count": 16,
   "id": "c637c93d-c954-4d8a-a0c9-6c49313d8b28",
   "metadata": {},
   "outputs": [
    {
     "data": {
      "text/html": [
       "<div>\n",
       "<style scoped>\n",
       "    .dataframe tbody tr th:only-of-type {\n",
       "        vertical-align: middle;\n",
       "    }\n",
       "\n",
       "    .dataframe tbody tr th {\n",
       "        vertical-align: top;\n",
       "    }\n",
       "\n",
       "    .dataframe thead th {\n",
       "        text-align: right;\n",
       "    }\n",
       "</style>\n",
       "<table border=\"1\" class=\"dataframe\">\n",
       "  <thead>\n",
       "    <tr style=\"text-align: right;\">\n",
       "      <th></th>\n",
       "      <th>first</th>\n",
       "      <th>last</th>\n",
       "      <th>email</th>\n",
       "      <th>age</th>\n",
       "    </tr>\n",
       "  </thead>\n",
       "  <tbody>\n",
       "    <tr>\n",
       "      <th>0</th>\n",
       "      <td>dudung</td>\n",
       "      <td>xuherman</td>\n",
       "      <td>dudung@gmail.com</td>\n",
       "      <td>33</td>\n",
       "    </tr>\n",
       "    <tr>\n",
       "      <th>1</th>\n",
       "      <td>eman</td>\n",
       "      <td>guherman</td>\n",
       "      <td>emangnye@gmail.com</td>\n",
       "      <td>55</td>\n",
       "    </tr>\n",
       "    <tr>\n",
       "      <th>2</th>\n",
       "      <td>Bobi</td>\n",
       "      <td>dubobi</td>\n",
       "      <td>bobie2yahoo.com</td>\n",
       "      <td>63</td>\n",
       "    </tr>\n",
       "    <tr>\n",
       "      <th>3</th>\n",
       "      <td>Saya</td>\n",
       "      <td>Kayaraya</td>\n",
       "      <td>None</td>\n",
       "      <td>36</td>\n",
       "    </tr>\n",
       "    <tr>\n",
       "      <th>4</th>\n",
       "      <td>NaN</td>\n",
       "      <td>NaN</td>\n",
       "      <td>NaN</td>\n",
       "      <td>None</td>\n",
       "    </tr>\n",
       "    <tr>\n",
       "      <th>5</th>\n",
       "      <td>None</td>\n",
       "      <td>NaN</td>\n",
       "      <td>sayakayaraya@gmail.com</td>\n",
       "      <td>None</td>\n",
       "    </tr>\n",
       "    <tr>\n",
       "      <th>6</th>\n",
       "      <td>NaN</td>\n",
       "      <td>NaN</td>\n",
       "      <td>NaN</td>\n",
       "      <td>NaN</td>\n",
       "    </tr>\n",
       "  </tbody>\n",
       "</table>\n",
       "</div>"
      ],
      "text/plain": [
       "    first      last                   email   age\n",
       "0  dudung  xuherman        dudung@gmail.com    33\n",
       "1    eman  guherman      emangnye@gmail.com    55\n",
       "2    Bobi    dubobi         bobie2yahoo.com    63\n",
       "3    Saya  Kayaraya                    None    36\n",
       "4     NaN       NaN                     NaN  None\n",
       "5    None       NaN  sayakayaraya@gmail.com  None\n",
       "6     NaN       NaN                     NaN   NaN"
      ]
     },
     "execution_count": 16,
     "metadata": {},
     "output_type": "execute_result"
    }
   ],
   "source": [
    "df.replace('NA',np.nan, inplace=True)\n",
    "df.replace('Missing',np.nan, inplace=True)\n",
    "df"
   ]
  },
  {
   "cell_type": "markdown",
   "id": "738d024d-af87-47a4-b526-9e5c54f3f7be",
   "metadata": {},
   "source": [
    "#### kita ulang langkah di atas (ke 7)  dg dropna()"
   ]
  },
  {
   "cell_type": "code",
   "execution_count": 17,
   "id": "107971d0-a443-4807-8d9f-70d299a7b223",
   "metadata": {},
   "outputs": [
    {
     "data": {
      "text/html": [
       "<div>\n",
       "<style scoped>\n",
       "    .dataframe tbody tr th:only-of-type {\n",
       "        vertical-align: middle;\n",
       "    }\n",
       "\n",
       "    .dataframe tbody tr th {\n",
       "        vertical-align: top;\n",
       "    }\n",
       "\n",
       "    .dataframe thead th {\n",
       "        text-align: right;\n",
       "    }\n",
       "</style>\n",
       "<table border=\"1\" class=\"dataframe\">\n",
       "  <thead>\n",
       "    <tr style=\"text-align: right;\">\n",
       "      <th></th>\n",
       "      <th>first</th>\n",
       "      <th>last</th>\n",
       "      <th>email</th>\n",
       "      <th>age</th>\n",
       "    </tr>\n",
       "  </thead>\n",
       "  <tbody>\n",
       "    <tr>\n",
       "      <th>0</th>\n",
       "      <td>dudung</td>\n",
       "      <td>xuherman</td>\n",
       "      <td>dudung@gmail.com</td>\n",
       "      <td>33</td>\n",
       "    </tr>\n",
       "    <tr>\n",
       "      <th>1</th>\n",
       "      <td>eman</td>\n",
       "      <td>guherman</td>\n",
       "      <td>emangnye@gmail.com</td>\n",
       "      <td>55</td>\n",
       "    </tr>\n",
       "    <tr>\n",
       "      <th>2</th>\n",
       "      <td>Bobi</td>\n",
       "      <td>dubobi</td>\n",
       "      <td>bobie2yahoo.com</td>\n",
       "      <td>63</td>\n",
       "    </tr>\n",
       "  </tbody>\n",
       "</table>\n",
       "</div>"
      ],
      "text/plain": [
       "    first      last               email age\n",
       "0  dudung  xuherman    dudung@gmail.com  33\n",
       "1    eman  guherman  emangnye@gmail.com  55\n",
       "2    Bobi    dubobi     bobie2yahoo.com  63"
      ]
     },
     "execution_count": 17,
     "metadata": {},
     "output_type": "execute_result"
    }
   ],
   "source": [
    "df.dropna()"
   ]
  },
  {
   "cell_type": "markdown",
   "id": "d06addcf-15f7-4f52-a6cb-d84ff44f788e",
   "metadata": {},
   "source": [
    "#### Hasilnya sama sih dengan output di baris ke 8"
   ]
  },
  {
   "cell_type": "code",
   "execution_count": 18,
   "id": "d7e78c56-70a3-4691-9e5d-558287ec752a",
   "metadata": {},
   "outputs": [
    {
     "data": {
      "text/html": [
       "<div>\n",
       "<style scoped>\n",
       "    .dataframe tbody tr th:only-of-type {\n",
       "        vertical-align: middle;\n",
       "    }\n",
       "\n",
       "    .dataframe tbody tr th {\n",
       "        vertical-align: top;\n",
       "    }\n",
       "\n",
       "    .dataframe thead th {\n",
       "        text-align: right;\n",
       "    }\n",
       "</style>\n",
       "<table border=\"1\" class=\"dataframe\">\n",
       "  <thead>\n",
       "    <tr style=\"text-align: right;\">\n",
       "      <th></th>\n",
       "      <th>first</th>\n",
       "      <th>last</th>\n",
       "      <th>email</th>\n",
       "      <th>age</th>\n",
       "    </tr>\n",
       "  </thead>\n",
       "  <tbody>\n",
       "    <tr>\n",
       "      <th>0</th>\n",
       "      <td>False</td>\n",
       "      <td>False</td>\n",
       "      <td>False</td>\n",
       "      <td>False</td>\n",
       "    </tr>\n",
       "    <tr>\n",
       "      <th>1</th>\n",
       "      <td>False</td>\n",
       "      <td>False</td>\n",
       "      <td>False</td>\n",
       "      <td>False</td>\n",
       "    </tr>\n",
       "    <tr>\n",
       "      <th>2</th>\n",
       "      <td>False</td>\n",
       "      <td>False</td>\n",
       "      <td>False</td>\n",
       "      <td>False</td>\n",
       "    </tr>\n",
       "    <tr>\n",
       "      <th>3</th>\n",
       "      <td>False</td>\n",
       "      <td>False</td>\n",
       "      <td>True</td>\n",
       "      <td>False</td>\n",
       "    </tr>\n",
       "    <tr>\n",
       "      <th>4</th>\n",
       "      <td>True</td>\n",
       "      <td>True</td>\n",
       "      <td>True</td>\n",
       "      <td>True</td>\n",
       "    </tr>\n",
       "    <tr>\n",
       "      <th>5</th>\n",
       "      <td>True</td>\n",
       "      <td>True</td>\n",
       "      <td>False</td>\n",
       "      <td>True</td>\n",
       "    </tr>\n",
       "    <tr>\n",
       "      <th>6</th>\n",
       "      <td>True</td>\n",
       "      <td>True</td>\n",
       "      <td>True</td>\n",
       "      <td>True</td>\n",
       "    </tr>\n",
       "  </tbody>\n",
       "</table>\n",
       "</div>"
      ],
      "text/plain": [
       "   first   last  email    age\n",
       "0  False  False  False  False\n",
       "1  False  False  False  False\n",
       "2  False  False  False  False\n",
       "3  False  False   True  False\n",
       "4   True   True   True   True\n",
       "5   True   True  False   True\n",
       "6   True   True   True   True"
      ]
     },
     "execution_count": 18,
     "metadata": {},
     "output_type": "execute_result"
    }
   ],
   "source": [
    "df.isna()"
   ]
  },
  {
   "cell_type": "code",
   "execution_count": 19,
   "id": "21f8090c-ce9f-4b49-91a6-11ea1dd08ac2",
   "metadata": {},
   "outputs": [
    {
     "data": {
      "text/html": [
       "<div>\n",
       "<style scoped>\n",
       "    .dataframe tbody tr th:only-of-type {\n",
       "        vertical-align: middle;\n",
       "    }\n",
       "\n",
       "    .dataframe tbody tr th {\n",
       "        vertical-align: top;\n",
       "    }\n",
       "\n",
       "    .dataframe thead th {\n",
       "        text-align: right;\n",
       "    }\n",
       "</style>\n",
       "<table border=\"1\" class=\"dataframe\">\n",
       "  <thead>\n",
       "    <tr style=\"text-align: right;\">\n",
       "      <th></th>\n",
       "      <th>first</th>\n",
       "      <th>last</th>\n",
       "      <th>email</th>\n",
       "      <th>age</th>\n",
       "    </tr>\n",
       "  </thead>\n",
       "  <tbody>\n",
       "    <tr>\n",
       "      <th>0</th>\n",
       "      <td>dudung</td>\n",
       "      <td>xuherman</td>\n",
       "      <td>dudung@gmail.com</td>\n",
       "      <td>33</td>\n",
       "    </tr>\n",
       "    <tr>\n",
       "      <th>1</th>\n",
       "      <td>eman</td>\n",
       "      <td>guherman</td>\n",
       "      <td>emangnye@gmail.com</td>\n",
       "      <td>55</td>\n",
       "    </tr>\n",
       "    <tr>\n",
       "      <th>2</th>\n",
       "      <td>Bobi</td>\n",
       "      <td>dubobi</td>\n",
       "      <td>bobie2yahoo.com</td>\n",
       "      <td>63</td>\n",
       "    </tr>\n",
       "    <tr>\n",
       "      <th>3</th>\n",
       "      <td>Saya</td>\n",
       "      <td>Kayaraya</td>\n",
       "      <td>None</td>\n",
       "      <td>36</td>\n",
       "    </tr>\n",
       "    <tr>\n",
       "      <th>4</th>\n",
       "      <td>NaN</td>\n",
       "      <td>NaN</td>\n",
       "      <td>NaN</td>\n",
       "      <td>None</td>\n",
       "    </tr>\n",
       "    <tr>\n",
       "      <th>5</th>\n",
       "      <td>None</td>\n",
       "      <td>NaN</td>\n",
       "      <td>sayakayaraya@gmail.com</td>\n",
       "      <td>None</td>\n",
       "    </tr>\n",
       "    <tr>\n",
       "      <th>6</th>\n",
       "      <td>NaN</td>\n",
       "      <td>NaN</td>\n",
       "      <td>NaN</td>\n",
       "      <td>NaN</td>\n",
       "    </tr>\n",
       "  </tbody>\n",
       "</table>\n",
       "</div>"
      ],
      "text/plain": [
       "    first      last                   email   age\n",
       "0  dudung  xuherman        dudung@gmail.com    33\n",
       "1    eman  guherman      emangnye@gmail.com    55\n",
       "2    Bobi    dubobi         bobie2yahoo.com    63\n",
       "3    Saya  Kayaraya                    None    36\n",
       "4     NaN       NaN                     NaN  None\n",
       "5    None       NaN  sayakayaraya@gmail.com  None\n",
       "6     NaN       NaN                     NaN   NaN"
      ]
     },
     "execution_count": 19,
     "metadata": {},
     "output_type": "execute_result"
    }
   ],
   "source": [
    "df"
   ]
  },
  {
   "cell_type": "markdown",
   "id": "49edb106-127f-4d3c-b283-31a202ddc671",
   "metadata": {},
   "source": [
    "#### kita ingin mengganti NaN dan None menjadi kata \"Ga ada data\""
   ]
  },
  {
   "cell_type": "code",
   "execution_count": 20,
   "id": "d6b93533-60cc-4964-9d88-0b1f9998617b",
   "metadata": {},
   "outputs": [
    {
     "data": {
      "text/html": [
       "<div>\n",
       "<style scoped>\n",
       "    .dataframe tbody tr th:only-of-type {\n",
       "        vertical-align: middle;\n",
       "    }\n",
       "\n",
       "    .dataframe tbody tr th {\n",
       "        vertical-align: top;\n",
       "    }\n",
       "\n",
       "    .dataframe thead th {\n",
       "        text-align: right;\n",
       "    }\n",
       "</style>\n",
       "<table border=\"1\" class=\"dataframe\">\n",
       "  <thead>\n",
       "    <tr style=\"text-align: right;\">\n",
       "      <th></th>\n",
       "      <th>first</th>\n",
       "      <th>last</th>\n",
       "      <th>email</th>\n",
       "      <th>age</th>\n",
       "    </tr>\n",
       "  </thead>\n",
       "  <tbody>\n",
       "    <tr>\n",
       "      <th>0</th>\n",
       "      <td>dudung</td>\n",
       "      <td>xuherman</td>\n",
       "      <td>dudung@gmail.com</td>\n",
       "      <td>33</td>\n",
       "    </tr>\n",
       "    <tr>\n",
       "      <th>1</th>\n",
       "      <td>eman</td>\n",
       "      <td>guherman</td>\n",
       "      <td>emangnye@gmail.com</td>\n",
       "      <td>55</td>\n",
       "    </tr>\n",
       "    <tr>\n",
       "      <th>2</th>\n",
       "      <td>Bobi</td>\n",
       "      <td>dubobi</td>\n",
       "      <td>bobie2yahoo.com</td>\n",
       "      <td>63</td>\n",
       "    </tr>\n",
       "    <tr>\n",
       "      <th>3</th>\n",
       "      <td>Saya</td>\n",
       "      <td>Kayaraya</td>\n",
       "      <td>Ga ada data</td>\n",
       "      <td>36</td>\n",
       "    </tr>\n",
       "    <tr>\n",
       "      <th>4</th>\n",
       "      <td>Ga ada data</td>\n",
       "      <td>Ga ada data</td>\n",
       "      <td>Ga ada data</td>\n",
       "      <td>Ga ada data</td>\n",
       "    </tr>\n",
       "    <tr>\n",
       "      <th>5</th>\n",
       "      <td>Ga ada data</td>\n",
       "      <td>Ga ada data</td>\n",
       "      <td>sayakayaraya@gmail.com</td>\n",
       "      <td>Ga ada data</td>\n",
       "    </tr>\n",
       "    <tr>\n",
       "      <th>6</th>\n",
       "      <td>Ga ada data</td>\n",
       "      <td>Ga ada data</td>\n",
       "      <td>Ga ada data</td>\n",
       "      <td>Ga ada data</td>\n",
       "    </tr>\n",
       "  </tbody>\n",
       "</table>\n",
       "</div>"
      ],
      "text/plain": [
       "         first         last                   email          age\n",
       "0       dudung     xuherman        dudung@gmail.com           33\n",
       "1         eman     guherman      emangnye@gmail.com           55\n",
       "2         Bobi       dubobi         bobie2yahoo.com           63\n",
       "3         Saya     Kayaraya             Ga ada data           36\n",
       "4  Ga ada data  Ga ada data             Ga ada data  Ga ada data\n",
       "5  Ga ada data  Ga ada data  sayakayaraya@gmail.com  Ga ada data\n",
       "6  Ga ada data  Ga ada data             Ga ada data  Ga ada data"
      ]
     },
     "execution_count": 20,
     "metadata": {},
     "output_type": "execute_result"
    }
   ],
   "source": [
    "df.fillna('Ga ada data')"
   ]
  },
  {
   "cell_type": "markdown",
   "id": "f970058f-6266-43ad-808d-fccfe1d505cc",
   "metadata": {},
   "source": [
    "#### maka kolom yg berisi True (pada baris ke 18) akan diisi dengan \"Ga ada data\"  "
   ]
  },
  {
   "cell_type": "markdown",
   "id": "68f9b515-04c4-4d0f-b5fe-a59e39226d87",
   "metadata": {},
   "source": [
    "#### jika kita ganti dengan 0 juga bisa"
   ]
  },
  {
   "cell_type": "code",
   "execution_count": 21,
   "id": "9d3025c7-cf18-4218-9f78-fb9df045df58",
   "metadata": {},
   "outputs": [
    {
     "data": {
      "text/html": [
       "<div>\n",
       "<style scoped>\n",
       "    .dataframe tbody tr th:only-of-type {\n",
       "        vertical-align: middle;\n",
       "    }\n",
       "\n",
       "    .dataframe tbody tr th {\n",
       "        vertical-align: top;\n",
       "    }\n",
       "\n",
       "    .dataframe thead th {\n",
       "        text-align: right;\n",
       "    }\n",
       "</style>\n",
       "<table border=\"1\" class=\"dataframe\">\n",
       "  <thead>\n",
       "    <tr style=\"text-align: right;\">\n",
       "      <th></th>\n",
       "      <th>first</th>\n",
       "      <th>last</th>\n",
       "      <th>email</th>\n",
       "      <th>age</th>\n",
       "    </tr>\n",
       "  </thead>\n",
       "  <tbody>\n",
       "    <tr>\n",
       "      <th>0</th>\n",
       "      <td>dudung</td>\n",
       "      <td>xuherman</td>\n",
       "      <td>dudung@gmail.com</td>\n",
       "      <td>33</td>\n",
       "    </tr>\n",
       "    <tr>\n",
       "      <th>1</th>\n",
       "      <td>eman</td>\n",
       "      <td>guherman</td>\n",
       "      <td>emangnye@gmail.com</td>\n",
       "      <td>55</td>\n",
       "    </tr>\n",
       "    <tr>\n",
       "      <th>2</th>\n",
       "      <td>Bobi</td>\n",
       "      <td>dubobi</td>\n",
       "      <td>bobie2yahoo.com</td>\n",
       "      <td>63</td>\n",
       "    </tr>\n",
       "    <tr>\n",
       "      <th>3</th>\n",
       "      <td>Saya</td>\n",
       "      <td>Kayaraya</td>\n",
       "      <td>0</td>\n",
       "      <td>36</td>\n",
       "    </tr>\n",
       "    <tr>\n",
       "      <th>4</th>\n",
       "      <td>0</td>\n",
       "      <td>0</td>\n",
       "      <td>0</td>\n",
       "      <td>0</td>\n",
       "    </tr>\n",
       "    <tr>\n",
       "      <th>5</th>\n",
       "      <td>0</td>\n",
       "      <td>0</td>\n",
       "      <td>sayakayaraya@gmail.com</td>\n",
       "      <td>0</td>\n",
       "    </tr>\n",
       "    <tr>\n",
       "      <th>6</th>\n",
       "      <td>0</td>\n",
       "      <td>0</td>\n",
       "      <td>0</td>\n",
       "      <td>0</td>\n",
       "    </tr>\n",
       "  </tbody>\n",
       "</table>\n",
       "</div>"
      ],
      "text/plain": [
       "    first      last                   email age\n",
       "0  dudung  xuherman        dudung@gmail.com  33\n",
       "1    eman  guherman      emangnye@gmail.com  55\n",
       "2    Bobi    dubobi         bobie2yahoo.com  63\n",
       "3    Saya  Kayaraya                       0  36\n",
       "4       0         0                       0   0\n",
       "5       0         0  sayakayaraya@gmail.com   0\n",
       "6       0         0                       0   0"
      ]
     },
     "execution_count": 21,
     "metadata": {},
     "output_type": "execute_result"
    }
   ],
   "source": [
    "df.fillna(0)"
   ]
  },
  {
   "cell_type": "markdown",
   "id": "9a816b2e-5b8f-4843-b613-2622019f62af",
   "metadata": {},
   "source": [
    "#### Kita ingin mengetahui rata2 age (umur), tapi kita harus periksa apakah angka di kolom age itu integer"
   ]
  },
  {
   "cell_type": "code",
   "execution_count": 22,
   "id": "bb502a0a-54e6-4507-918d-1ea660fd53d2",
   "metadata": {},
   "outputs": [
    {
     "data": {
      "text/plain": [
       "first    object\n",
       "last     object\n",
       "email    object\n",
       "age      object\n",
       "dtype: object"
      ]
     },
     "execution_count": 22,
     "metadata": {},
     "output_type": "execute_result"
    }
   ],
   "source": [
    "df.dtypes"
   ]
  },
  {
   "attachments": {
    "bd7e3313-f54b-41a8-9674-4a4525384b04.png": {
     "image/png": "[encoded data removed]"
    }
   },
   "cell_type": "markdown",
   "id": "ed7a7d98-ec9b-4edc-a17a-d1e3500fd12c",
   "metadata": {},
   "source": [
    "![image.png](attachment:bd7e3313-f54b-41a8-9674-4a4525384b04.png)"
   ]
  },
  {
   "cell_type": "markdown",
   "id": "b5039aff-599c-4226-912d-350e7430a08a",
   "metadata": {},
   "source": [
    "#### ternyata object itu sama dengan string (huruf/text) di python"
   ]
  },
  {
   "cell_type": "markdown",
   "id": "a30e514b-7676-49bd-80fb-f13579622623",
   "metadata": {},
   "source": [
    "#### kita ubah dulu menjadi float pada kolom age"
   ]
  },
  {
   "cell_type": "code",
   "execution_count": 23,
   "id": "4bf8dcd4-9fed-461a-a1dc-fb81146fa6d1",
   "metadata": {},
   "outputs": [],
   "source": [
    "df['age'] = df['age'].astype(float)"
   ]
  },
  {
   "cell_type": "markdown",
   "id": "d24da7c5-302f-4a51-878e-7accbd293166",
   "metadata": {},
   "source": [
    "Kita periksa apaklah sudah berubah"
   ]
  },
  {
   "cell_type": "code",
   "execution_count": 24,
   "id": "fea2ce08-c4f4-40f1-9f77-592990807f53",
   "metadata": {},
   "outputs": [
    {
     "data": {
      "text/plain": [
       "first     object\n",
       "last      object\n",
       "email     object\n",
       "age      float64\n",
       "dtype: object"
      ]
     },
     "execution_count": 24,
     "metadata": {},
     "output_type": "execute_result"
    }
   ],
   "source": [
    "df.dtypes"
   ]
  },
  {
   "cell_type": "markdown",
   "id": "e6524026-7ccf-4e92-bffc-0965143bceb3",
   "metadata": {},
   "source": [
    "Sekarang kita bisa mencari nilai rata-rata umur"
   ]
  },
  {
   "cell_type": "code",
   "execution_count": 25,
   "id": "a125550c-969c-4ba5-8812-acecf79b591f",
   "metadata": {},
   "outputs": [
    {
     "data": {
      "text/plain": [
       "46.75"
      ]
     },
     "execution_count": 25,
     "metadata": {},
     "output_type": "execute_result"
    }
   ],
   "source": [
    "df['age'].mean()"
   ]
  },
  {
   "cell_type": "markdown",
   "id": "7dc18017-f821-4dd9-87da-d24058bee73a",
   "metadata": {},
   "source": [
    "#### kita ke Panda demo"
   ]
  },
  {
   "cell_type": "code",
   "execution_count": null,
   "id": "fe4856d3-4e2a-4068-bd2a-f41e8966ea1b",
   "metadata": {},
   "outputs": [],
   "source": []
  }
 ],
 "metadata": {
  "kernelspec": {
   "display_name": "Python 3 (ipykernel)",
   "language": "python",
   "name": "python3"
  },
  "language_info": {
   "codemirror_mode": {
    "name": "ipython",
    "version": 3
   },
   "file_extension": ".py",
   "mimetype": "text/x-python",
   "name": "python",
   "nbconvert_exporter": "python",
   "pygments_lexer": "ipython3",
   "version": "3.12.4"
  }
 },
 "nbformat": 4,
 "nbformat_minor": 5
}
